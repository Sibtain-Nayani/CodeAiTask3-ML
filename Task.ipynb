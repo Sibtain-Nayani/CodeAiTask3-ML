{
 "cells": [
  {
   "metadata": {},
   "cell_type": "markdown",
   "source": "## Data Inspection",
   "id": "c4238d2689ea729a"
  },
  {
   "cell_type": "code",
   "id": "21c49302-5934-47ba-a2a9-fc338981f2eb",
   "metadata": {
    "ExecuteTime": {
     "end_time": "2025-08-19T20:21:22.042721Z",
     "start_time": "2025-08-19T20:21:22.034310Z"
    }
   },
   "source": [
    "\n",
    "import numpy as np\n",
    "import pandas as pd\n",
    "import category_encoders as ce\n",
    "import matplotlib.pyplot as plt\n",
    "import seaborn as sns\n",
    "import statistics\n",
    "import plotly.express as px\n",
    "from sklearn.linear_model import LinearRegression\n",
    "from sklearn.model_selection import train_test_split\n",
    "from sklearn.metrics import mean_absolute_error, mean_squared_error, r2_score\n"
   ],
   "outputs": [],
   "execution_count": 203
  },
  {
   "cell_type": "code",
   "id": "9d148b77-d9c0-42b0-a541-7f046ae97d26",
   "metadata": {
    "ExecuteTime": {
     "end_time": "2025-08-19T20:21:22.102745Z",
     "start_time": "2025-08-19T20:21:22.069191Z"
    }
   },
   "source": [
    "df = pd.read_csv(\"day.csv\")\n",
    "df.head()"
   ],
   "outputs": [
    {
     "data": {
      "text/plain": [
       "   instant      dteday  season  yr  mnth  holiday  weekday  workingday  \\\n",
       "0        1  2011-01-01       1   0     1        0        6           0   \n",
       "1        2  2011-01-02       1   0     1        0        0           0   \n",
       "2        3  2011-01-03       1   0     1        0        1           1   \n",
       "3        4  2011-01-04       1   0     1        0        2           1   \n",
       "4        5  2011-01-05       1   0     1        0        3           1   \n",
       "\n",
       "   weathersit      temp     atemp       hum  windspeed  casual  registered  \\\n",
       "0           2  0.344167  0.363625  0.805833   0.160446     331         654   \n",
       "1           2  0.363478  0.353739  0.696087   0.248539     131         670   \n",
       "2           1  0.196364  0.189405  0.437273   0.248309     120        1229   \n",
       "3           1  0.200000  0.212122  0.590435   0.160296     108        1454   \n",
       "4           1  0.226957  0.229270  0.436957   0.186900      82        1518   \n",
       "\n",
       "    cnt  \n",
       "0   985  \n",
       "1   801  \n",
       "2  1349  \n",
       "3  1562  \n",
       "4  1600  "
      ],
      "text/html": [
       "<div>\n",
       "<style scoped>\n",
       "    .dataframe tbody tr th:only-of-type {\n",
       "        vertical-align: middle;\n",
       "    }\n",
       "\n",
       "    .dataframe tbody tr th {\n",
       "        vertical-align: top;\n",
       "    }\n",
       "\n",
       "    .dataframe thead th {\n",
       "        text-align: right;\n",
       "    }\n",
       "</style>\n",
       "<table border=\"1\" class=\"dataframe\">\n",
       "  <thead>\n",
       "    <tr style=\"text-align: right;\">\n",
       "      <th></th>\n",
       "      <th>instant</th>\n",
       "      <th>dteday</th>\n",
       "      <th>season</th>\n",
       "      <th>yr</th>\n",
       "      <th>mnth</th>\n",
       "      <th>holiday</th>\n",
       "      <th>weekday</th>\n",
       "      <th>workingday</th>\n",
       "      <th>weathersit</th>\n",
       "      <th>temp</th>\n",
       "      <th>atemp</th>\n",
       "      <th>hum</th>\n",
       "      <th>windspeed</th>\n",
       "      <th>casual</th>\n",
       "      <th>registered</th>\n",
       "      <th>cnt</th>\n",
       "    </tr>\n",
       "  </thead>\n",
       "  <tbody>\n",
       "    <tr>\n",
       "      <th>0</th>\n",
       "      <td>1</td>\n",
       "      <td>2011-01-01</td>\n",
       "      <td>1</td>\n",
       "      <td>0</td>\n",
       "      <td>1</td>\n",
       "      <td>0</td>\n",
       "      <td>6</td>\n",
       "      <td>0</td>\n",
       "      <td>2</td>\n",
       "      <td>0.344167</td>\n",
       "      <td>0.363625</td>\n",
       "      <td>0.805833</td>\n",
       "      <td>0.160446</td>\n",
       "      <td>331</td>\n",
       "      <td>654</td>\n",
       "      <td>985</td>\n",
       "    </tr>\n",
       "    <tr>\n",
       "      <th>1</th>\n",
       "      <td>2</td>\n",
       "      <td>2011-01-02</td>\n",
       "      <td>1</td>\n",
       "      <td>0</td>\n",
       "      <td>1</td>\n",
       "      <td>0</td>\n",
       "      <td>0</td>\n",
       "      <td>0</td>\n",
       "      <td>2</td>\n",
       "      <td>0.363478</td>\n",
       "      <td>0.353739</td>\n",
       "      <td>0.696087</td>\n",
       "      <td>0.248539</td>\n",
       "      <td>131</td>\n",
       "      <td>670</td>\n",
       "      <td>801</td>\n",
       "    </tr>\n",
       "    <tr>\n",
       "      <th>2</th>\n",
       "      <td>3</td>\n",
       "      <td>2011-01-03</td>\n",
       "      <td>1</td>\n",
       "      <td>0</td>\n",
       "      <td>1</td>\n",
       "      <td>0</td>\n",
       "      <td>1</td>\n",
       "      <td>1</td>\n",
       "      <td>1</td>\n",
       "      <td>0.196364</td>\n",
       "      <td>0.189405</td>\n",
       "      <td>0.437273</td>\n",
       "      <td>0.248309</td>\n",
       "      <td>120</td>\n",
       "      <td>1229</td>\n",
       "      <td>1349</td>\n",
       "    </tr>\n",
       "    <tr>\n",
       "      <th>3</th>\n",
       "      <td>4</td>\n",
       "      <td>2011-01-04</td>\n",
       "      <td>1</td>\n",
       "      <td>0</td>\n",
       "      <td>1</td>\n",
       "      <td>0</td>\n",
       "      <td>2</td>\n",
       "      <td>1</td>\n",
       "      <td>1</td>\n",
       "      <td>0.200000</td>\n",
       "      <td>0.212122</td>\n",
       "      <td>0.590435</td>\n",
       "      <td>0.160296</td>\n",
       "      <td>108</td>\n",
       "      <td>1454</td>\n",
       "      <td>1562</td>\n",
       "    </tr>\n",
       "    <tr>\n",
       "      <th>4</th>\n",
       "      <td>5</td>\n",
       "      <td>2011-01-05</td>\n",
       "      <td>1</td>\n",
       "      <td>0</td>\n",
       "      <td>1</td>\n",
       "      <td>0</td>\n",
       "      <td>3</td>\n",
       "      <td>1</td>\n",
       "      <td>1</td>\n",
       "      <td>0.226957</td>\n",
       "      <td>0.229270</td>\n",
       "      <td>0.436957</td>\n",
       "      <td>0.186900</td>\n",
       "      <td>82</td>\n",
       "      <td>1518</td>\n",
       "      <td>1600</td>\n",
       "    </tr>\n",
       "  </tbody>\n",
       "</table>\n",
       "</div>"
      ]
     },
     "execution_count": 204,
     "metadata": {},
     "output_type": "execute_result"
    }
   ],
   "execution_count": 204
  },
  {
   "cell_type": "code",
   "id": "0b3e14e3-d5e9-47bb-a0f3-3b0536357a72",
   "metadata": {
    "ExecuteTime": {
     "end_time": "2025-08-19T20:21:22.235139Z",
     "start_time": "2025-08-19T20:21:22.220878Z"
    }
   },
   "source": "df.info()",
   "outputs": [
    {
     "name": "stdout",
     "output_type": "stream",
     "text": [
      "<class 'pandas.core.frame.DataFrame'>\n",
      "RangeIndex: 731 entries, 0 to 730\n",
      "Data columns (total 16 columns):\n",
      " #   Column      Non-Null Count  Dtype  \n",
      "---  ------      --------------  -----  \n",
      " 0   instant     731 non-null    int64  \n",
      " 1   dteday      731 non-null    object \n",
      " 2   season      731 non-null    int64  \n",
      " 3   yr          731 non-null    int64  \n",
      " 4   mnth        731 non-null    int64  \n",
      " 5   holiday     731 non-null    int64  \n",
      " 6   weekday     731 non-null    int64  \n",
      " 7   workingday  731 non-null    int64  \n",
      " 8   weathersit  731 non-null    int64  \n",
      " 9   temp        731 non-null    float64\n",
      " 10  atemp       731 non-null    float64\n",
      " 11  hum         731 non-null    float64\n",
      " 12  windspeed   731 non-null    float64\n",
      " 13  casual      731 non-null    int64  \n",
      " 14  registered  731 non-null    int64  \n",
      " 15  cnt         731 non-null    int64  \n",
      "dtypes: float64(4), int64(11), object(1)\n",
      "memory usage: 91.5+ KB\n"
     ]
    }
   ],
   "execution_count": 205
  },
  {
   "metadata": {
    "ExecuteTime": {
     "end_time": "2025-08-19T20:21:22.503627Z",
     "start_time": "2025-08-19T20:21:22.417857Z"
    }
   },
   "cell_type": "code",
   "source": "df.describe()",
   "id": "896f874dcace78a5",
   "outputs": [
    {
     "data": {
      "text/plain": [
       "          instant      season          yr        mnth     holiday     weekday  \\\n",
       "count  731.000000  731.000000  731.000000  731.000000  731.000000  731.000000   \n",
       "mean   366.000000    2.496580    0.500684    6.519836    0.028728    2.997264   \n",
       "std    211.165812    1.110807    0.500342    3.451913    0.167155    2.004787   \n",
       "min      1.000000    1.000000    0.000000    1.000000    0.000000    0.000000   \n",
       "25%    183.500000    2.000000    0.000000    4.000000    0.000000    1.000000   \n",
       "50%    366.000000    3.000000    1.000000    7.000000    0.000000    3.000000   \n",
       "75%    548.500000    3.000000    1.000000   10.000000    0.000000    5.000000   \n",
       "max    731.000000    4.000000    1.000000   12.000000    1.000000    6.000000   \n",
       "\n",
       "       workingday  weathersit        temp       atemp         hum   windspeed  \\\n",
       "count  731.000000  731.000000  731.000000  731.000000  731.000000  731.000000   \n",
       "mean     0.683995    1.395349    0.495385    0.474354    0.627894    0.190486   \n",
       "std      0.465233    0.544894    0.183051    0.162961    0.142429    0.077498   \n",
       "min      0.000000    1.000000    0.059130    0.079070    0.000000    0.022392   \n",
       "25%      0.000000    1.000000    0.337083    0.337842    0.520000    0.134950   \n",
       "50%      1.000000    1.000000    0.498333    0.486733    0.626667    0.180975   \n",
       "75%      1.000000    2.000000    0.655417    0.608602    0.730209    0.233214   \n",
       "max      1.000000    3.000000    0.861667    0.840896    0.972500    0.507463   \n",
       "\n",
       "            casual   registered          cnt  \n",
       "count   731.000000   731.000000   731.000000  \n",
       "mean    848.176471  3656.172367  4504.348837  \n",
       "std     686.622488  1560.256377  1937.211452  \n",
       "min       2.000000    20.000000    22.000000  \n",
       "25%     315.500000  2497.000000  3152.000000  \n",
       "50%     713.000000  3662.000000  4548.000000  \n",
       "75%    1096.000000  4776.500000  5956.000000  \n",
       "max    3410.000000  6946.000000  8714.000000  "
      ],
      "text/html": [
       "<div>\n",
       "<style scoped>\n",
       "    .dataframe tbody tr th:only-of-type {\n",
       "        vertical-align: middle;\n",
       "    }\n",
       "\n",
       "    .dataframe tbody tr th {\n",
       "        vertical-align: top;\n",
       "    }\n",
       "\n",
       "    .dataframe thead th {\n",
       "        text-align: right;\n",
       "    }\n",
       "</style>\n",
       "<table border=\"1\" class=\"dataframe\">\n",
       "  <thead>\n",
       "    <tr style=\"text-align: right;\">\n",
       "      <th></th>\n",
       "      <th>instant</th>\n",
       "      <th>season</th>\n",
       "      <th>yr</th>\n",
       "      <th>mnth</th>\n",
       "      <th>holiday</th>\n",
       "      <th>weekday</th>\n",
       "      <th>workingday</th>\n",
       "      <th>weathersit</th>\n",
       "      <th>temp</th>\n",
       "      <th>atemp</th>\n",
       "      <th>hum</th>\n",
       "      <th>windspeed</th>\n",
       "      <th>casual</th>\n",
       "      <th>registered</th>\n",
       "      <th>cnt</th>\n",
       "    </tr>\n",
       "  </thead>\n",
       "  <tbody>\n",
       "    <tr>\n",
       "      <th>count</th>\n",
       "      <td>731.000000</td>\n",
       "      <td>731.000000</td>\n",
       "      <td>731.000000</td>\n",
       "      <td>731.000000</td>\n",
       "      <td>731.000000</td>\n",
       "      <td>731.000000</td>\n",
       "      <td>731.000000</td>\n",
       "      <td>731.000000</td>\n",
       "      <td>731.000000</td>\n",
       "      <td>731.000000</td>\n",
       "      <td>731.000000</td>\n",
       "      <td>731.000000</td>\n",
       "      <td>731.000000</td>\n",
       "      <td>731.000000</td>\n",
       "      <td>731.000000</td>\n",
       "    </tr>\n",
       "    <tr>\n",
       "      <th>mean</th>\n",
       "      <td>366.000000</td>\n",
       "      <td>2.496580</td>\n",
       "      <td>0.500684</td>\n",
       "      <td>6.519836</td>\n",
       "      <td>0.028728</td>\n",
       "      <td>2.997264</td>\n",
       "      <td>0.683995</td>\n",
       "      <td>1.395349</td>\n",
       "      <td>0.495385</td>\n",
       "      <td>0.474354</td>\n",
       "      <td>0.627894</td>\n",
       "      <td>0.190486</td>\n",
       "      <td>848.176471</td>\n",
       "      <td>3656.172367</td>\n",
       "      <td>4504.348837</td>\n",
       "    </tr>\n",
       "    <tr>\n",
       "      <th>std</th>\n",
       "      <td>211.165812</td>\n",
       "      <td>1.110807</td>\n",
       "      <td>0.500342</td>\n",
       "      <td>3.451913</td>\n",
       "      <td>0.167155</td>\n",
       "      <td>2.004787</td>\n",
       "      <td>0.465233</td>\n",
       "      <td>0.544894</td>\n",
       "      <td>0.183051</td>\n",
       "      <td>0.162961</td>\n",
       "      <td>0.142429</td>\n",
       "      <td>0.077498</td>\n",
       "      <td>686.622488</td>\n",
       "      <td>1560.256377</td>\n",
       "      <td>1937.211452</td>\n",
       "    </tr>\n",
       "    <tr>\n",
       "      <th>min</th>\n",
       "      <td>1.000000</td>\n",
       "      <td>1.000000</td>\n",
       "      <td>0.000000</td>\n",
       "      <td>1.000000</td>\n",
       "      <td>0.000000</td>\n",
       "      <td>0.000000</td>\n",
       "      <td>0.000000</td>\n",
       "      <td>1.000000</td>\n",
       "      <td>0.059130</td>\n",
       "      <td>0.079070</td>\n",
       "      <td>0.000000</td>\n",
       "      <td>0.022392</td>\n",
       "      <td>2.000000</td>\n",
       "      <td>20.000000</td>\n",
       "      <td>22.000000</td>\n",
       "    </tr>\n",
       "    <tr>\n",
       "      <th>25%</th>\n",
       "      <td>183.500000</td>\n",
       "      <td>2.000000</td>\n",
       "      <td>0.000000</td>\n",
       "      <td>4.000000</td>\n",
       "      <td>0.000000</td>\n",
       "      <td>1.000000</td>\n",
       "      <td>0.000000</td>\n",
       "      <td>1.000000</td>\n",
       "      <td>0.337083</td>\n",
       "      <td>0.337842</td>\n",
       "      <td>0.520000</td>\n",
       "      <td>0.134950</td>\n",
       "      <td>315.500000</td>\n",
       "      <td>2497.000000</td>\n",
       "      <td>3152.000000</td>\n",
       "    </tr>\n",
       "    <tr>\n",
       "      <th>50%</th>\n",
       "      <td>366.000000</td>\n",
       "      <td>3.000000</td>\n",
       "      <td>1.000000</td>\n",
       "      <td>7.000000</td>\n",
       "      <td>0.000000</td>\n",
       "      <td>3.000000</td>\n",
       "      <td>1.000000</td>\n",
       "      <td>1.000000</td>\n",
       "      <td>0.498333</td>\n",
       "      <td>0.486733</td>\n",
       "      <td>0.626667</td>\n",
       "      <td>0.180975</td>\n",
       "      <td>713.000000</td>\n",
       "      <td>3662.000000</td>\n",
       "      <td>4548.000000</td>\n",
       "    </tr>\n",
       "    <tr>\n",
       "      <th>75%</th>\n",
       "      <td>548.500000</td>\n",
       "      <td>3.000000</td>\n",
       "      <td>1.000000</td>\n",
       "      <td>10.000000</td>\n",
       "      <td>0.000000</td>\n",
       "      <td>5.000000</td>\n",
       "      <td>1.000000</td>\n",
       "      <td>2.000000</td>\n",
       "      <td>0.655417</td>\n",
       "      <td>0.608602</td>\n",
       "      <td>0.730209</td>\n",
       "      <td>0.233214</td>\n",
       "      <td>1096.000000</td>\n",
       "      <td>4776.500000</td>\n",
       "      <td>5956.000000</td>\n",
       "    </tr>\n",
       "    <tr>\n",
       "      <th>max</th>\n",
       "      <td>731.000000</td>\n",
       "      <td>4.000000</td>\n",
       "      <td>1.000000</td>\n",
       "      <td>12.000000</td>\n",
       "      <td>1.000000</td>\n",
       "      <td>6.000000</td>\n",
       "      <td>1.000000</td>\n",
       "      <td>3.000000</td>\n",
       "      <td>0.861667</td>\n",
       "      <td>0.840896</td>\n",
       "      <td>0.972500</td>\n",
       "      <td>0.507463</td>\n",
       "      <td>3410.000000</td>\n",
       "      <td>6946.000000</td>\n",
       "      <td>8714.000000</td>\n",
       "    </tr>\n",
       "  </tbody>\n",
       "</table>\n",
       "</div>"
      ]
     },
     "execution_count": 206,
     "metadata": {},
     "output_type": "execute_result"
    }
   ],
   "execution_count": 206
  },
  {
   "metadata": {
    "ExecuteTime": {
     "end_time": "2025-08-19T20:21:22.702876Z",
     "start_time": "2025-08-19T20:21:22.685199Z"
    }
   },
   "cell_type": "code",
   "source": [
    "df.dteday = pd.to_datetime(df.dteday,errors=\"coerce\")\n",
    "df.info()"
   ],
   "id": "7bf88c972f91e11e",
   "outputs": [
    {
     "name": "stdout",
     "output_type": "stream",
     "text": [
      "<class 'pandas.core.frame.DataFrame'>\n",
      "RangeIndex: 731 entries, 0 to 730\n",
      "Data columns (total 16 columns):\n",
      " #   Column      Non-Null Count  Dtype         \n",
      "---  ------      --------------  -----         \n",
      " 0   instant     731 non-null    int64         \n",
      " 1   dteday      731 non-null    datetime64[ns]\n",
      " 2   season      731 non-null    int64         \n",
      " 3   yr          731 non-null    int64         \n",
      " 4   mnth        731 non-null    int64         \n",
      " 5   holiday     731 non-null    int64         \n",
      " 6   weekday     731 non-null    int64         \n",
      " 7   workingday  731 non-null    int64         \n",
      " 8   weathersit  731 non-null    int64         \n",
      " 9   temp        731 non-null    float64       \n",
      " 10  atemp       731 non-null    float64       \n",
      " 11  hum         731 non-null    float64       \n",
      " 12  windspeed   731 non-null    float64       \n",
      " 13  casual      731 non-null    int64         \n",
      " 14  registered  731 non-null    int64         \n",
      " 15  cnt         731 non-null    int64         \n",
      "dtypes: datetime64[ns](1), float64(4), int64(11)\n",
      "memory usage: 91.5 KB\n"
     ]
    }
   ],
   "execution_count": 207
  },
  {
   "metadata": {
    "ExecuteTime": {
     "end_time": "2025-08-19T20:21:22.933812Z",
     "start_time": "2025-08-19T20:21:22.890565Z"
    }
   },
   "cell_type": "code",
   "source": [
    "dummy_df = pd.get_dummies(df,columns=['season', 'mnth', 'weekday', 'weathersit', 'yr'],drop_first=True)\n",
    "\n",
    "dummy_df.head()"
   ],
   "id": "e26a7825d57d9dcc",
   "outputs": [
    {
     "data": {
      "text/plain": [
       "   instant     dteday  holiday  workingday      temp     atemp       hum  \\\n",
       "0        1 2011-01-01        0           0  0.344167  0.363625  0.805833   \n",
       "1        2 2011-01-02        0           0  0.363478  0.353739  0.696087   \n",
       "2        3 2011-01-03        0           1  0.196364  0.189405  0.437273   \n",
       "3        4 2011-01-04        0           1  0.200000  0.212122  0.590435   \n",
       "4        5 2011-01-05        0           1  0.226957  0.229270  0.436957   \n",
       "\n",
       "   windspeed  casual  registered  ...  mnth_12  weekday_1  weekday_2  \\\n",
       "0   0.160446     331         654  ...    False      False      False   \n",
       "1   0.248539     131         670  ...    False      False      False   \n",
       "2   0.248309     120        1229  ...    False       True      False   \n",
       "3   0.160296     108        1454  ...    False      False       True   \n",
       "4   0.186900      82        1518  ...    False      False      False   \n",
       "\n",
       "   weekday_3  weekday_4  weekday_5  weekday_6  weathersit_2  weathersit_3  \\\n",
       "0      False      False      False       True          True         False   \n",
       "1      False      False      False      False          True         False   \n",
       "2      False      False      False      False         False         False   \n",
       "3      False      False      False      False         False         False   \n",
       "4       True      False      False      False         False         False   \n",
       "\n",
       "    yr_1  \n",
       "0  False  \n",
       "1  False  \n",
       "2  False  \n",
       "3  False  \n",
       "4  False  \n",
       "\n",
       "[5 rows x 34 columns]"
      ],
      "text/html": [
       "<div>\n",
       "<style scoped>\n",
       "    .dataframe tbody tr th:only-of-type {\n",
       "        vertical-align: middle;\n",
       "    }\n",
       "\n",
       "    .dataframe tbody tr th {\n",
       "        vertical-align: top;\n",
       "    }\n",
       "\n",
       "    .dataframe thead th {\n",
       "        text-align: right;\n",
       "    }\n",
       "</style>\n",
       "<table border=\"1\" class=\"dataframe\">\n",
       "  <thead>\n",
       "    <tr style=\"text-align: right;\">\n",
       "      <th></th>\n",
       "      <th>instant</th>\n",
       "      <th>dteday</th>\n",
       "      <th>holiday</th>\n",
       "      <th>workingday</th>\n",
       "      <th>temp</th>\n",
       "      <th>atemp</th>\n",
       "      <th>hum</th>\n",
       "      <th>windspeed</th>\n",
       "      <th>casual</th>\n",
       "      <th>registered</th>\n",
       "      <th>...</th>\n",
       "      <th>mnth_12</th>\n",
       "      <th>weekday_1</th>\n",
       "      <th>weekday_2</th>\n",
       "      <th>weekday_3</th>\n",
       "      <th>weekday_4</th>\n",
       "      <th>weekday_5</th>\n",
       "      <th>weekday_6</th>\n",
       "      <th>weathersit_2</th>\n",
       "      <th>weathersit_3</th>\n",
       "      <th>yr_1</th>\n",
       "    </tr>\n",
       "  </thead>\n",
       "  <tbody>\n",
       "    <tr>\n",
       "      <th>0</th>\n",
       "      <td>1</td>\n",
       "      <td>2011-01-01</td>\n",
       "      <td>0</td>\n",
       "      <td>0</td>\n",
       "      <td>0.344167</td>\n",
       "      <td>0.363625</td>\n",
       "      <td>0.805833</td>\n",
       "      <td>0.160446</td>\n",
       "      <td>331</td>\n",
       "      <td>654</td>\n",
       "      <td>...</td>\n",
       "      <td>False</td>\n",
       "      <td>False</td>\n",
       "      <td>False</td>\n",
       "      <td>False</td>\n",
       "      <td>False</td>\n",
       "      <td>False</td>\n",
       "      <td>True</td>\n",
       "      <td>True</td>\n",
       "      <td>False</td>\n",
       "      <td>False</td>\n",
       "    </tr>\n",
       "    <tr>\n",
       "      <th>1</th>\n",
       "      <td>2</td>\n",
       "      <td>2011-01-02</td>\n",
       "      <td>0</td>\n",
       "      <td>0</td>\n",
       "      <td>0.363478</td>\n",
       "      <td>0.353739</td>\n",
       "      <td>0.696087</td>\n",
       "      <td>0.248539</td>\n",
       "      <td>131</td>\n",
       "      <td>670</td>\n",
       "      <td>...</td>\n",
       "      <td>False</td>\n",
       "      <td>False</td>\n",
       "      <td>False</td>\n",
       "      <td>False</td>\n",
       "      <td>False</td>\n",
       "      <td>False</td>\n",
       "      <td>False</td>\n",
       "      <td>True</td>\n",
       "      <td>False</td>\n",
       "      <td>False</td>\n",
       "    </tr>\n",
       "    <tr>\n",
       "      <th>2</th>\n",
       "      <td>3</td>\n",
       "      <td>2011-01-03</td>\n",
       "      <td>0</td>\n",
       "      <td>1</td>\n",
       "      <td>0.196364</td>\n",
       "      <td>0.189405</td>\n",
       "      <td>0.437273</td>\n",
       "      <td>0.248309</td>\n",
       "      <td>120</td>\n",
       "      <td>1229</td>\n",
       "      <td>...</td>\n",
       "      <td>False</td>\n",
       "      <td>True</td>\n",
       "      <td>False</td>\n",
       "      <td>False</td>\n",
       "      <td>False</td>\n",
       "      <td>False</td>\n",
       "      <td>False</td>\n",
       "      <td>False</td>\n",
       "      <td>False</td>\n",
       "      <td>False</td>\n",
       "    </tr>\n",
       "    <tr>\n",
       "      <th>3</th>\n",
       "      <td>4</td>\n",
       "      <td>2011-01-04</td>\n",
       "      <td>0</td>\n",
       "      <td>1</td>\n",
       "      <td>0.200000</td>\n",
       "      <td>0.212122</td>\n",
       "      <td>0.590435</td>\n",
       "      <td>0.160296</td>\n",
       "      <td>108</td>\n",
       "      <td>1454</td>\n",
       "      <td>...</td>\n",
       "      <td>False</td>\n",
       "      <td>False</td>\n",
       "      <td>True</td>\n",
       "      <td>False</td>\n",
       "      <td>False</td>\n",
       "      <td>False</td>\n",
       "      <td>False</td>\n",
       "      <td>False</td>\n",
       "      <td>False</td>\n",
       "      <td>False</td>\n",
       "    </tr>\n",
       "    <tr>\n",
       "      <th>4</th>\n",
       "      <td>5</td>\n",
       "      <td>2011-01-05</td>\n",
       "      <td>0</td>\n",
       "      <td>1</td>\n",
       "      <td>0.226957</td>\n",
       "      <td>0.229270</td>\n",
       "      <td>0.436957</td>\n",
       "      <td>0.186900</td>\n",
       "      <td>82</td>\n",
       "      <td>1518</td>\n",
       "      <td>...</td>\n",
       "      <td>False</td>\n",
       "      <td>False</td>\n",
       "      <td>False</td>\n",
       "      <td>True</td>\n",
       "      <td>False</td>\n",
       "      <td>False</td>\n",
       "      <td>False</td>\n",
       "      <td>False</td>\n",
       "      <td>False</td>\n",
       "      <td>False</td>\n",
       "    </tr>\n",
       "  </tbody>\n",
       "</table>\n",
       "<p>5 rows × 34 columns</p>\n",
       "</div>"
      ]
     },
     "execution_count": 208,
     "metadata": {},
     "output_type": "execute_result"
    }
   ],
   "execution_count": 208
  },
  {
   "metadata": {},
   "cell_type": "markdown",
   "source": "## EDA\n",
   "id": "d06b9b884f0cc24c"
  },
  {
   "metadata": {},
   "cell_type": "markdown",
   "source": "How does temperature affect the number of rentals?\n",
   "id": "52b673ea1fe987b5"
  },
  {
   "metadata": {
    "ExecuteTime": {
     "end_time": "2025-08-19T20:21:23.254067Z",
     "start_time": "2025-08-19T20:21:23.167921Z"
    }
   },
   "cell_type": "code",
   "source": [
    "# plt.figure(figsize=(10,6))\n",
    "# sns.scatterplot(x=dummy_df.temp,y=dummy_df.cnt)\n",
    "# plt.xlabel(\"Normalized Temperature\")\n",
    "# plt.ylabel(\"Rental Count\")\n",
    "# plt.title(\"Temperature vs Rental Count\")\n",
    "# plt.grid(True)\n",
    "# plt.show()\n",
    "fig_temp = px.scatter(\n",
    "    dummy_df,\n",
    "    x='temp',\n",
    "    y='cnt',\n",
    "    title='Normalized Temperature vs Rental Count',\n",
    "    labels={'temp': 'Normalized Temperature', 'cnt': 'Rental Count'},\n",
    "\n",
    ")\n",
    "fig_temp.show()"
   ],
   "id": "d734e93eb2bf7f1e",
   "outputs": [
    {
     "data": {
      "application/vnd.plotly.v1+json": {
       "data": [
        {
         "hovertemplate": "Normalized Temperature=%{x}<br>Rental Count=%{y}<extra></extra>",
         "legendgroup": "",
         "marker": {
          "color": "#636efa",
          "symbol": "circle"
         },
         "mode": "markers",
         "name": "",
         "orientation": "v",
         "showlegend": false,
         "x": {
          "dtype": "f8",
          "bdata": "FjJXBtUG1j/1MLQ6OUPXP6FNDp90Isk/mpmZmZmZyT8tlExO7QzNP5FigEQTKMo/xeV4BaInyT8fhetRuB7FP5eRek/ltME/MCsU6X5Owz/EIoYdxqTFP71uERjrG8Y/H4XrUbgexT+eKXReY5fEP8DtCRLb3c0/xv1HpkOnzT9jXkccsoHGP9qrj4e+u8s/zXSvk/qy0j/OUNzxJr/QP7gehetRuMY/jBdm/FZGrj/ttNpopbW4P4M4auCi7rg//g+wVu2azD/Xo3A9CtfLP/YoXI/C9cg/bk26LZELyj/F5XgFoifJP1Sobi7+tss/B8+EJoklxz/OHJJaKJnIP6RwPQrXo9A/Dw9h/DTuxz86ysFsAgzLP8DtCRLb3c0/PIbHfhZL0j9ywRn8/WLRPyZUcHhBRMw/LESHwJFAwT/jGp/J/nnCP1Tle0YiNMg/exSuR+F6zD+Rup195UHUP4/C9Shcj9o/FQK5xJEH0T+G56ViY17UP9YfYRiw5Ns/ueAM/n6x4D+bHam+84vZP8vY0M3+QNI/Wwuz0M5p0z+UTE7tDFPHPxO2n4zxYcw/uM6/Xfbr0j+GOxdGelHXPxSuR+F6FNI/rU85Jov71T/AzeLFwhDaPyAJ+3YSEdE/cT0K16Nw1T9F2VvK+WLJP85Q3PEmv9A/pfRMLzGW2D9oXg677xjYP5mdRe9UwNA/uB6F61G40j/g9gSJ7e7SP3e/CvDd5tg/kbqdfeVB1D8gCft2EhHVP84ckloomdg/WpvG9lrQ1D/03EJXIlDUP+pdvB+3X9c/j8L1KFyP2j9I4XoUrkfhPz0K16NwPd4/SOF6FK5H1T/OcAM+P4zbP1M8LqpFRNw/xZEHIos01j89CtejcD3SP/esa7Qc6NA/9KRMamgD0T+i1F5E2zHQPyDVsN8T69A/XI/C9Shc0z8zMzMzMzPTPx0B3CxeLNE/MzMzMzMz0z8pXI/C9SjUPyfYf52bNtg/UfaWcr5Y4j+RRgVOtoHaP/SkTGpoA9k/AAAAAAAA3D9vufqxSX7VP+xRuB6F69U/XhPSGoNO2z/1gHnIlA/jPxSuR+F6FOA/ZmZmZmZm2j/sUbgehevdP6X0TC8xltw/hGdCk8SS2z9JZYo5CDrdP2ZmZmZmZuA/KJoHsMgv4D8K16NwPQrjP3LBGfz9Yt0/mx2pvvOL1T9xPQrXo3DdP6UyxRwEneI/cf+R6dBp4z8+zF62nTbkP9ejcD0K1+M/w/UoXI/C4z9SuB6F61HgPz0K16NwPd4/96xrtBzo3D+aWyGsxpLhP8O3sG68u+M/kUYFTraB2j9ywRn8/WLdP7qilBCsqt4/pHA9Ctej4D/huIybGujgPwrXo3A9CuE/CtejcD0K4T9cj8L1KFzhPx+F61G4HuE/ZmZmZmZm4D+jrrX3qargPwAAAAAAAOI/exSuR+F64j8BwocSLfnhP5qZmZmZmeE/9WbUfJX84D809bpFYCzhP0jhehSuR+M/XVFKCFZV4z8+zF62nTbkPx+F61G4HuU/HsNjP4sl5T+jrrX3qarmP9hl+E830OU/9WbUfJX85D9cj8L1KFzlP3B7gsR2d+c/zczMzMzM6D981jVaDnToP+F6FK5H4eY/16NwPQrX4z9SuB6F61HkP7hc/dgkv+Q/rYVZaOe05T+kcD0K16PmP8wKRbqf0+g/1uHoKt3d6T8pXI/C9SjoPzMzMzMzM+c/KVyPwvUo5j9SuB6F61HkP11RSghWVeM/FXDP86cN5D8U7L/OTRvkP86OVN/5xeQ/U3qmlxhL5j9nKO54k1/mP1K4HoXrUeQ/wjOhSWLJ5T9we4LEdnfnP0cf8wGBTuc/NPW6RWAs5z89CtejcD3mP8P1KFyPwuU/16NwPQrX5T/YZfhPN9DnP0cf8wGBTuc/U3qmlxhL5j8fhetRuB7nP5nXEYdsoOc/9+rjoe/u5j9IowIn20DnP+wTQDGy5Oc/CtejcD0K5z8AAAAAAADoP7ngDP5+seY/cHuCxHZ35z/sUbgehevnP2ZmZmZmZug/cf+R6dBp6T/sE0AxsuTnP8IzoUliyeU/MnGrIAY65T8BwocSLfnlPwuZK4NqA+c/7BNAMbLk5z/iPJzAdNroP48AbhYvlug/FK5H4XoU6j8ew2M/iyXrPzT1ukVgLOs/j8L1KFyP6j/CM6FJYsnnP7ngDP5+seg/zczMzMzM6D/36uOh7+7oP8wKRbqf0+o/w7ewbry76T/CM6FJYsnpP7ngDP5+seg/CRUcXhAR6T9x/5Hp0GnnP7gehetRuOY/uFz92CS/5j/36uOh7+7mP8P1KFyPwuc/exSuR+F66D/NzMzMzMzoP5CEfTuJiOg/9ihcj8L15j+jrrX3qarmP+uPMAxY8uU/rwlpjUGn5T9HH/MBgU7lP2ak3lM5beY/HsNjP4sl5z/OjlTf+cXmP+xRuB6F6+U/UrgehetR5j+4XP3YJL/mPyoeF9UiIuY/elImNbSB5D+EKcql8YvlP+wTQDGy5OU/ZmZmZmZm5j/D9Shcj8LlP3f1KjI6oOY/ZyjueJNf5D981jVaDnTkPwuZK4NqA+U/9ihcj8L15D+PAG4WL5bkP3H/kenQaeU/ueAM/n6x5j+EKcql8YvlP0jhehSuR+E/NPW6RWAs4z/CS3DqA0nkP83MzMzMzOQ/H4XrUbge5T/huIybGujkP7nGZ7J/nuQ/zApFup/T5D+EKcql8YvlP3sUrkfheuI/FjJXBtUG3j+Hb2HdeHffPz0K16NwPeA/mlshrMaS4T8BwocSLfnhPwrXo3A9CuM/FOy/zk0b5D+GrdnKS37jP3H/kenQaeM/U3qmlxhL5D/OjlTf+cXkP2co7niTX+Q/UrgehetR5D/Dt7BuvLvjPxVwz/OnDeI/PQrXo3A92j/j/iPTodPWP6X0TC8xltg/DFuzlZf83j8ycasgBjrhP7DL8J9uoN8/UfaWcr5Y4D+54Az+frHgP0cf8wGBTuE/PUhPkUNE4j8qHhfVIiLiP1vNOuP7YuE/4jycwHTa4j+Z1xGHbKDhPz7MXradNuA/ZyjueJNf4D8fR3Nk5RfhPwrXo3A9CuE/wvf+Bu1V4T9l4lZBDHTeP1yPwvUoXNs/CtejcD0K2z8MW7OVl/zaP5gVinQ/p90/P47myMov3j8MW7OVl/zePxSuR+F6FN4/HQHcLF4s1T9TPC6qRUTQP3yYvWw7bdQ/w/UoXI/C1T+YFYp0P6fZPylcj8L1KNg/Eyo4vCAi2j/BcRk3NdDZP/esa7Qc6NQ/PIbHfhZL1j9I4XoUrkfZPxMqOLwgIto/mpmZmZmZ2T9SuB6F61HYP85Q3PEmv9Q/4/4j06HT1j8n2H+dmzbcP/YoXI/C9eA/9ihcj8L14D9JZYo5CDrdP+3Vx0Pf3dU/mx2pvvOL0T8gCft2EhHVP5gVinQ/p90/pHA9Ctej3D+6opQQrKraPyfYf52bNtw/1h9hGLDk1z8AAAAAAADYP/578NqlDdg/csEZ/P1i3T/1LAjlfRzgP0Zda+9TVd0/zczMzMzM1D8AAAAAAADUPyrgnudPG9Q/NbdCWI0l0z8dAdwsXizVP6LsLeV8sdg/mpmZmZmZ3T89CtejcD3aP/SkTGpoA9E/jj7mAwKd0j+amZmZmZnRPyZUcHhBRMw/Y15HHLKBzj8UrkfhehTSP1K4HoXrUdQ/CtejcD0K2z8AAAAAAADYP3mQniKHiNA/Y15HHLKBzj/EeTiB6bTRP6LsLeV8sdg/Wwuz0M5p2z8JU5RL4xfbP9YfYRiw5Nc/XI/C9Shc0z8My59vC5bRP3BBtixfl9Q/zczMzMzM1D+iKNAn8iTTP6s/wjBgyc8/AoQPJVry0z89CtejcD3aP65H4XoUrtc/6bXZWIl50T8zMzMzMzPDP4XrUbgehbs/9KRMamgD0T9ywRn8/WLVPx0B3CxeLNk/mpmZmZmZ1T/Q1OsWgbHMPyv8Gd6swdM/mx2pvvOL0T97FK5H4XrYP5sdqb7zi9E/CtejcD0Kxz90RSkhWFXFP1K4HoXrUcg/UBxAv+/f1z9bC7PQzmnTP1K4HoXrUcg/16NwPQrXyz8RpiiXxi/GP83MzMzMzMQ/1JtR81Xyyz/sUbgehevVP+P+I9Oh09I/7dXHQ9/d1T8zMzMzMzPbPyfYf52bNtQ/FK5H4XoU0j9JZYo5CDrRP/YoXI/C9dg/FjJXBtUG3j+bHam+84vZP/578NqlDdQ/96xrtBzo0D/0pExqaAPRP3KJIw9EFtI/uqKUEKyq1j98mL1sO23QP/YoXI/C9dA/6s2o+Sr50T/Q1OsWgbHMP1K4HoXrUcA/exSuR+F6zD98mL1sO23UPzyGx34WS9Y/UzwuqkVE1D/qzaj5KvnVPz+O5sjKL9Y/7FG4HoXr0T/sUbgehevRP1IQPL69a9I/Rl1r71NV2T8gCft2EhHdPxSuR+F6FNo/jj7mAwKd0j/t1cdD393RP4dvYd14d9c/DFuzlZf81j8+WpwxzAnWPwlTlEvjF98/jj7mAwKd1j+RRgVOtoHaP8tIvady2tQ/B8+EJoklzz95kJ4ih4jQP+3Vx0Pf3dk/4XoUrkfh4D88hsd+FkvaP2ZmZmZmZtI//wOsVbsm1z/t1cdD393dPxSuR+F6FOI/UrgehetR4j/Xo3A9CtfhP9YfYRiw5Ns/fNY1Wg504D89CtejcD3eP3E9CtejcOE/648wDFjy4T8LmSuDagPhP8O3sG68u+E/SKMCJ9tA4z8UrkfhehTgPwAAAAAAANw/eZCeIoeI3D+i7C3lfLHUPwxbs5WX/N4/sMvwn26g3z+uR+F6FK7XPzW3QliNJds/Mq8jDtlA2z+4yhMIO8XbP+3Vx0Pf3d0/XVFKCFZV4T/Xo3A9CtfbP8FxGTc10Nk/AAAAAAAA3D8AAAAAAADgP14T0hqDTt8/pfRMLzGW3D+6vg8HCVHWP3E9CtejcNk/UrgehetR3D+uR+F6FK7fP3H/kenQaeM/SKMCJ9tA5T9we4LEdnfjP5gVinQ/p90/1h9hGLDk3z/iPJzAdNrgPz0K16NwPeI/csEZ/P1i2T+l9EwvMZbUP2XiVkEMdNo/kUYFTraB3j/WH2EYsOTfP0jhehSuR90/KuCe508b2D9GXWvvU1XdP8R5OIHptN0/mdcRh2yg4z8VcM/zpw3iP+xRuB6F6+E/FK5H4XoU5D/sE0AxsuTjPwAAAAAAAOI/MzMzMzMz4T+lMsUcBJ3iP2ZmZmZmZuI/KJoHsMgv4D8JFRxeEBHhPxVwz/OnDeI/mpmZmZmZ4z9R9pZyvljiP5pbIazGkuM/ZyjueJNf5D/1ZtR8lfziPxVwz/OnDeI/MzMzMzMz4z/W4egq3d3jPx7DYz+LJeM/rkfhehSu4z/sE0AxsuTjP/YoXI/C9eQ/w/UoXI/C5T8pXI/C9SjmPxSuR+F6FOY/zczMzMzM5j8fhetRuB7nPwuZK4NqA+U/w/UoXI/C5T/36uOh7+7kP6OutfepquI/SOF6FK5H4z8fhetRuB7jP0cf8wGBTuE/w7ewbry74T9I4XoUrkfjP86OVN/5xeQ/uFz92CS/5j9IowIn20DnPwkVHF4QEec/4biMmxro5D/1ZtR8lfzkP7hc/dgkv+Q/fNY1Wg505D8+zF62nTbkP/YoXI/C9eI/KJoHsMgv4j//PXjt0gbmPwrXo3A9Cuk/wjOhSWLJ6T/hehSuR+HoP3H/kenQaec/wjOhSWLJ5z/huIybGujmPyiaB7DIL+Q/UrgehetR5j8BwocSLfnnP7ngDP5+seo/exSuR+F66D8U7L/OTRvqPwuZK4NqA+k/9WbUfJX86D9IowIn20DpP3sUrkfheuo/elImNbSB6j+aWyGsxpLrP1K4HoXrUeo/uFz92CS/5j8JFRxeEBHnP/fq46Hv7uY/4biMmxro5j9x/5Hp0GnnP3pSJjW0geY/1uHoKt3d5z9mpN5TOW3oPyiaB7DIL+o/W8064/ti6T+kcD0K16PoP0cf8wGBTuU/CRUcXhAR4z9cj8L1KFzlP8O3sG68u+c//z147dIG6D809bpFYCznP+I8nMB02ug/C5krg2oD6T8omgewyC/oPx9Hc2TlF+c/W8064/ti5z/MCkW6n9PmP/YoXI/C9eY/FK5H4XoU6D96UiY1tIHoP1vNOuP7Yuk/pTLFHASd6D8UrkfhehToP4QpyqXxi+c/AAAAAAAA6D8omgewyC/oP+G4jJsa6OY/KVyPwvUo5j9mpN5TOW3mPwkVHF4QEec/SKMCJ9tA5z+lMsUcBJ3mPwuZK4NqA+c/HsNjP4sl5z+thVlo57TlP1H2lnK+WOQ/UfaWcr5Y5D/OjlTf+cXkP1yPwvUoXOU/PUhPkUNE5j97FK5H4XrmPzT1ukVgLOU/4biMmxro5D96UiY1tIHmP0cf8wGBTuc/7FG4HoXr5T+lMsUcBJ3mP3zWNVoOdOg/FOy/zk0b6D9TeqaXGEvmP6RwPQrXo+Y/MnGrIAY65z+aWyGsxpLnP1N6ppcYS+Y/elImNbSB5j8fR3Nk5RflP4XrUbgeheM/o66196mq4j97FK5H4XriPzT1ukVgLOM/mpmZmZmZ4z89SE+RQ0TkP3B7gsR2d+M/j8L1KFyP4j+PAG4WL5biP+uPMAxY8uM/rkfhehSu4T+GrdnKS37hPzT1ukVgLOM/zczMzMzM5D/36uOh7+7gP3zWNVoOdOA/mpmZmZmZ4T9SuB6F61HkP83MzMzMzOQ/2GX4TzfQ4z9cj8L1KFzhP+I8nMB02uA/o66196mq4D/huIybGujiPwrXo3A9CuU/CtejcD0K5T+uR+F6FK7jP8O3sG68u+E/jj7mAwKd2j95kJ4ih4jYP6X0TC8xltw/fNY1Wg504D/Xo3A9CtfbPwAAAAAAANw/HQHcLF4s2T+54Az+frHgPwHChxIt+eE/6s2o+Sr53T8dAdwsXizdP7gehetRuOA//z147dIG4j8MW7OVl/zeP8R5OIHptN0/MzMzMzMz3z9x/5Hp0GnhP83MzMzMzOI/mpmZmZmZ4T9we4LEdnfhP/YoXI/C9eA/j8L1KFyP3j8pXI/C9SjcP31BCwkYXdQ/4XoUrkfh1j9bC7PQzmnXP7gehetRuNY/6s2o+Sr51T/LSL2nctrUP3yYvWw7bdQ/6s2o+Sr50T/g9gSJ7e7SP6QYINEEitY/NbdCWI0l1z/3rGu0HOjYP+D2BInt7to/CtejcD0K3z/qzaj5KvnVP5FGBU62gdI/pfRMLzGW1D8UrkfhehTWP83MzMzMzNQ/7FG4HoXr1T9QNA9gkV/YPwKEDyVa8tc/jj7mAwKd1j/D9Shcj8LVP4RnQpPEktc/wXEZNzXQ0T9Zh6OrdHfPP/578NqlDdQ/uqKUEKyq0j8MW7OVl/zSP31cGyrG+dE/CVOUS+MX0z8JU5RL4xfTPz0K16NwPdY/9ihcj8L13D9l4lZBDHTeP/578NqlDdw/UDQPYJFf0D95kJ4ih4jUP3yYvWw7bdg/pfRMLzGW2D/WH2EYsOTbP44+5gMCndY/CtejcD0K0z/g9gSJ7e7SPxYyVwbVBtI/zlDc8Sa/1D8zMzMzMzPXPx0B3CxeLNk/PIbHfhZL2j9I4XoUrkfVPx+F61G4HtU/96xrtBzo1D/0pExqaAPRP1mHo6t0d88/yoy3lV6bzT88akyIuaTSPwfPhCaJJc8/UzwuqkVE0D8n2H+dmzbQPyfYf52bNtA/UDQPYJFf0D+C4zJuaqDLPw=="
         },
         "xaxis": "x",
         "y": {
          "dtype": "i2",
          "bdata": "2QMhA0UFGgZABkYG5gW/AzYDKQXvBIoEfgWNBeAEtAToA6sCcgaHBwcG1QPaA4gFwQf6Aa8BjwRKBEgE3QVQBfYFDgasBu0DVwawBvoFRQYCBtIGwAU1BnkHFwdDCKsJbwtjBhQHUwSqBX0HDwe1BbEHYgmmBTsHVgiVBpgHHQhdAlAHVQhjB28CuQdUCHEJ/gcICJAIuAqnDC0MpwkdCI8KSQhJB6IIwAmdBuwHeQkABpUGswjMCLEMKwwDB/gKRQy/BZcJTwsUDfIHcgjDDDYMGwOgDmUNhAxoD10QkwbED18Q6Q8wESAP2g/zEcAUFw0xEWMRSQpREQASahLtEAoRwxJWEAATCRBRDckRdg8bEA8P3xE1E60WNBKyEIwRchNFEkcSlhK0EgIQjg+GD2gTwBTeFCoTxBHhEjERSw/qEWYTbBGcExsTPBS3DuwS/xOIEqoP4xKbEbYSfxNSFLkUZBIoEmkUixXyFP8TKRKbFzkSFRLwEcgP2BQRE/YPohD2ENwTohUjF7YUahG9EewQyA47DdUMFg4AD+4RMBImEQYPexHOEKoQ7RL2DeARAhPGEMkO5hD6EawSuBIpEzYQ7A7yEHUSVhLdDjkQRxQhD5YSBxcKFNYNNRJbBO4QGhJUFMIT+xN3EoQRTBMXDZYKzAcyB9gN4RS2E2kSmxKxEksOmBKfEbIQuxE5DgARuxJbCS8VkhMWEhgQQw/nElIUfQlmC/INaBHaEp0SeRMhFYcV/RPTEXAJYQs8DmEUsRPaEYwSeAljENAQ1BAdEVsQTxI2D2MKow5zAgMNVQ7kD1oQhg/OD1YPQQ7DD20QDRB1CygN4w+FDoYRYxAZB+0LQA1PDsANzQpHBgYK1wXoCvwL/wsbD2ILHQ6PDmQPHg6dDeMOIgrBAvoMJA52DLcK7gzDDZwOfQ75DbMKfwlLDaYOZAr8C6EI8wPyAiUFigT+CHcJtwu1CfYInwe8CEAJyAwCEKkRYQ1ICQ4OgQgBEI4MvQkHCfoIdwswDdwMWwwVBbkHgAnzEK4Q6w+ADbcPqwwoDp0R4xGxDjcQEAuDC8gOFxHyCvYO9w55CPkFXg1SD0kQvQs6EN4QgQo5DMEOpRLGE58NrAo9DeIQCxEqB34TegziD18NBQ10DzQTBhXZERYQLxOyFNcWqBgwGBoRnB4EFwkYzRdWGNcaqiAsDYQTthXuE0IW9RdTFVsYmRcwF3QaJBk5GTwZyRoxFNEVHhf+EiEV/hgkHdwb4hgjGg8RpRl6HOAZAwSODAEWNBiiE1kYfBCgGMQVbBYZGBUZmBjjGtcYgRhgFm0SrBl2GwUd5hcbC/sTAB3YHNcdZiDZGwcRuReMFHIaThqIGb8ZmxdvFscaqhwfELgf2R1WG1kbjxtGHTgeSh3GGQgabBP9HMMc8R0WHkIb6xOpGkMYERe/FiId6xp7GhIdpxzfGlcVNxabFVMYBBrrHGEYPxjoEkASqRmSGGAcFh1LHTkbjxeuGoIaURa/Ge4WaxHyHDYbqB3tH80a+BodGsUZwRswHJwdXRwHHKgaWBVlG2kcbh12HJoWmxiQGeMagBqzHLUd7Bu5HsURghleG88cVR6eHaUXhxQFG4AbER4hHrYc/BeyFpIX0BrIGzsYUB1YFyMgZR1XHr4efB5JHwoipRzVGukPpx0oHucfyyDjHgwdch01HuEc9xxrIekaehofEpQdoBzcHx0ftg1mFfgYCx6SHXIcxRvvGfMWbh0lHVUdMBWaH6gakhsqHQ0evxwUHaweaxEWAEgEvhViF9cWEhTzE4sUNharE8MUaBeIGcQafRj+D3cVRRVCFv0VPRJ7FQIWGhR5CUYP5Qh4Cd8Tdw+MFMsUJBZHFCkSWhjOGWEW/xSQE84VnAwyFH0VxxScFesVtxPKDukRtRWTFCAQJw7VBvsGmAP1A7kBQggXDD0FBAepCg=="
         },
         "yaxis": "y",
         "type": "scatter"
        }
       ],
       "layout": {
        "template": {
         "data": {
          "histogram2dcontour": [
           {
            "type": "histogram2dcontour",
            "colorbar": {
             "outlinewidth": 0,
             "ticks": ""
            },
            "colorscale": [
             [
              0.0,
              "#0d0887"
             ],
             [
              0.1111111111111111,
              "#46039f"
             ],
             [
              0.2222222222222222,
              "#7201a8"
             ],
             [
              0.3333333333333333,
              "#9c179e"
             ],
             [
              0.4444444444444444,
              "#bd3786"
             ],
             [
              0.5555555555555556,
              "#d8576b"
             ],
             [
              0.6666666666666666,
              "#ed7953"
             ],
             [
              0.7777777777777778,
              "#fb9f3a"
             ],
             [
              0.8888888888888888,
              "#fdca26"
             ],
             [
              1.0,
              "#f0f921"
             ]
            ]
           }
          ],
          "choropleth": [
           {
            "type": "choropleth",
            "colorbar": {
             "outlinewidth": 0,
             "ticks": ""
            }
           }
          ],
          "histogram2d": [
           {
            "type": "histogram2d",
            "colorbar": {
             "outlinewidth": 0,
             "ticks": ""
            },
            "colorscale": [
             [
              0.0,
              "#0d0887"
             ],
             [
              0.1111111111111111,
              "#46039f"
             ],
             [
              0.2222222222222222,
              "#7201a8"
             ],
             [
              0.3333333333333333,
              "#9c179e"
             ],
             [
              0.4444444444444444,
              "#bd3786"
             ],
             [
              0.5555555555555556,
              "#d8576b"
             ],
             [
              0.6666666666666666,
              "#ed7953"
             ],
             [
              0.7777777777777778,
              "#fb9f3a"
             ],
             [
              0.8888888888888888,
              "#fdca26"
             ],
             [
              1.0,
              "#f0f921"
             ]
            ]
           }
          ],
          "heatmap": [
           {
            "type": "heatmap",
            "colorbar": {
             "outlinewidth": 0,
             "ticks": ""
            },
            "colorscale": [
             [
              0.0,
              "#0d0887"
             ],
             [
              0.1111111111111111,
              "#46039f"
             ],
             [
              0.2222222222222222,
              "#7201a8"
             ],
             [
              0.3333333333333333,
              "#9c179e"
             ],
             [
              0.4444444444444444,
              "#bd3786"
             ],
             [
              0.5555555555555556,
              "#d8576b"
             ],
             [
              0.6666666666666666,
              "#ed7953"
             ],
             [
              0.7777777777777778,
              "#fb9f3a"
             ],
             [
              0.8888888888888888,
              "#fdca26"
             ],
             [
              1.0,
              "#f0f921"
             ]
            ]
           }
          ],
          "contourcarpet": [
           {
            "type": "contourcarpet",
            "colorbar": {
             "outlinewidth": 0,
             "ticks": ""
            }
           }
          ],
          "contour": [
           {
            "type": "contour",
            "colorbar": {
             "outlinewidth": 0,
             "ticks": ""
            },
            "colorscale": [
             [
              0.0,
              "#0d0887"
             ],
             [
              0.1111111111111111,
              "#46039f"
             ],
             [
              0.2222222222222222,
              "#7201a8"
             ],
             [
              0.3333333333333333,
              "#9c179e"
             ],
             [
              0.4444444444444444,
              "#bd3786"
             ],
             [
              0.5555555555555556,
              "#d8576b"
             ],
             [
              0.6666666666666666,
              "#ed7953"
             ],
             [
              0.7777777777777778,
              "#fb9f3a"
             ],
             [
              0.8888888888888888,
              "#fdca26"
             ],
             [
              1.0,
              "#f0f921"
             ]
            ]
           }
          ],
          "surface": [
           {
            "type": "surface",
            "colorbar": {
             "outlinewidth": 0,
             "ticks": ""
            },
            "colorscale": [
             [
              0.0,
              "#0d0887"
             ],
             [
              0.1111111111111111,
              "#46039f"
             ],
             [
              0.2222222222222222,
              "#7201a8"
             ],
             [
              0.3333333333333333,
              "#9c179e"
             ],
             [
              0.4444444444444444,
              "#bd3786"
             ],
             [
              0.5555555555555556,
              "#d8576b"
             ],
             [
              0.6666666666666666,
              "#ed7953"
             ],
             [
              0.7777777777777778,
              "#fb9f3a"
             ],
             [
              0.8888888888888888,
              "#fdca26"
             ],
             [
              1.0,
              "#f0f921"
             ]
            ]
           }
          ],
          "mesh3d": [
           {
            "type": "mesh3d",
            "colorbar": {
             "outlinewidth": 0,
             "ticks": ""
            }
           }
          ],
          "scatter": [
           {
            "marker": {
             "line": {
              "color": "#283442"
             }
            },
            "type": "scatter"
           }
          ],
          "parcoords": [
           {
            "type": "parcoords",
            "line": {
             "colorbar": {
              "outlinewidth": 0,
              "ticks": ""
             }
            }
           }
          ],
          "scatterpolargl": [
           {
            "type": "scatterpolargl",
            "marker": {
             "colorbar": {
              "outlinewidth": 0,
              "ticks": ""
             }
            }
           }
          ],
          "bar": [
           {
            "error_x": {
             "color": "#f2f5fa"
            },
            "error_y": {
             "color": "#f2f5fa"
            },
            "marker": {
             "line": {
              "color": "rgb(17,17,17)",
              "width": 0.5
             },
             "pattern": {
              "fillmode": "overlay",
              "size": 10,
              "solidity": 0.2
             }
            },
            "type": "bar"
           }
          ],
          "scattergeo": [
           {
            "type": "scattergeo",
            "marker": {
             "colorbar": {
              "outlinewidth": 0,
              "ticks": ""
             }
            }
           }
          ],
          "scatterpolar": [
           {
            "type": "scatterpolar",
            "marker": {
             "colorbar": {
              "outlinewidth": 0,
              "ticks": ""
             }
            }
           }
          ],
          "histogram": [
           {
            "marker": {
             "pattern": {
              "fillmode": "overlay",
              "size": 10,
              "solidity": 0.2
             }
            },
            "type": "histogram"
           }
          ],
          "scattergl": [
           {
            "marker": {
             "line": {
              "color": "#283442"
             }
            },
            "type": "scattergl"
           }
          ],
          "scatter3d": [
           {
            "type": "scatter3d",
            "line": {
             "colorbar": {
              "outlinewidth": 0,
              "ticks": ""
             }
            },
            "marker": {
             "colorbar": {
              "outlinewidth": 0,
              "ticks": ""
             }
            }
           }
          ],
          "scattermap": [
           {
            "type": "scattermap",
            "marker": {
             "colorbar": {
              "outlinewidth": 0,
              "ticks": ""
             }
            }
           }
          ],
          "scattermapbox": [
           {
            "type": "scattermapbox",
            "marker": {
             "colorbar": {
              "outlinewidth": 0,
              "ticks": ""
             }
            }
           }
          ],
          "scatterternary": [
           {
            "type": "scatterternary",
            "marker": {
             "colorbar": {
              "outlinewidth": 0,
              "ticks": ""
             }
            }
           }
          ],
          "scattercarpet": [
           {
            "type": "scattercarpet",
            "marker": {
             "colorbar": {
              "outlinewidth": 0,
              "ticks": ""
             }
            }
           }
          ],
          "carpet": [
           {
            "aaxis": {
             "endlinecolor": "#A2B1C6",
             "gridcolor": "#506784",
             "linecolor": "#506784",
             "minorgridcolor": "#506784",
             "startlinecolor": "#A2B1C6"
            },
            "baxis": {
             "endlinecolor": "#A2B1C6",
             "gridcolor": "#506784",
             "linecolor": "#506784",
             "minorgridcolor": "#506784",
             "startlinecolor": "#A2B1C6"
            },
            "type": "carpet"
           }
          ],
          "table": [
           {
            "cells": {
             "fill": {
              "color": "#506784"
             },
             "line": {
              "color": "rgb(17,17,17)"
             }
            },
            "header": {
             "fill": {
              "color": "#2a3f5f"
             },
             "line": {
              "color": "rgb(17,17,17)"
             }
            },
            "type": "table"
           }
          ],
          "barpolar": [
           {
            "marker": {
             "line": {
              "color": "rgb(17,17,17)",
              "width": 0.5
             },
             "pattern": {
              "fillmode": "overlay",
              "size": 10,
              "solidity": 0.2
             }
            },
            "type": "barpolar"
           }
          ],
          "pie": [
           {
            "automargin": true,
            "type": "pie"
           }
          ]
         },
         "layout": {
          "autotypenumbers": "strict",
          "colorway": [
           "#636efa",
           "#EF553B",
           "#00cc96",
           "#ab63fa",
           "#FFA15A",
           "#19d3f3",
           "#FF6692",
           "#B6E880",
           "#FF97FF",
           "#FECB52"
          ],
          "font": {
           "color": "#f2f5fa"
          },
          "hovermode": "closest",
          "hoverlabel": {
           "align": "left"
          },
          "paper_bgcolor": "rgb(17,17,17)",
          "plot_bgcolor": "rgb(17,17,17)",
          "polar": {
           "bgcolor": "rgb(17,17,17)",
           "angularaxis": {
            "gridcolor": "#506784",
            "linecolor": "#506784",
            "ticks": ""
           },
           "radialaxis": {
            "gridcolor": "#506784",
            "linecolor": "#506784",
            "ticks": ""
           }
          },
          "ternary": {
           "bgcolor": "rgb(17,17,17)",
           "aaxis": {
            "gridcolor": "#506784",
            "linecolor": "#506784",
            "ticks": ""
           },
           "baxis": {
            "gridcolor": "#506784",
            "linecolor": "#506784",
            "ticks": ""
           },
           "caxis": {
            "gridcolor": "#506784",
            "linecolor": "#506784",
            "ticks": ""
           }
          },
          "coloraxis": {
           "colorbar": {
            "outlinewidth": 0,
            "ticks": ""
           }
          },
          "colorscale": {
           "sequential": [
            [
             0.0,
             "#0d0887"
            ],
            [
             0.1111111111111111,
             "#46039f"
            ],
            [
             0.2222222222222222,
             "#7201a8"
            ],
            [
             0.3333333333333333,
             "#9c179e"
            ],
            [
             0.4444444444444444,
             "#bd3786"
            ],
            [
             0.5555555555555556,
             "#d8576b"
            ],
            [
             0.6666666666666666,
             "#ed7953"
            ],
            [
             0.7777777777777778,
             "#fb9f3a"
            ],
            [
             0.8888888888888888,
             "#fdca26"
            ],
            [
             1.0,
             "#f0f921"
            ]
           ],
           "sequentialminus": [
            [
             0.0,
             "#0d0887"
            ],
            [
             0.1111111111111111,
             "#46039f"
            ],
            [
             0.2222222222222222,
             "#7201a8"
            ],
            [
             0.3333333333333333,
             "#9c179e"
            ],
            [
             0.4444444444444444,
             "#bd3786"
            ],
            [
             0.5555555555555556,
             "#d8576b"
            ],
            [
             0.6666666666666666,
             "#ed7953"
            ],
            [
             0.7777777777777778,
             "#fb9f3a"
            ],
            [
             0.8888888888888888,
             "#fdca26"
            ],
            [
             1.0,
             "#f0f921"
            ]
           ],
           "diverging": [
            [
             0,
             "#8e0152"
            ],
            [
             0.1,
             "#c51b7d"
            ],
            [
             0.2,
             "#de77ae"
            ],
            [
             0.3,
             "#f1b6da"
            ],
            [
             0.4,
             "#fde0ef"
            ],
            [
             0.5,
             "#f7f7f7"
            ],
            [
             0.6,
             "#e6f5d0"
            ],
            [
             0.7,
             "#b8e186"
            ],
            [
             0.8,
             "#7fbc41"
            ],
            [
             0.9,
             "#4d9221"
            ],
            [
             1,
             "#276419"
            ]
           ]
          },
          "xaxis": {
           "gridcolor": "#283442",
           "linecolor": "#506784",
           "ticks": "",
           "title": {
            "standoff": 15
           },
           "zerolinecolor": "#283442",
           "automargin": true,
           "zerolinewidth": 2
          },
          "yaxis": {
           "gridcolor": "#283442",
           "linecolor": "#506784",
           "ticks": "",
           "title": {
            "standoff": 15
           },
           "zerolinecolor": "#283442",
           "automargin": true,
           "zerolinewidth": 2
          },
          "scene": {
           "xaxis": {
            "backgroundcolor": "rgb(17,17,17)",
            "gridcolor": "#506784",
            "linecolor": "#506784",
            "showbackground": true,
            "ticks": "",
            "zerolinecolor": "#C8D4E3",
            "gridwidth": 2
           },
           "yaxis": {
            "backgroundcolor": "rgb(17,17,17)",
            "gridcolor": "#506784",
            "linecolor": "#506784",
            "showbackground": true,
            "ticks": "",
            "zerolinecolor": "#C8D4E3",
            "gridwidth": 2
           },
           "zaxis": {
            "backgroundcolor": "rgb(17,17,17)",
            "gridcolor": "#506784",
            "linecolor": "#506784",
            "showbackground": true,
            "ticks": "",
            "zerolinecolor": "#C8D4E3",
            "gridwidth": 2
           }
          },
          "shapedefaults": {
           "line": {
            "color": "#f2f5fa"
           }
          },
          "annotationdefaults": {
           "arrowcolor": "#f2f5fa",
           "arrowhead": 0,
           "arrowwidth": 1
          },
          "geo": {
           "bgcolor": "rgb(17,17,17)",
           "landcolor": "rgb(17,17,17)",
           "subunitcolor": "#506784",
           "showland": true,
           "showlakes": true,
           "lakecolor": "rgb(17,17,17)"
          },
          "title": {
           "x": 0.05
          },
          "updatemenudefaults": {
           "bgcolor": "#506784",
           "borderwidth": 0
          },
          "sliderdefaults": {
           "bgcolor": "#C8D4E3",
           "borderwidth": 1,
           "bordercolor": "rgb(17,17,17)",
           "tickwidth": 0
          },
          "mapbox": {
           "style": "dark"
          }
         }
        },
        "xaxis": {
         "anchor": "y",
         "domain": [
          0.0,
          1.0
         ],
         "title": {
          "text": "Normalized Temperature"
         }
        },
        "yaxis": {
         "anchor": "x",
         "domain": [
          0.0,
          1.0
         ],
         "title": {
          "text": "Rental Count"
         }
        },
        "legend": {
         "tracegroupgap": 0
        },
        "title": {
         "text": "Normalized Temperature vs Rental Count"
        }
       },
       "config": {
        "plotlyServerURL": "https://plot.ly"
       }
      }
     },
     "metadata": {},
     "output_type": "display_data"
    }
   ],
   "execution_count": 209
  },
  {
   "metadata": {},
   "cell_type": "markdown",
   "source": "Are there more rentals on weekends or weekdays?",
   "id": "e1a5feea5a2453b7"
  },
  {
   "metadata": {
    "ExecuteTime": {
     "end_time": "2025-08-19T20:21:23.755144Z",
     "start_time": "2025-08-19T20:21:23.671006Z"
    }
   },
   "cell_type": "code",
   "source": [
    "# plt.figure(figsize=(2,4))\n",
    "# sns.barplot(x=dummy_df.workingday,y=dummy_df.cnt)\n",
    "# plt.xlabel(\"Working Day\")\n",
    "# plt.ylabel(\"Rental Count\")\n",
    "# plt.title(\"Working Day vs Rental Count\")\n",
    "# plt.grid(True)\n",
    "# plt.show()\n",
    "fig_weekday = px.box(\n",
    "    dummy_df,\n",
    "    x='workingday',\n",
    "    y='cnt',\n",
    "    title='Working Day vs Rental Count',\n",
    "    labels={'workingday': 'Working day', 'cnt': 'Rental Count'},\n",
    "    template='plotly_dark',\n",
    "    color='workingday',\n",
    ")\n",
    "fig_weekday.show()"
   ],
   "id": "4a839cc2a0599fb1",
   "outputs": [
    {
     "data": {
      "application/vnd.plotly.v1+json": {
       "data": [
        {
         "alignmentgroup": "True",
         "hovertemplate": "Working day=%{x}<br>Rental Count=%{y}<extra></extra>",
         "legendgroup": "0",
         "marker": {
          "color": "#636efa"
         },
         "name": "0",
         "notched": false,
         "offsetgroup": "0",
         "orientation": "v",
         "showlegend": true,
         "x": {
          "dtype": "i1",
          "bdata": "AAAAAAAAAAAAAAAAAAAAAAAAAAAAAAAAAAAAAAAAAAAAAAAAAAAAAAAAAAAAAAAAAAAAAAAAAAAAAAAAAAAAAAAAAAAAAAAAAAAAAAAAAAAAAAAAAAAAAAAAAAAAAAAAAAAAAAAAAAAAAAAAAAAAAAAAAAAAAAAAAAAAAAAAAAAAAAAAAAAAAAAAAAAAAAAAAAAAAAAAAAAAAAAAAAAAAAAAAAAAAAAAAAAAAAAAAAAAAAAAAAAAAAAAAAAAAAAAAAAAAAAAAAAAAAAAAAAAAAAAAAAAAAAAAAAAAAAAAAAAAAAAAAAA"
         },
         "x0": " ",
         "xaxis": "x",
         "y": {
          "dtype": "i2",
          "bdata": "2QMhA78DNgPgBLQE6APVA9oDSgRIBO0DVwbABTUGYwYUB1MEsQdiCR0IXQJUCHEJLQynCcAJnQbMCLEMlwlPCzYMGwOgDsQPXxDAFBcNahLtEFENyRGtFjQSlhK0EgIQ3hQqE2YTbBH/E4gSUhS5FP8TKRKbF9gUERMjF7YU1QwWDnsRzhDGEMkONhDsDkcUIQ9bBO4QhBFMExcN4RS2E58RshAvFZITfQlmCyEVhxX9E2EUsRPUEB0RcwIDDVYPQQ4oDeMPhQ5PDsAN1wX8C/8LHg6dDXYMtwqzCn8J8wPyAiUFtQn2CJ8HqRFhDb0JBwn6CBUFuQe3D6sMEAuDC3kI+QXeEIEKOQysCj0N4g9fDRYQLxOcHgQXLA2EE1sYmRfJGjEUJB3cG+IY4BkDBHwQoBjjGtcYBR3mF2Yg2RuIGb8Zmxe4H9kdSh3GGRYeQhsiHesaNxabFesc6BJAEjkbjxdrEfIcHRrFGagaWBWbGJAZuR7FEaUXhxT8F7IWkhdYFyMgCiKlHMsg4x5rIekaHR+2DWYVxRvvGZofqBqsHmsREhTzE4gZxBp9GP0VPRJ5CeUIeAlHFCkSzhWcDLcTyg7VBvsG9QM9BQQH"
         },
         "y0": " ",
         "yaxis": "y",
         "type": "box"
        },
        {
         "alignmentgroup": "True",
         "hovertemplate": "Working day=%{x}<br>Rental Count=%{y}<extra></extra>",
         "legendgroup": "1",
         "marker": {
          "color": "#EF553B"
         },
         "name": "1",
         "notched": false,
         "offsetgroup": "1",
         "orientation": "v",
         "showlegend": true,
         "x": {
          "dtype": "i1",
          "bdata": "AQEBAQEBAQEBAQEBAQEBAQEBAQEBAQEBAQEBAQEBAQEBAQEBAQEBAQEBAQEBAQEBAQEBAQEBAQEBAQEBAQEBAQEBAQEBAQEBAQEBAQEBAQEBAQEBAQEBAQEBAQEBAQEBAQEBAQEBAQEBAQEBAQEBAQEBAQEBAQEBAQEBAQEBAQEBAQEBAQEBAQEBAQEBAQEBAQEBAQEBAQEBAQEBAQEBAQEBAQEBAQEBAQEBAQEBAQEBAQEBAQEBAQEBAQEBAQEBAQEBAQEBAQEBAQEBAQEBAQEBAQEBAQEBAQEBAQEBAQEBAQEBAQEBAQEBAQEBAQEBAQEBAQEBAQEBAQEBAQEBAQEBAQEBAQEBAQEBAQEBAQEBAQEBAQEBAQEBAQEBAQEBAQEBAQEBAQEBAQEBAQEBAQEBAQEBAQEBAQEBAQEBAQEBAQEBAQEBAQEBAQEBAQEBAQEBAQEBAQEBAQEBAQEBAQEBAQEBAQEBAQEBAQEBAQEBAQEBAQEBAQEBAQEBAQEBAQEBAQEBAQEBAQEBAQEBAQEBAQEBAQEBAQEBAQEBAQEBAQEBAQEBAQEBAQEBAQEBAQEBAQEBAQEBAQEBAQEBAQEBAQEBAQEBAQEBAQEBAQEBAQEBAQEBAQEBAQEBAQEBAQEBAQEBAQEBAQEBAQEBAQEBAQE="
         },
         "x0": " ",
         "xaxis": "x",
         "y": {
          "dtype": "i2",
          "bdata": "RQUaBkAGRgbmBSkF7wSKBH4FjQWrAnIGhwcHBogFwQf6Aa8BjwTdBVAF9gUOBqwGsAb6BUUGAgbSBnkHFwdDCKsJbwuqBX0HDwe1BaYFOwdWCJUGmAdQB1UIYwdvArkH/gcICJAIuAqnDB0IjwpJCEkHogjsB3kJAAaVBrMIKwwDB/gKRQy/BRQN8gdyCMMMZQ2EDGgPXRCTBukPMBEgD9oP8xExEWMRSQpREQASChHDElYQABMJEHYPGxAPD98RNROyEIwRchNFEkcSjg+GD2gTwBTEEeESMRFLD+oRnBMbEzwUtw7sEqoP4xKbEbYSfxNkEigSaRSLFfIUORIVEvARyA/2D6IQ9hDcE6IVahG9EewQyA47DQAP7hEwEiYRBg+qEO0S9g3gEQIT5hD6EawSuBIpE/IQdRJWEt0OORCWEgcXChTWDTUSGhJUFMIT+xN3EpYKzAcyB9gNaRKbErESSw6YErsROQ4AEbsSWwkWEhgQQw/nElIU8g1oEdoSnRJ5E9MRcAlhCzwO2hGMEngJYxDQEFsQTxI2D2MKow5VDuQPWhCGD84Pww9tEA0QdQuGEWMQGQftC0ANzQpHBgYK6AobD2ILHQ6PDmQP4w4iCsEC+gwkDu4Mww2cDn0O+Q1LDaYOZAr8C6EIigT+CHcJtwu8CEAJyAwCEEgJDg6BCAEQjgx3CzAN3AxbDIAJ8xCuEOsPgA0oDp0R4xGxDjcQyA4XEfIK9g73Dl4NUg9JEL0LOhDBDqUSxhOfDeIQCxEqB34TegwFDXQPNBMGFdkRshTXFqgYMBgaEQkYzRdWGNcaqiC2Fe4TQhb1F1MVMBd0GiQZORk8GdEVHhf+EiEV/hgjGg8RpRl6HI4MARY0GKITWRjEFWwWGRgVGZgYgRhgFm0SrBl2GxsL+xMAHdgc1x0HEbkXjBRyGk4abxbHGqocHxBWG1kbjxtGHTgeCBpsE/0cwxzxHesTqRpDGBEXvxZ7GhIdpxzfGlcVUxgEGmEYPxipGZIYYBwWHUsdrhqCGlEWvxnuFjYbqB3tH80a+BrBGzAcnB1dHAccZRtpHG4ddhyaFuMagBqzHLUd7BuCGV4bzxxVHp4dBRuAGxEeIR62HNAayBs7GFAdZR1XHr4efB5JH9Ua6Q+nHSge5x8MHXIdNR7hHPccehofEpQdoBzcH/gYCx6SHXIc8xZuHSUdVR0wFZIbKh0NHr8cFB0WAEgEvhViF9cWixQ2FqsTwxRoF/4PdxVFFUIWexUCFhoURg/fE3cPjBTLFCQWWhjOGWEW/xSQEzIUfRXHFJwV6xXpEbUVkxQgECcOmAO5AUIIFwypCg=="
         },
         "y0": " ",
         "yaxis": "y",
         "type": "box"
        }
       ],
       "layout": {
        "template": {
         "data": {
          "histogram2dcontour": [
           {
            "type": "histogram2dcontour",
            "colorbar": {
             "outlinewidth": 0,
             "ticks": ""
            },
            "colorscale": [
             [
              0.0,
              "#0d0887"
             ],
             [
              0.1111111111111111,
              "#46039f"
             ],
             [
              0.2222222222222222,
              "#7201a8"
             ],
             [
              0.3333333333333333,
              "#9c179e"
             ],
             [
              0.4444444444444444,
              "#bd3786"
             ],
             [
              0.5555555555555556,
              "#d8576b"
             ],
             [
              0.6666666666666666,
              "#ed7953"
             ],
             [
              0.7777777777777778,
              "#fb9f3a"
             ],
             [
              0.8888888888888888,
              "#fdca26"
             ],
             [
              1.0,
              "#f0f921"
             ]
            ]
           }
          ],
          "choropleth": [
           {
            "type": "choropleth",
            "colorbar": {
             "outlinewidth": 0,
             "ticks": ""
            }
           }
          ],
          "histogram2d": [
           {
            "type": "histogram2d",
            "colorbar": {
             "outlinewidth": 0,
             "ticks": ""
            },
            "colorscale": [
             [
              0.0,
              "#0d0887"
             ],
             [
              0.1111111111111111,
              "#46039f"
             ],
             [
              0.2222222222222222,
              "#7201a8"
             ],
             [
              0.3333333333333333,
              "#9c179e"
             ],
             [
              0.4444444444444444,
              "#bd3786"
             ],
             [
              0.5555555555555556,
              "#d8576b"
             ],
             [
              0.6666666666666666,
              "#ed7953"
             ],
             [
              0.7777777777777778,
              "#fb9f3a"
             ],
             [
              0.8888888888888888,
              "#fdca26"
             ],
             [
              1.0,
              "#f0f921"
             ]
            ]
           }
          ],
          "heatmap": [
           {
            "type": "heatmap",
            "colorbar": {
             "outlinewidth": 0,
             "ticks": ""
            },
            "colorscale": [
             [
              0.0,
              "#0d0887"
             ],
             [
              0.1111111111111111,
              "#46039f"
             ],
             [
              0.2222222222222222,
              "#7201a8"
             ],
             [
              0.3333333333333333,
              "#9c179e"
             ],
             [
              0.4444444444444444,
              "#bd3786"
             ],
             [
              0.5555555555555556,
              "#d8576b"
             ],
             [
              0.6666666666666666,
              "#ed7953"
             ],
             [
              0.7777777777777778,
              "#fb9f3a"
             ],
             [
              0.8888888888888888,
              "#fdca26"
             ],
             [
              1.0,
              "#f0f921"
             ]
            ]
           }
          ],
          "contourcarpet": [
           {
            "type": "contourcarpet",
            "colorbar": {
             "outlinewidth": 0,
             "ticks": ""
            }
           }
          ],
          "contour": [
           {
            "type": "contour",
            "colorbar": {
             "outlinewidth": 0,
             "ticks": ""
            },
            "colorscale": [
             [
              0.0,
              "#0d0887"
             ],
             [
              0.1111111111111111,
              "#46039f"
             ],
             [
              0.2222222222222222,
              "#7201a8"
             ],
             [
              0.3333333333333333,
              "#9c179e"
             ],
             [
              0.4444444444444444,
              "#bd3786"
             ],
             [
              0.5555555555555556,
              "#d8576b"
             ],
             [
              0.6666666666666666,
              "#ed7953"
             ],
             [
              0.7777777777777778,
              "#fb9f3a"
             ],
             [
              0.8888888888888888,
              "#fdca26"
             ],
             [
              1.0,
              "#f0f921"
             ]
            ]
           }
          ],
          "surface": [
           {
            "type": "surface",
            "colorbar": {
             "outlinewidth": 0,
             "ticks": ""
            },
            "colorscale": [
             [
              0.0,
              "#0d0887"
             ],
             [
              0.1111111111111111,
              "#46039f"
             ],
             [
              0.2222222222222222,
              "#7201a8"
             ],
             [
              0.3333333333333333,
              "#9c179e"
             ],
             [
              0.4444444444444444,
              "#bd3786"
             ],
             [
              0.5555555555555556,
              "#d8576b"
             ],
             [
              0.6666666666666666,
              "#ed7953"
             ],
             [
              0.7777777777777778,
              "#fb9f3a"
             ],
             [
              0.8888888888888888,
              "#fdca26"
             ],
             [
              1.0,
              "#f0f921"
             ]
            ]
           }
          ],
          "mesh3d": [
           {
            "type": "mesh3d",
            "colorbar": {
             "outlinewidth": 0,
             "ticks": ""
            }
           }
          ],
          "scatter": [
           {
            "marker": {
             "line": {
              "color": "#283442"
             }
            },
            "type": "scatter"
           }
          ],
          "parcoords": [
           {
            "type": "parcoords",
            "line": {
             "colorbar": {
              "outlinewidth": 0,
              "ticks": ""
             }
            }
           }
          ],
          "scatterpolargl": [
           {
            "type": "scatterpolargl",
            "marker": {
             "colorbar": {
              "outlinewidth": 0,
              "ticks": ""
             }
            }
           }
          ],
          "bar": [
           {
            "error_x": {
             "color": "#f2f5fa"
            },
            "error_y": {
             "color": "#f2f5fa"
            },
            "marker": {
             "line": {
              "color": "rgb(17,17,17)",
              "width": 0.5
             },
             "pattern": {
              "fillmode": "overlay",
              "size": 10,
              "solidity": 0.2
             }
            },
            "type": "bar"
           }
          ],
          "scattergeo": [
           {
            "type": "scattergeo",
            "marker": {
             "colorbar": {
              "outlinewidth": 0,
              "ticks": ""
             }
            }
           }
          ],
          "scatterpolar": [
           {
            "type": "scatterpolar",
            "marker": {
             "colorbar": {
              "outlinewidth": 0,
              "ticks": ""
             }
            }
           }
          ],
          "histogram": [
           {
            "marker": {
             "pattern": {
              "fillmode": "overlay",
              "size": 10,
              "solidity": 0.2
             }
            },
            "type": "histogram"
           }
          ],
          "scattergl": [
           {
            "marker": {
             "line": {
              "color": "#283442"
             }
            },
            "type": "scattergl"
           }
          ],
          "scatter3d": [
           {
            "type": "scatter3d",
            "line": {
             "colorbar": {
              "outlinewidth": 0,
              "ticks": ""
             }
            },
            "marker": {
             "colorbar": {
              "outlinewidth": 0,
              "ticks": ""
             }
            }
           }
          ],
          "scattermap": [
           {
            "type": "scattermap",
            "marker": {
             "colorbar": {
              "outlinewidth": 0,
              "ticks": ""
             }
            }
           }
          ],
          "scattermapbox": [
           {
            "type": "scattermapbox",
            "marker": {
             "colorbar": {
              "outlinewidth": 0,
              "ticks": ""
             }
            }
           }
          ],
          "scatterternary": [
           {
            "type": "scatterternary",
            "marker": {
             "colorbar": {
              "outlinewidth": 0,
              "ticks": ""
             }
            }
           }
          ],
          "scattercarpet": [
           {
            "type": "scattercarpet",
            "marker": {
             "colorbar": {
              "outlinewidth": 0,
              "ticks": ""
             }
            }
           }
          ],
          "carpet": [
           {
            "aaxis": {
             "endlinecolor": "#A2B1C6",
             "gridcolor": "#506784",
             "linecolor": "#506784",
             "minorgridcolor": "#506784",
             "startlinecolor": "#A2B1C6"
            },
            "baxis": {
             "endlinecolor": "#A2B1C6",
             "gridcolor": "#506784",
             "linecolor": "#506784",
             "minorgridcolor": "#506784",
             "startlinecolor": "#A2B1C6"
            },
            "type": "carpet"
           }
          ],
          "table": [
           {
            "cells": {
             "fill": {
              "color": "#506784"
             },
             "line": {
              "color": "rgb(17,17,17)"
             }
            },
            "header": {
             "fill": {
              "color": "#2a3f5f"
             },
             "line": {
              "color": "rgb(17,17,17)"
             }
            },
            "type": "table"
           }
          ],
          "barpolar": [
           {
            "marker": {
             "line": {
              "color": "rgb(17,17,17)",
              "width": 0.5
             },
             "pattern": {
              "fillmode": "overlay",
              "size": 10,
              "solidity": 0.2
             }
            },
            "type": "barpolar"
           }
          ],
          "pie": [
           {
            "automargin": true,
            "type": "pie"
           }
          ]
         },
         "layout": {
          "autotypenumbers": "strict",
          "colorway": [
           "#636efa",
           "#EF553B",
           "#00cc96",
           "#ab63fa",
           "#FFA15A",
           "#19d3f3",
           "#FF6692",
           "#B6E880",
           "#FF97FF",
           "#FECB52"
          ],
          "font": {
           "color": "#f2f5fa"
          },
          "hovermode": "closest",
          "hoverlabel": {
           "align": "left"
          },
          "paper_bgcolor": "rgb(17,17,17)",
          "plot_bgcolor": "rgb(17,17,17)",
          "polar": {
           "bgcolor": "rgb(17,17,17)",
           "angularaxis": {
            "gridcolor": "#506784",
            "linecolor": "#506784",
            "ticks": ""
           },
           "radialaxis": {
            "gridcolor": "#506784",
            "linecolor": "#506784",
            "ticks": ""
           }
          },
          "ternary": {
           "bgcolor": "rgb(17,17,17)",
           "aaxis": {
            "gridcolor": "#506784",
            "linecolor": "#506784",
            "ticks": ""
           },
           "baxis": {
            "gridcolor": "#506784",
            "linecolor": "#506784",
            "ticks": ""
           },
           "caxis": {
            "gridcolor": "#506784",
            "linecolor": "#506784",
            "ticks": ""
           }
          },
          "coloraxis": {
           "colorbar": {
            "outlinewidth": 0,
            "ticks": ""
           }
          },
          "colorscale": {
           "sequential": [
            [
             0.0,
             "#0d0887"
            ],
            [
             0.1111111111111111,
             "#46039f"
            ],
            [
             0.2222222222222222,
             "#7201a8"
            ],
            [
             0.3333333333333333,
             "#9c179e"
            ],
            [
             0.4444444444444444,
             "#bd3786"
            ],
            [
             0.5555555555555556,
             "#d8576b"
            ],
            [
             0.6666666666666666,
             "#ed7953"
            ],
            [
             0.7777777777777778,
             "#fb9f3a"
            ],
            [
             0.8888888888888888,
             "#fdca26"
            ],
            [
             1.0,
             "#f0f921"
            ]
           ],
           "sequentialminus": [
            [
             0.0,
             "#0d0887"
            ],
            [
             0.1111111111111111,
             "#46039f"
            ],
            [
             0.2222222222222222,
             "#7201a8"
            ],
            [
             0.3333333333333333,
             "#9c179e"
            ],
            [
             0.4444444444444444,
             "#bd3786"
            ],
            [
             0.5555555555555556,
             "#d8576b"
            ],
            [
             0.6666666666666666,
             "#ed7953"
            ],
            [
             0.7777777777777778,
             "#fb9f3a"
            ],
            [
             0.8888888888888888,
             "#fdca26"
            ],
            [
             1.0,
             "#f0f921"
            ]
           ],
           "diverging": [
            [
             0,
             "#8e0152"
            ],
            [
             0.1,
             "#c51b7d"
            ],
            [
             0.2,
             "#de77ae"
            ],
            [
             0.3,
             "#f1b6da"
            ],
            [
             0.4,
             "#fde0ef"
            ],
            [
             0.5,
             "#f7f7f7"
            ],
            [
             0.6,
             "#e6f5d0"
            ],
            [
             0.7,
             "#b8e186"
            ],
            [
             0.8,
             "#7fbc41"
            ],
            [
             0.9,
             "#4d9221"
            ],
            [
             1,
             "#276419"
            ]
           ]
          },
          "xaxis": {
           "gridcolor": "#283442",
           "linecolor": "#506784",
           "ticks": "",
           "title": {
            "standoff": 15
           },
           "zerolinecolor": "#283442",
           "automargin": true,
           "zerolinewidth": 2
          },
          "yaxis": {
           "gridcolor": "#283442",
           "linecolor": "#506784",
           "ticks": "",
           "title": {
            "standoff": 15
           },
           "zerolinecolor": "#283442",
           "automargin": true,
           "zerolinewidth": 2
          },
          "scene": {
           "xaxis": {
            "backgroundcolor": "rgb(17,17,17)",
            "gridcolor": "#506784",
            "linecolor": "#506784",
            "showbackground": true,
            "ticks": "",
            "zerolinecolor": "#C8D4E3",
            "gridwidth": 2
           },
           "yaxis": {
            "backgroundcolor": "rgb(17,17,17)",
            "gridcolor": "#506784",
            "linecolor": "#506784",
            "showbackground": true,
            "ticks": "",
            "zerolinecolor": "#C8D4E3",
            "gridwidth": 2
           },
           "zaxis": {
            "backgroundcolor": "rgb(17,17,17)",
            "gridcolor": "#506784",
            "linecolor": "#506784",
            "showbackground": true,
            "ticks": "",
            "zerolinecolor": "#C8D4E3",
            "gridwidth": 2
           }
          },
          "shapedefaults": {
           "line": {
            "color": "#f2f5fa"
           }
          },
          "annotationdefaults": {
           "arrowcolor": "#f2f5fa",
           "arrowhead": 0,
           "arrowwidth": 1
          },
          "geo": {
           "bgcolor": "rgb(17,17,17)",
           "landcolor": "rgb(17,17,17)",
           "subunitcolor": "#506784",
           "showland": true,
           "showlakes": true,
           "lakecolor": "rgb(17,17,17)"
          },
          "title": {
           "x": 0.05
          },
          "updatemenudefaults": {
           "bgcolor": "#506784",
           "borderwidth": 0
          },
          "sliderdefaults": {
           "bgcolor": "#C8D4E3",
           "borderwidth": 1,
           "bordercolor": "rgb(17,17,17)",
           "tickwidth": 0
          },
          "mapbox": {
           "style": "dark"
          }
         }
        },
        "xaxis": {
         "anchor": "y",
         "domain": [
          0.0,
          1.0
         ],
         "title": {
          "text": "Working day"
         },
         "categoryorder": "array",
         "categoryarray": [
          0,
          1
         ]
        },
        "yaxis": {
         "anchor": "x",
         "domain": [
          0.0,
          1.0
         ],
         "title": {
          "text": "Rental Count"
         }
        },
        "legend": {
         "title": {
          "text": "Working day"
         },
         "tracegroupgap": 0
        },
        "title": {
         "text": "Working Day vs Rental Count"
        },
        "boxmode": "overlay"
       },
       "config": {
        "plotlyServerURL": "https://plot.ly"
       }
      }
     },
     "metadata": {},
     "output_type": "display_data"
    }
   ],
   "execution_count": 210
  },
  {
   "metadata": {},
   "cell_type": "markdown",
   "source": "What’s the overall distribution of rentals per day?",
   "id": "e717452bb37480d7"
  },
  {
   "metadata": {
    "ExecuteTime": {
     "end_time": "2025-08-19T20:21:24.017104Z",
     "start_time": "2025-08-19T20:21:23.895905Z"
    }
   },
   "cell_type": "code",
   "source": [
    "fig_hist = px.bar(\n",
    "    dummy_df,\n",
    "    x='dteday',\n",
    "    y='cnt',\n",
    "    title='Date vs Rental Count',\n",
    "    labels={'dteday': 'Date', 'cnt': 'Rental Count'},\n",
    "    color='cnt',\n",
    "    template='plotly_dark'\n",
    ")\n",
    "fig_hist.show()"
   ],
   "id": "a6c05de33201ef92",
   "outputs": [
    {
     "data": {
      "application/vnd.plotly.v1+json": {
       "data": [
        {
         "hovertemplate": "Date=%{x}<br>Rental Count=%{marker.color}<extra></extra>",
         "legendgroup": "",
         "marker": {
          "color": {
           "dtype": "i2",
           "bdata": "2QMhA0UFGgZABkYG5gW/AzYDKQXvBIoEfgWNBeAEtAToA6sCcgaHBwcG1QPaA4gFwQf6Aa8BjwRKBEgE3QVQBfYFDgasBu0DVwawBvoFRQYCBtIGwAU1BnkHFwdDCKsJbwtjBhQHUwSqBX0HDwe1BbEHYgmmBTsHVgiVBpgHHQhdAlAHVQhjB28CuQdUCHEJ/gcICJAIuAqnDC0MpwkdCI8KSQhJB6IIwAmdBuwHeQkABpUGswjMCLEMKwwDB/gKRQy/BZcJTwsUDfIHcgjDDDYMGwOgDmUNhAxoD10QkwbED18Q6Q8wESAP2g/zEcAUFw0xEWMRSQpREQASahLtEAoRwxJWEAATCRBRDckRdg8bEA8P3xE1E60WNBKyEIwRchNFEkcSlhK0EgIQjg+GD2gTwBTeFCoTxBHhEjERSw/qEWYTbBGcExsTPBS3DuwS/xOIEqoP4xKbEbYSfxNSFLkUZBIoEmkUixXyFP8TKRKbFzkSFRLwEcgP2BQRE/YPohD2ENwTohUjF7YUahG9EewQyA47DdUMFg4AD+4RMBImEQYPexHOEKoQ7RL2DeARAhPGEMkO5hD6EawSuBIpEzYQ7A7yEHUSVhLdDjkQRxQhD5YSBxcKFNYNNRJbBO4QGhJUFMIT+xN3EoQRTBMXDZYKzAcyB9gN4RS2E2kSmxKxEksOmBKfEbIQuxE5DgARuxJbCS8VkhMWEhgQQw/nElIUfQlmC/INaBHaEp0SeRMhFYcV/RPTEXAJYQs8DmEUsRPaEYwSeAljENAQ1BAdEVsQTxI2D2MKow5zAgMNVQ7kD1oQhg/OD1YPQQ7DD20QDRB1CygN4w+FDoYRYxAZB+0LQA1PDsANzQpHBgYK1wXoCvwL/wsbD2ILHQ6PDmQPHg6dDeMOIgrBAvoMJA52DLcK7gzDDZwOfQ75DbMKfwlLDaYOZAr8C6EI8wPyAiUFigT+CHcJtwu1CfYInwe8CEAJyAwCEKkRYQ1ICQ4OgQgBEI4MvQkHCfoIdwswDdwMWwwVBbkHgAnzEK4Q6w+ADbcPqwwoDp0R4xGxDjcQEAuDC8gOFxHyCvYO9w55CPkFXg1SD0kQvQs6EN4QgQo5DMEOpRLGE58NrAo9DeIQCxEqB34TegziD18NBQ10DzQTBhXZERYQLxOyFNcWqBgwGBoRnB4EFwkYzRdWGNcaqiAsDYQTthXuE0IW9RdTFVsYmRcwF3QaJBk5GTwZyRoxFNEVHhf+EiEV/hgkHdwb4hgjGg8RpRl6HOAZAwSODAEWNBiiE1kYfBCgGMQVbBYZGBUZmBjjGtcYgRhgFm0SrBl2GwUd5hcbC/sTAB3YHNcdZiDZGwcRuReMFHIaThqIGb8ZmxdvFscaqhwfELgf2R1WG1kbjxtGHTgeSh3GGQgabBP9HMMc8R0WHkIb6xOpGkMYERe/FiId6xp7GhIdpxzfGlcVNxabFVMYBBrrHGEYPxjoEkASqRmSGGAcFh1LHTkbjxeuGoIaURa/Ge4WaxHyHDYbqB3tH80a+BodGsUZwRswHJwdXRwHHKgaWBVlG2kcbh12HJoWmxiQGeMagBqzHLUd7Bu5HsURghleG88cVR6eHaUXhxQFG4AbER4hHrYc/BeyFpIX0BrIGzsYUB1YFyMgZR1XHr4efB5JHwoipRzVGukPpx0oHucfyyDjHgwdch01HuEc9xxrIekaehofEpQdoBzcHx0ftg1mFfgYCx6SHXIcxRvvGfMWbh0lHVUdMBWaH6gakhsqHQ0evxwUHaweaxEWAEgEvhViF9cWEhTzE4sUNharE8MUaBeIGcQafRj+D3cVRRVCFv0VPRJ7FQIWGhR5CUYP5Qh4Cd8Tdw+MFMsUJBZHFCkSWhjOGWEW/xSQE84VnAwyFH0VxxScFesVtxPKDukRtRWTFCAQJw7VBvsGmAP1A7kBQggXDD0FBAepCg=="
          },
          "coloraxis": "coloraxis",
          "pattern": {
           "shape": ""
          }
         },
         "name": "",
         "orientation": "v",
         "showlegend": false,
         "textposition": "auto",
         "x": [
          "2011-01-01T00:00:00.000000000",
          "2011-01-02T00:00:00.000000000",
          "2011-01-03T00:00:00.000000000",
          "2011-01-04T00:00:00.000000000",
          "2011-01-05T00:00:00.000000000",
          "2011-01-06T00:00:00.000000000",
          "2011-01-07T00:00:00.000000000",
          "2011-01-08T00:00:00.000000000",
          "2011-01-09T00:00:00.000000000",
          "2011-01-10T00:00:00.000000000",
          "2011-01-11T00:00:00.000000000",
          "2011-01-12T00:00:00.000000000",
          "2011-01-13T00:00:00.000000000",
          "2011-01-14T00:00:00.000000000",
          "2011-01-15T00:00:00.000000000",
          "2011-01-16T00:00:00.000000000",
          "2011-01-17T00:00:00.000000000",
          "2011-01-18T00:00:00.000000000",
          "2011-01-19T00:00:00.000000000",
          "2011-01-20T00:00:00.000000000",
          "2011-01-21T00:00:00.000000000",
          "2011-01-22T00:00:00.000000000",
          "2011-01-23T00:00:00.000000000",
          "2011-01-24T00:00:00.000000000",
          "2011-01-25T00:00:00.000000000",
          "2011-01-26T00:00:00.000000000",
          "2011-01-27T00:00:00.000000000",
          "2011-01-28T00:00:00.000000000",
          "2011-01-29T00:00:00.000000000",
          "2011-01-30T00:00:00.000000000",
          "2011-01-31T00:00:00.000000000",
          "2011-02-01T00:00:00.000000000",
          "2011-02-02T00:00:00.000000000",
          "2011-02-03T00:00:00.000000000",
          "2011-02-04T00:00:00.000000000",
          "2011-02-05T00:00:00.000000000",
          "2011-02-06T00:00:00.000000000",
          "2011-02-07T00:00:00.000000000",
          "2011-02-08T00:00:00.000000000",
          "2011-02-09T00:00:00.000000000",
          "2011-02-10T00:00:00.000000000",
          "2011-02-11T00:00:00.000000000",
          "2011-02-12T00:00:00.000000000",
          "2011-02-13T00:00:00.000000000",
          "2011-02-14T00:00:00.000000000",
          "2011-02-15T00:00:00.000000000",
          "2011-02-16T00:00:00.000000000",
          "2011-02-17T00:00:00.000000000",
          "2011-02-18T00:00:00.000000000",
          "2011-02-19T00:00:00.000000000",
          "2011-02-20T00:00:00.000000000",
          "2011-02-21T00:00:00.000000000",
          "2011-02-22T00:00:00.000000000",
          "2011-02-23T00:00:00.000000000",
          "2011-02-24T00:00:00.000000000",
          "2011-02-25T00:00:00.000000000",
          "2011-02-26T00:00:00.000000000",
          "2011-02-27T00:00:00.000000000",
          "2011-02-28T00:00:00.000000000",
          "2011-03-01T00:00:00.000000000",
          "2011-03-02T00:00:00.000000000",
          "2011-03-03T00:00:00.000000000",
          "2011-03-04T00:00:00.000000000",
          "2011-03-05T00:00:00.000000000",
          "2011-03-06T00:00:00.000000000",
          "2011-03-07T00:00:00.000000000",
          "2011-03-08T00:00:00.000000000",
          "2011-03-09T00:00:00.000000000",
          "2011-03-10T00:00:00.000000000",
          "2011-03-11T00:00:00.000000000",
          "2011-03-12T00:00:00.000000000",
          "2011-03-13T00:00:00.000000000",
          "2011-03-14T00:00:00.000000000",
          "2011-03-15T00:00:00.000000000",
          "2011-03-16T00:00:00.000000000",
          "2011-03-17T00:00:00.000000000",
          "2011-03-18T00:00:00.000000000",
          "2011-03-19T00:00:00.000000000",
          "2011-03-20T00:00:00.000000000",
          "2011-03-21T00:00:00.000000000",
          "2011-03-22T00:00:00.000000000",
          "2011-03-23T00:00:00.000000000",
          "2011-03-24T00:00:00.000000000",
          "2011-03-25T00:00:00.000000000",
          "2011-03-26T00:00:00.000000000",
          "2011-03-27T00:00:00.000000000",
          "2011-03-28T00:00:00.000000000",
          "2011-03-29T00:00:00.000000000",
          "2011-03-30T00:00:00.000000000",
          "2011-03-31T00:00:00.000000000",
          "2011-04-01T00:00:00.000000000",
          "2011-04-02T00:00:00.000000000",
          "2011-04-03T00:00:00.000000000",
          "2011-04-04T00:00:00.000000000",
          "2011-04-05T00:00:00.000000000",
          "2011-04-06T00:00:00.000000000",
          "2011-04-07T00:00:00.000000000",
          "2011-04-08T00:00:00.000000000",
          "2011-04-09T00:00:00.000000000",
          "2011-04-10T00:00:00.000000000",
          "2011-04-11T00:00:00.000000000",
          "2011-04-12T00:00:00.000000000",
          "2011-04-13T00:00:00.000000000",
          "2011-04-14T00:00:00.000000000",
          "2011-04-15T00:00:00.000000000",
          "2011-04-16T00:00:00.000000000",
          "2011-04-17T00:00:00.000000000",
          "2011-04-18T00:00:00.000000000",
          "2011-04-19T00:00:00.000000000",
          "2011-04-20T00:00:00.000000000",
          "2011-04-21T00:00:00.000000000",
          "2011-04-22T00:00:00.000000000",
          "2011-04-23T00:00:00.000000000",
          "2011-04-24T00:00:00.000000000",
          "2011-04-25T00:00:00.000000000",
          "2011-04-26T00:00:00.000000000",
          "2011-04-27T00:00:00.000000000",
          "2011-04-28T00:00:00.000000000",
          "2011-04-29T00:00:00.000000000",
          "2011-04-30T00:00:00.000000000",
          "2011-05-01T00:00:00.000000000",
          "2011-05-02T00:00:00.000000000",
          "2011-05-03T00:00:00.000000000",
          "2011-05-04T00:00:00.000000000",
          "2011-05-05T00:00:00.000000000",
          "2011-05-06T00:00:00.000000000",
          "2011-05-07T00:00:00.000000000",
          "2011-05-08T00:00:00.000000000",
          "2011-05-09T00:00:00.000000000",
          "2011-05-10T00:00:00.000000000",
          "2011-05-11T00:00:00.000000000",
          "2011-05-12T00:00:00.000000000",
          "2011-05-13T00:00:00.000000000",
          "2011-05-14T00:00:00.000000000",
          "2011-05-15T00:00:00.000000000",
          "2011-05-16T00:00:00.000000000",
          "2011-05-17T00:00:00.000000000",
          "2011-05-18T00:00:00.000000000",
          "2011-05-19T00:00:00.000000000",
          "2011-05-20T00:00:00.000000000",
          "2011-05-21T00:00:00.000000000",
          "2011-05-22T00:00:00.000000000",
          "2011-05-23T00:00:00.000000000",
          "2011-05-24T00:00:00.000000000",
          "2011-05-25T00:00:00.000000000",
          "2011-05-26T00:00:00.000000000",
          "2011-05-27T00:00:00.000000000",
          "2011-05-28T00:00:00.000000000",
          "2011-05-29T00:00:00.000000000",
          "2011-05-30T00:00:00.000000000",
          "2011-05-31T00:00:00.000000000",
          "2011-06-01T00:00:00.000000000",
          "2011-06-02T00:00:00.000000000",
          "2011-06-03T00:00:00.000000000",
          "2011-06-04T00:00:00.000000000",
          "2011-06-05T00:00:00.000000000",
          "2011-06-06T00:00:00.000000000",
          "2011-06-07T00:00:00.000000000",
          "2011-06-08T00:00:00.000000000",
          "2011-06-09T00:00:00.000000000",
          "2011-06-10T00:00:00.000000000",
          "2011-06-11T00:00:00.000000000",
          "2011-06-12T00:00:00.000000000",
          "2011-06-13T00:00:00.000000000",
          "2011-06-14T00:00:00.000000000",
          "2011-06-15T00:00:00.000000000",
          "2011-06-16T00:00:00.000000000",
          "2011-06-17T00:00:00.000000000",
          "2011-06-18T00:00:00.000000000",
          "2011-06-19T00:00:00.000000000",
          "2011-06-20T00:00:00.000000000",
          "2011-06-21T00:00:00.000000000",
          "2011-06-22T00:00:00.000000000",
          "2011-06-23T00:00:00.000000000",
          "2011-06-24T00:00:00.000000000",
          "2011-06-25T00:00:00.000000000",
          "2011-06-26T00:00:00.000000000",
          "2011-06-27T00:00:00.000000000",
          "2011-06-28T00:00:00.000000000",
          "2011-06-29T00:00:00.000000000",
          "2011-06-30T00:00:00.000000000",
          "2011-07-01T00:00:00.000000000",
          "2011-07-02T00:00:00.000000000",
          "2011-07-03T00:00:00.000000000",
          "2011-07-04T00:00:00.000000000",
          "2011-07-05T00:00:00.000000000",
          "2011-07-06T00:00:00.000000000",
          "2011-07-07T00:00:00.000000000",
          "2011-07-08T00:00:00.000000000",
          "2011-07-09T00:00:00.000000000",
          "2011-07-10T00:00:00.000000000",
          "2011-07-11T00:00:00.000000000",
          "2011-07-12T00:00:00.000000000",
          "2011-07-13T00:00:00.000000000",
          "2011-07-14T00:00:00.000000000",
          "2011-07-15T00:00:00.000000000",
          "2011-07-16T00:00:00.000000000",
          "2011-07-17T00:00:00.000000000",
          "2011-07-18T00:00:00.000000000",
          "2011-07-19T00:00:00.000000000",
          "2011-07-20T00:00:00.000000000",
          "2011-07-21T00:00:00.000000000",
          "2011-07-22T00:00:00.000000000",
          "2011-07-23T00:00:00.000000000",
          "2011-07-24T00:00:00.000000000",
          "2011-07-25T00:00:00.000000000",
          "2011-07-26T00:00:00.000000000",
          "2011-07-27T00:00:00.000000000",
          "2011-07-28T00:00:00.000000000",
          "2011-07-29T00:00:00.000000000",
          "2011-07-30T00:00:00.000000000",
          "2011-07-31T00:00:00.000000000",
          "2011-08-01T00:00:00.000000000",
          "2011-08-02T00:00:00.000000000",
          "2011-08-03T00:00:00.000000000",
          "2011-08-04T00:00:00.000000000",
          "2011-08-05T00:00:00.000000000",
          "2011-08-06T00:00:00.000000000",
          "2011-08-07T00:00:00.000000000",
          "2011-08-08T00:00:00.000000000",
          "2011-08-09T00:00:00.000000000",
          "2011-08-10T00:00:00.000000000",
          "2011-08-11T00:00:00.000000000",
          "2011-08-12T00:00:00.000000000",
          "2011-08-13T00:00:00.000000000",
          "2011-08-14T00:00:00.000000000",
          "2011-08-15T00:00:00.000000000",
          "2011-08-16T00:00:00.000000000",
          "2011-08-17T00:00:00.000000000",
          "2011-08-18T00:00:00.000000000",
          "2011-08-19T00:00:00.000000000",
          "2011-08-20T00:00:00.000000000",
          "2011-08-21T00:00:00.000000000",
          "2011-08-22T00:00:00.000000000",
          "2011-08-23T00:00:00.000000000",
          "2011-08-24T00:00:00.000000000",
          "2011-08-25T00:00:00.000000000",
          "2011-08-26T00:00:00.000000000",
          "2011-08-27T00:00:00.000000000",
          "2011-08-28T00:00:00.000000000",
          "2011-08-29T00:00:00.000000000",
          "2011-08-30T00:00:00.000000000",
          "2011-08-31T00:00:00.000000000",
          "2011-09-01T00:00:00.000000000",
          "2011-09-02T00:00:00.000000000",
          "2011-09-03T00:00:00.000000000",
          "2011-09-04T00:00:00.000000000",
          "2011-09-05T00:00:00.000000000",
          "2011-09-06T00:00:00.000000000",
          "2011-09-07T00:00:00.000000000",
          "2011-09-08T00:00:00.000000000",
          "2011-09-09T00:00:00.000000000",
          "2011-09-10T00:00:00.000000000",
          "2011-09-11T00:00:00.000000000",
          "2011-09-12T00:00:00.000000000",
          "2011-09-13T00:00:00.000000000",
          "2011-09-14T00:00:00.000000000",
          "2011-09-15T00:00:00.000000000",
          "2011-09-16T00:00:00.000000000",
          "2011-09-17T00:00:00.000000000",
          "2011-09-18T00:00:00.000000000",
          "2011-09-19T00:00:00.000000000",
          "2011-09-20T00:00:00.000000000",
          "2011-09-21T00:00:00.000000000",
          "2011-09-22T00:00:00.000000000",
          "2011-09-23T00:00:00.000000000",
          "2011-09-24T00:00:00.000000000",
          "2011-09-25T00:00:00.000000000",
          "2011-09-26T00:00:00.000000000",
          "2011-09-27T00:00:00.000000000",
          "2011-09-28T00:00:00.000000000",
          "2011-09-29T00:00:00.000000000",
          "2011-09-30T00:00:00.000000000",
          "2011-10-01T00:00:00.000000000",
          "2011-10-02T00:00:00.000000000",
          "2011-10-03T00:00:00.000000000",
          "2011-10-04T00:00:00.000000000",
          "2011-10-05T00:00:00.000000000",
          "2011-10-06T00:00:00.000000000",
          "2011-10-07T00:00:00.000000000",
          "2011-10-08T00:00:00.000000000",
          "2011-10-09T00:00:00.000000000",
          "2011-10-10T00:00:00.000000000",
          "2011-10-11T00:00:00.000000000",
          "2011-10-12T00:00:00.000000000",
          "2011-10-13T00:00:00.000000000",
          "2011-10-14T00:00:00.000000000",
          "2011-10-15T00:00:00.000000000",
          "2011-10-16T00:00:00.000000000",
          "2011-10-17T00:00:00.000000000",
          "2011-10-18T00:00:00.000000000",
          "2011-10-19T00:00:00.000000000",
          "2011-10-20T00:00:00.000000000",
          "2011-10-21T00:00:00.000000000",
          "2011-10-22T00:00:00.000000000",
          "2011-10-23T00:00:00.000000000",
          "2011-10-24T00:00:00.000000000",
          "2011-10-25T00:00:00.000000000",
          "2011-10-26T00:00:00.000000000",
          "2011-10-27T00:00:00.000000000",
          "2011-10-28T00:00:00.000000000",
          "2011-10-29T00:00:00.000000000",
          "2011-10-30T00:00:00.000000000",
          "2011-10-31T00:00:00.000000000",
          "2011-11-01T00:00:00.000000000",
          "2011-11-02T00:00:00.000000000",
          "2011-11-03T00:00:00.000000000",
          "2011-11-04T00:00:00.000000000",
          "2011-11-05T00:00:00.000000000",
          "2011-11-06T00:00:00.000000000",
          "2011-11-07T00:00:00.000000000",
          "2011-11-08T00:00:00.000000000",
          "2011-11-09T00:00:00.000000000",
          "2011-11-10T00:00:00.000000000",
          "2011-11-11T00:00:00.000000000",
          "2011-11-12T00:00:00.000000000",
          "2011-11-13T00:00:00.000000000",
          "2011-11-14T00:00:00.000000000",
          "2011-11-15T00:00:00.000000000",
          "2011-11-16T00:00:00.000000000",
          "2011-11-17T00:00:00.000000000",
          "2011-11-18T00:00:00.000000000",
          "2011-11-19T00:00:00.000000000",
          "2011-11-20T00:00:00.000000000",
          "2011-11-21T00:00:00.000000000",
          "2011-11-22T00:00:00.000000000",
          "2011-11-23T00:00:00.000000000",
          "2011-11-24T00:00:00.000000000",
          "2011-11-25T00:00:00.000000000",
          "2011-11-26T00:00:00.000000000",
          "2011-11-27T00:00:00.000000000",
          "2011-11-28T00:00:00.000000000",
          "2011-11-29T00:00:00.000000000",
          "2011-11-30T00:00:00.000000000",
          "2011-12-01T00:00:00.000000000",
          "2011-12-02T00:00:00.000000000",
          "2011-12-03T00:00:00.000000000",
          "2011-12-04T00:00:00.000000000",
          "2011-12-05T00:00:00.000000000",
          "2011-12-06T00:00:00.000000000",
          "2011-12-07T00:00:00.000000000",
          "2011-12-08T00:00:00.000000000",
          "2011-12-09T00:00:00.000000000",
          "2011-12-10T00:00:00.000000000",
          "2011-12-11T00:00:00.000000000",
          "2011-12-12T00:00:00.000000000",
          "2011-12-13T00:00:00.000000000",
          "2011-12-14T00:00:00.000000000",
          "2011-12-15T00:00:00.000000000",
          "2011-12-16T00:00:00.000000000",
          "2011-12-17T00:00:00.000000000",
          "2011-12-18T00:00:00.000000000",
          "2011-12-19T00:00:00.000000000",
          "2011-12-20T00:00:00.000000000",
          "2011-12-21T00:00:00.000000000",
          "2011-12-22T00:00:00.000000000",
          "2011-12-23T00:00:00.000000000",
          "2011-12-24T00:00:00.000000000",
          "2011-12-25T00:00:00.000000000",
          "2011-12-26T00:00:00.000000000",
          "2011-12-27T00:00:00.000000000",
          "2011-12-28T00:00:00.000000000",
          "2011-12-29T00:00:00.000000000",
          "2011-12-30T00:00:00.000000000",
          "2011-12-31T00:00:00.000000000",
          "2012-01-01T00:00:00.000000000",
          "2012-01-02T00:00:00.000000000",
          "2012-01-03T00:00:00.000000000",
          "2012-01-04T00:00:00.000000000",
          "2012-01-05T00:00:00.000000000",
          "2012-01-06T00:00:00.000000000",
          "2012-01-07T00:00:00.000000000",
          "2012-01-08T00:00:00.000000000",
          "2012-01-09T00:00:00.000000000",
          "2012-01-10T00:00:00.000000000",
          "2012-01-11T00:00:00.000000000",
          "2012-01-12T00:00:00.000000000",
          "2012-01-13T00:00:00.000000000",
          "2012-01-14T00:00:00.000000000",
          "2012-01-15T00:00:00.000000000",
          "2012-01-16T00:00:00.000000000",
          "2012-01-17T00:00:00.000000000",
          "2012-01-18T00:00:00.000000000",
          "2012-01-19T00:00:00.000000000",
          "2012-01-20T00:00:00.000000000",
          "2012-01-21T00:00:00.000000000",
          "2012-01-22T00:00:00.000000000",
          "2012-01-23T00:00:00.000000000",
          "2012-01-24T00:00:00.000000000",
          "2012-01-25T00:00:00.000000000",
          "2012-01-26T00:00:00.000000000",
          "2012-01-27T00:00:00.000000000",
          "2012-01-28T00:00:00.000000000",
          "2012-01-29T00:00:00.000000000",
          "2012-01-30T00:00:00.000000000",
          "2012-01-31T00:00:00.000000000",
          "2012-02-01T00:00:00.000000000",
          "2012-02-02T00:00:00.000000000",
          "2012-02-03T00:00:00.000000000",
          "2012-02-04T00:00:00.000000000",
          "2012-02-05T00:00:00.000000000",
          "2012-02-06T00:00:00.000000000",
          "2012-02-07T00:00:00.000000000",
          "2012-02-08T00:00:00.000000000",
          "2012-02-09T00:00:00.000000000",
          "2012-02-10T00:00:00.000000000",
          "2012-02-11T00:00:00.000000000",
          "2012-02-12T00:00:00.000000000",
          "2012-02-13T00:00:00.000000000",
          "2012-02-14T00:00:00.000000000",
          "2012-02-15T00:00:00.000000000",
          "2012-02-16T00:00:00.000000000",
          "2012-02-17T00:00:00.000000000",
          "2012-02-18T00:00:00.000000000",
          "2012-02-19T00:00:00.000000000",
          "2012-02-20T00:00:00.000000000",
          "2012-02-21T00:00:00.000000000",
          "2012-02-22T00:00:00.000000000",
          "2012-02-23T00:00:00.000000000",
          "2012-02-24T00:00:00.000000000",
          "2012-02-25T00:00:00.000000000",
          "2012-02-26T00:00:00.000000000",
          "2012-02-27T00:00:00.000000000",
          "2012-02-28T00:00:00.000000000",
          "2012-02-29T00:00:00.000000000",
          "2012-03-01T00:00:00.000000000",
          "2012-03-02T00:00:00.000000000",
          "2012-03-03T00:00:00.000000000",
          "2012-03-04T00:00:00.000000000",
          "2012-03-05T00:00:00.000000000",
          "2012-03-06T00:00:00.000000000",
          "2012-03-07T00:00:00.000000000",
          "2012-03-08T00:00:00.000000000",
          "2012-03-09T00:00:00.000000000",
          "2012-03-10T00:00:00.000000000",
          "2012-03-11T00:00:00.000000000",
          "2012-03-12T00:00:00.000000000",
          "2012-03-13T00:00:00.000000000",
          "2012-03-14T00:00:00.000000000",
          "2012-03-15T00:00:00.000000000",
          "2012-03-16T00:00:00.000000000",
          "2012-03-17T00:00:00.000000000",
          "2012-03-18T00:00:00.000000000",
          "2012-03-19T00:00:00.000000000",
          "2012-03-20T00:00:00.000000000",
          "2012-03-21T00:00:00.000000000",
          "2012-03-22T00:00:00.000000000",
          "2012-03-23T00:00:00.000000000",
          "2012-03-24T00:00:00.000000000",
          "2012-03-25T00:00:00.000000000",
          "2012-03-26T00:00:00.000000000",
          "2012-03-27T00:00:00.000000000",
          "2012-03-28T00:00:00.000000000",
          "2012-03-29T00:00:00.000000000",
          "2012-03-30T00:00:00.000000000",
          "2012-03-31T00:00:00.000000000",
          "2012-04-01T00:00:00.000000000",
          "2012-04-02T00:00:00.000000000",
          "2012-04-03T00:00:00.000000000",
          "2012-04-04T00:00:00.000000000",
          "2012-04-05T00:00:00.000000000",
          "2012-04-06T00:00:00.000000000",
          "2012-04-07T00:00:00.000000000",
          "2012-04-08T00:00:00.000000000",
          "2012-04-09T00:00:00.000000000",
          "2012-04-10T00:00:00.000000000",
          "2012-04-11T00:00:00.000000000",
          "2012-04-12T00:00:00.000000000",
          "2012-04-13T00:00:00.000000000",
          "2012-04-14T00:00:00.000000000",
          "2012-04-15T00:00:00.000000000",
          "2012-04-16T00:00:00.000000000",
          "2012-04-17T00:00:00.000000000",
          "2012-04-18T00:00:00.000000000",
          "2012-04-19T00:00:00.000000000",
          "2012-04-20T00:00:00.000000000",
          "2012-04-21T00:00:00.000000000",
          "2012-04-22T00:00:00.000000000",
          "2012-04-23T00:00:00.000000000",
          "2012-04-24T00:00:00.000000000",
          "2012-04-25T00:00:00.000000000",
          "2012-04-26T00:00:00.000000000",
          "2012-04-27T00:00:00.000000000",
          "2012-04-28T00:00:00.000000000",
          "2012-04-29T00:00:00.000000000",
          "2012-04-30T00:00:00.000000000",
          "2012-05-01T00:00:00.000000000",
          "2012-05-02T00:00:00.000000000",
          "2012-05-03T00:00:00.000000000",
          "2012-05-04T00:00:00.000000000",
          "2012-05-05T00:00:00.000000000",
          "2012-05-06T00:00:00.000000000",
          "2012-05-07T00:00:00.000000000",
          "2012-05-08T00:00:00.000000000",
          "2012-05-09T00:00:00.000000000",
          "2012-05-10T00:00:00.000000000",
          "2012-05-11T00:00:00.000000000",
          "2012-05-12T00:00:00.000000000",
          "2012-05-13T00:00:00.000000000",
          "2012-05-14T00:00:00.000000000",
          "2012-05-15T00:00:00.000000000",
          "2012-05-16T00:00:00.000000000",
          "2012-05-17T00:00:00.000000000",
          "2012-05-18T00:00:00.000000000",
          "2012-05-19T00:00:00.000000000",
          "2012-05-20T00:00:00.000000000",
          "2012-05-21T00:00:00.000000000",
          "2012-05-22T00:00:00.000000000",
          "2012-05-23T00:00:00.000000000",
          "2012-05-24T00:00:00.000000000",
          "2012-05-25T00:00:00.000000000",
          "2012-05-26T00:00:00.000000000",
          "2012-05-27T00:00:00.000000000",
          "2012-05-28T00:00:00.000000000",
          "2012-05-29T00:00:00.000000000",
          "2012-05-30T00:00:00.000000000",
          "2012-05-31T00:00:00.000000000",
          "2012-06-01T00:00:00.000000000",
          "2012-06-02T00:00:00.000000000",
          "2012-06-03T00:00:00.000000000",
          "2012-06-04T00:00:00.000000000",
          "2012-06-05T00:00:00.000000000",
          "2012-06-06T00:00:00.000000000",
          "2012-06-07T00:00:00.000000000",
          "2012-06-08T00:00:00.000000000",
          "2012-06-09T00:00:00.000000000",
          "2012-06-10T00:00:00.000000000",
          "2012-06-11T00:00:00.000000000",
          "2012-06-12T00:00:00.000000000",
          "2012-06-13T00:00:00.000000000",
          "2012-06-14T00:00:00.000000000",
          "2012-06-15T00:00:00.000000000",
          "2012-06-16T00:00:00.000000000",
          "2012-06-17T00:00:00.000000000",
          "2012-06-18T00:00:00.000000000",
          "2012-06-19T00:00:00.000000000",
          "2012-06-20T00:00:00.000000000",
          "2012-06-21T00:00:00.000000000",
          "2012-06-22T00:00:00.000000000",
          "2012-06-23T00:00:00.000000000",
          "2012-06-24T00:00:00.000000000",
          "2012-06-25T00:00:00.000000000",
          "2012-06-26T00:00:00.000000000",
          "2012-06-27T00:00:00.000000000",
          "2012-06-28T00:00:00.000000000",
          "2012-06-29T00:00:00.000000000",
          "2012-06-30T00:00:00.000000000",
          "2012-07-01T00:00:00.000000000",
          "2012-07-02T00:00:00.000000000",
          "2012-07-03T00:00:00.000000000",
          "2012-07-04T00:00:00.000000000",
          "2012-07-05T00:00:00.000000000",
          "2012-07-06T00:00:00.000000000",
          "2012-07-07T00:00:00.000000000",
          "2012-07-08T00:00:00.000000000",
          "2012-07-09T00:00:00.000000000",
          "2012-07-10T00:00:00.000000000",
          "2012-07-11T00:00:00.000000000",
          "2012-07-12T00:00:00.000000000",
          "2012-07-13T00:00:00.000000000",
          "2012-07-14T00:00:00.000000000",
          "2012-07-15T00:00:00.000000000",
          "2012-07-16T00:00:00.000000000",
          "2012-07-17T00:00:00.000000000",
          "2012-07-18T00:00:00.000000000",
          "2012-07-19T00:00:00.000000000",
          "2012-07-20T00:00:00.000000000",
          "2012-07-21T00:00:00.000000000",
          "2012-07-22T00:00:00.000000000",
          "2012-07-23T00:00:00.000000000",
          "2012-07-24T00:00:00.000000000",
          "2012-07-25T00:00:00.000000000",
          "2012-07-26T00:00:00.000000000",
          "2012-07-27T00:00:00.000000000",
          "2012-07-28T00:00:00.000000000",
          "2012-07-29T00:00:00.000000000",
          "2012-07-30T00:00:00.000000000",
          "2012-07-31T00:00:00.000000000",
          "2012-08-01T00:00:00.000000000",
          "2012-08-02T00:00:00.000000000",
          "2012-08-03T00:00:00.000000000",
          "2012-08-04T00:00:00.000000000",
          "2012-08-05T00:00:00.000000000",
          "2012-08-06T00:00:00.000000000",
          "2012-08-07T00:00:00.000000000",
          "2012-08-08T00:00:00.000000000",
          "2012-08-09T00:00:00.000000000",
          "2012-08-10T00:00:00.000000000",
          "2012-08-11T00:00:00.000000000",
          "2012-08-12T00:00:00.000000000",
          "2012-08-13T00:00:00.000000000",
          "2012-08-14T00:00:00.000000000",
          "2012-08-15T00:00:00.000000000",
          "2012-08-16T00:00:00.000000000",
          "2012-08-17T00:00:00.000000000",
          "2012-08-18T00:00:00.000000000",
          "2012-08-19T00:00:00.000000000",
          "2012-08-20T00:00:00.000000000",
          "2012-08-21T00:00:00.000000000",
          "2012-08-22T00:00:00.000000000",
          "2012-08-23T00:00:00.000000000",
          "2012-08-24T00:00:00.000000000",
          "2012-08-25T00:00:00.000000000",
          "2012-08-26T00:00:00.000000000",
          "2012-08-27T00:00:00.000000000",
          "2012-08-28T00:00:00.000000000",
          "2012-08-29T00:00:00.000000000",
          "2012-08-30T00:00:00.000000000",
          "2012-08-31T00:00:00.000000000",
          "2012-09-01T00:00:00.000000000",
          "2012-09-02T00:00:00.000000000",
          "2012-09-03T00:00:00.000000000",
          "2012-09-04T00:00:00.000000000",
          "2012-09-05T00:00:00.000000000",
          "2012-09-06T00:00:00.000000000",
          "2012-09-07T00:00:00.000000000",
          "2012-09-08T00:00:00.000000000",
          "2012-09-09T00:00:00.000000000",
          "2012-09-10T00:00:00.000000000",
          "2012-09-11T00:00:00.000000000",
          "2012-09-12T00:00:00.000000000",
          "2012-09-13T00:00:00.000000000",
          "2012-09-14T00:00:00.000000000",
          "2012-09-15T00:00:00.000000000",
          "2012-09-16T00:00:00.000000000",
          "2012-09-17T00:00:00.000000000",
          "2012-09-18T00:00:00.000000000",
          "2012-09-19T00:00:00.000000000",
          "2012-09-20T00:00:00.000000000",
          "2012-09-21T00:00:00.000000000",
          "2012-09-22T00:00:00.000000000",
          "2012-09-23T00:00:00.000000000",
          "2012-09-24T00:00:00.000000000",
          "2012-09-25T00:00:00.000000000",
          "2012-09-26T00:00:00.000000000",
          "2012-09-27T00:00:00.000000000",
          "2012-09-28T00:00:00.000000000",
          "2012-09-29T00:00:00.000000000",
          "2012-09-30T00:00:00.000000000",
          "2012-10-01T00:00:00.000000000",
          "2012-10-02T00:00:00.000000000",
          "2012-10-03T00:00:00.000000000",
          "2012-10-04T00:00:00.000000000",
          "2012-10-05T00:00:00.000000000",
          "2012-10-06T00:00:00.000000000",
          "2012-10-07T00:00:00.000000000",
          "2012-10-08T00:00:00.000000000",
          "2012-10-09T00:00:00.000000000",
          "2012-10-10T00:00:00.000000000",
          "2012-10-11T00:00:00.000000000",
          "2012-10-12T00:00:00.000000000",
          "2012-10-13T00:00:00.000000000",
          "2012-10-14T00:00:00.000000000",
          "2012-10-15T00:00:00.000000000",
          "2012-10-16T00:00:00.000000000",
          "2012-10-17T00:00:00.000000000",
          "2012-10-18T00:00:00.000000000",
          "2012-10-19T00:00:00.000000000",
          "2012-10-20T00:00:00.000000000",
          "2012-10-21T00:00:00.000000000",
          "2012-10-22T00:00:00.000000000",
          "2012-10-23T00:00:00.000000000",
          "2012-10-24T00:00:00.000000000",
          "2012-10-25T00:00:00.000000000",
          "2012-10-26T00:00:00.000000000",
          "2012-10-27T00:00:00.000000000",
          "2012-10-28T00:00:00.000000000",
          "2012-10-29T00:00:00.000000000",
          "2012-10-30T00:00:00.000000000",
          "2012-10-31T00:00:00.000000000",
          "2012-11-01T00:00:00.000000000",
          "2012-11-02T00:00:00.000000000",
          "2012-11-03T00:00:00.000000000",
          "2012-11-04T00:00:00.000000000",
          "2012-11-05T00:00:00.000000000",
          "2012-11-06T00:00:00.000000000",
          "2012-11-07T00:00:00.000000000",
          "2012-11-08T00:00:00.000000000",
          "2012-11-09T00:00:00.000000000",
          "2012-11-10T00:00:00.000000000",
          "2012-11-11T00:00:00.000000000",
          "2012-11-12T00:00:00.000000000",
          "2012-11-13T00:00:00.000000000",
          "2012-11-14T00:00:00.000000000",
          "2012-11-15T00:00:00.000000000",
          "2012-11-16T00:00:00.000000000",
          "2012-11-17T00:00:00.000000000",
          "2012-11-18T00:00:00.000000000",
          "2012-11-19T00:00:00.000000000",
          "2012-11-20T00:00:00.000000000",
          "2012-11-21T00:00:00.000000000",
          "2012-11-22T00:00:00.000000000",
          "2012-11-23T00:00:00.000000000",
          "2012-11-24T00:00:00.000000000",
          "2012-11-25T00:00:00.000000000",
          "2012-11-26T00:00:00.000000000",
          "2012-11-27T00:00:00.000000000",
          "2012-11-28T00:00:00.000000000",
          "2012-11-29T00:00:00.000000000",
          "2012-11-30T00:00:00.000000000",
          "2012-12-01T00:00:00.000000000",
          "2012-12-02T00:00:00.000000000",
          "2012-12-03T00:00:00.000000000",
          "2012-12-04T00:00:00.000000000",
          "2012-12-05T00:00:00.000000000",
          "2012-12-06T00:00:00.000000000",
          "2012-12-07T00:00:00.000000000",
          "2012-12-08T00:00:00.000000000",
          "2012-12-09T00:00:00.000000000",
          "2012-12-10T00:00:00.000000000",
          "2012-12-11T00:00:00.000000000",
          "2012-12-12T00:00:00.000000000",
          "2012-12-13T00:00:00.000000000",
          "2012-12-14T00:00:00.000000000",
          "2012-12-15T00:00:00.000000000",
          "2012-12-16T00:00:00.000000000",
          "2012-12-17T00:00:00.000000000",
          "2012-12-18T00:00:00.000000000",
          "2012-12-19T00:00:00.000000000",
          "2012-12-20T00:00:00.000000000",
          "2012-12-21T00:00:00.000000000",
          "2012-12-22T00:00:00.000000000",
          "2012-12-23T00:00:00.000000000",
          "2012-12-24T00:00:00.000000000",
          "2012-12-25T00:00:00.000000000",
          "2012-12-26T00:00:00.000000000",
          "2012-12-27T00:00:00.000000000",
          "2012-12-28T00:00:00.000000000",
          "2012-12-29T00:00:00.000000000",
          "2012-12-30T00:00:00.000000000",
          "2012-12-31T00:00:00.000000000"
         ],
         "xaxis": "x",
         "y": {
          "dtype": "i2",
          "bdata": "2QMhA0UFGgZABkYG5gW/AzYDKQXvBIoEfgWNBeAEtAToA6sCcgaHBwcG1QPaA4gFwQf6Aa8BjwRKBEgE3QVQBfYFDgasBu0DVwawBvoFRQYCBtIGwAU1BnkHFwdDCKsJbwtjBhQHUwSqBX0HDwe1BbEHYgmmBTsHVgiVBpgHHQhdAlAHVQhjB28CuQdUCHEJ/gcICJAIuAqnDC0MpwkdCI8KSQhJB6IIwAmdBuwHeQkABpUGswjMCLEMKwwDB/gKRQy/BZcJTwsUDfIHcgjDDDYMGwOgDmUNhAxoD10QkwbED18Q6Q8wESAP2g/zEcAUFw0xEWMRSQpREQASahLtEAoRwxJWEAATCRBRDckRdg8bEA8P3xE1E60WNBKyEIwRchNFEkcSlhK0EgIQjg+GD2gTwBTeFCoTxBHhEjERSw/qEWYTbBGcExsTPBS3DuwS/xOIEqoP4xKbEbYSfxNSFLkUZBIoEmkUixXyFP8TKRKbFzkSFRLwEcgP2BQRE/YPohD2ENwTohUjF7YUahG9EewQyA47DdUMFg4AD+4RMBImEQYPexHOEKoQ7RL2DeARAhPGEMkO5hD6EawSuBIpEzYQ7A7yEHUSVhLdDjkQRxQhD5YSBxcKFNYNNRJbBO4QGhJUFMIT+xN3EoQRTBMXDZYKzAcyB9gN4RS2E2kSmxKxEksOmBKfEbIQuxE5DgARuxJbCS8VkhMWEhgQQw/nElIUfQlmC/INaBHaEp0SeRMhFYcV/RPTEXAJYQs8DmEUsRPaEYwSeAljENAQ1BAdEVsQTxI2D2MKow5zAgMNVQ7kD1oQhg/OD1YPQQ7DD20QDRB1CygN4w+FDoYRYxAZB+0LQA1PDsANzQpHBgYK1wXoCvwL/wsbD2ILHQ6PDmQPHg6dDeMOIgrBAvoMJA52DLcK7gzDDZwOfQ75DbMKfwlLDaYOZAr8C6EI8wPyAiUFigT+CHcJtwu1CfYInwe8CEAJyAwCEKkRYQ1ICQ4OgQgBEI4MvQkHCfoIdwswDdwMWwwVBbkHgAnzEK4Q6w+ADbcPqwwoDp0R4xGxDjcQEAuDC8gOFxHyCvYO9w55CPkFXg1SD0kQvQs6EN4QgQo5DMEOpRLGE58NrAo9DeIQCxEqB34TegziD18NBQ10DzQTBhXZERYQLxOyFNcWqBgwGBoRnB4EFwkYzRdWGNcaqiAsDYQTthXuE0IW9RdTFVsYmRcwF3QaJBk5GTwZyRoxFNEVHhf+EiEV/hgkHdwb4hgjGg8RpRl6HOAZAwSODAEWNBiiE1kYfBCgGMQVbBYZGBUZmBjjGtcYgRhgFm0SrBl2GwUd5hcbC/sTAB3YHNcdZiDZGwcRuReMFHIaThqIGb8ZmxdvFscaqhwfELgf2R1WG1kbjxtGHTgeSh3GGQgabBP9HMMc8R0WHkIb6xOpGkMYERe/FiId6xp7GhIdpxzfGlcVNxabFVMYBBrrHGEYPxjoEkASqRmSGGAcFh1LHTkbjxeuGoIaURa/Ge4WaxHyHDYbqB3tH80a+BodGsUZwRswHJwdXRwHHKgaWBVlG2kcbh12HJoWmxiQGeMagBqzHLUd7Bu5HsURghleG88cVR6eHaUXhxQFG4AbER4hHrYc/BeyFpIX0BrIGzsYUB1YFyMgZR1XHr4efB5JHwoipRzVGukPpx0oHucfyyDjHgwdch01HuEc9xxrIekaehofEpQdoBzcHx0ftg1mFfgYCx6SHXIcxRvvGfMWbh0lHVUdMBWaH6gakhsqHQ0evxwUHaweaxEWAEgEvhViF9cWEhTzE4sUNharE8MUaBeIGcQafRj+D3cVRRVCFv0VPRJ7FQIWGhR5CUYP5Qh4Cd8Tdw+MFMsUJBZHFCkSWhjOGWEW/xSQE84VnAwyFH0VxxScFesVtxPKDukRtRWTFCAQJw7VBvsGmAP1A7kBQggXDD0FBAepCg=="
         },
         "yaxis": "y",
         "type": "bar"
        }
       ],
       "layout": {
        "template": {
         "data": {
          "histogram2dcontour": [
           {
            "type": "histogram2dcontour",
            "colorbar": {
             "outlinewidth": 0,
             "ticks": ""
            },
            "colorscale": [
             [
              0.0,
              "#0d0887"
             ],
             [
              0.1111111111111111,
              "#46039f"
             ],
             [
              0.2222222222222222,
              "#7201a8"
             ],
             [
              0.3333333333333333,
              "#9c179e"
             ],
             [
              0.4444444444444444,
              "#bd3786"
             ],
             [
              0.5555555555555556,
              "#d8576b"
             ],
             [
              0.6666666666666666,
              "#ed7953"
             ],
             [
              0.7777777777777778,
              "#fb9f3a"
             ],
             [
              0.8888888888888888,
              "#fdca26"
             ],
             [
              1.0,
              "#f0f921"
             ]
            ]
           }
          ],
          "choropleth": [
           {
            "type": "choropleth",
            "colorbar": {
             "outlinewidth": 0,
             "ticks": ""
            }
           }
          ],
          "histogram2d": [
           {
            "type": "histogram2d",
            "colorbar": {
             "outlinewidth": 0,
             "ticks": ""
            },
            "colorscale": [
             [
              0.0,
              "#0d0887"
             ],
             [
              0.1111111111111111,
              "#46039f"
             ],
             [
              0.2222222222222222,
              "#7201a8"
             ],
             [
              0.3333333333333333,
              "#9c179e"
             ],
             [
              0.4444444444444444,
              "#bd3786"
             ],
             [
              0.5555555555555556,
              "#d8576b"
             ],
             [
              0.6666666666666666,
              "#ed7953"
             ],
             [
              0.7777777777777778,
              "#fb9f3a"
             ],
             [
              0.8888888888888888,
              "#fdca26"
             ],
             [
              1.0,
              "#f0f921"
             ]
            ]
           }
          ],
          "heatmap": [
           {
            "type": "heatmap",
            "colorbar": {
             "outlinewidth": 0,
             "ticks": ""
            },
            "colorscale": [
             [
              0.0,
              "#0d0887"
             ],
             [
              0.1111111111111111,
              "#46039f"
             ],
             [
              0.2222222222222222,
              "#7201a8"
             ],
             [
              0.3333333333333333,
              "#9c179e"
             ],
             [
              0.4444444444444444,
              "#bd3786"
             ],
             [
              0.5555555555555556,
              "#d8576b"
             ],
             [
              0.6666666666666666,
              "#ed7953"
             ],
             [
              0.7777777777777778,
              "#fb9f3a"
             ],
             [
              0.8888888888888888,
              "#fdca26"
             ],
             [
              1.0,
              "#f0f921"
             ]
            ]
           }
          ],
          "contourcarpet": [
           {
            "type": "contourcarpet",
            "colorbar": {
             "outlinewidth": 0,
             "ticks": ""
            }
           }
          ],
          "contour": [
           {
            "type": "contour",
            "colorbar": {
             "outlinewidth": 0,
             "ticks": ""
            },
            "colorscale": [
             [
              0.0,
              "#0d0887"
             ],
             [
              0.1111111111111111,
              "#46039f"
             ],
             [
              0.2222222222222222,
              "#7201a8"
             ],
             [
              0.3333333333333333,
              "#9c179e"
             ],
             [
              0.4444444444444444,
              "#bd3786"
             ],
             [
              0.5555555555555556,
              "#d8576b"
             ],
             [
              0.6666666666666666,
              "#ed7953"
             ],
             [
              0.7777777777777778,
              "#fb9f3a"
             ],
             [
              0.8888888888888888,
              "#fdca26"
             ],
             [
              1.0,
              "#f0f921"
             ]
            ]
           }
          ],
          "surface": [
           {
            "type": "surface",
            "colorbar": {
             "outlinewidth": 0,
             "ticks": ""
            },
            "colorscale": [
             [
              0.0,
              "#0d0887"
             ],
             [
              0.1111111111111111,
              "#46039f"
             ],
             [
              0.2222222222222222,
              "#7201a8"
             ],
             [
              0.3333333333333333,
              "#9c179e"
             ],
             [
              0.4444444444444444,
              "#bd3786"
             ],
             [
              0.5555555555555556,
              "#d8576b"
             ],
             [
              0.6666666666666666,
              "#ed7953"
             ],
             [
              0.7777777777777778,
              "#fb9f3a"
             ],
             [
              0.8888888888888888,
              "#fdca26"
             ],
             [
              1.0,
              "#f0f921"
             ]
            ]
           }
          ],
          "mesh3d": [
           {
            "type": "mesh3d",
            "colorbar": {
             "outlinewidth": 0,
             "ticks": ""
            }
           }
          ],
          "scatter": [
           {
            "marker": {
             "line": {
              "color": "#283442"
             }
            },
            "type": "scatter"
           }
          ],
          "parcoords": [
           {
            "type": "parcoords",
            "line": {
             "colorbar": {
              "outlinewidth": 0,
              "ticks": ""
             }
            }
           }
          ],
          "scatterpolargl": [
           {
            "type": "scatterpolargl",
            "marker": {
             "colorbar": {
              "outlinewidth": 0,
              "ticks": ""
             }
            }
           }
          ],
          "bar": [
           {
            "error_x": {
             "color": "#f2f5fa"
            },
            "error_y": {
             "color": "#f2f5fa"
            },
            "marker": {
             "line": {
              "color": "rgb(17,17,17)",
              "width": 0.5
             },
             "pattern": {
              "fillmode": "overlay",
              "size": 10,
              "solidity": 0.2
             }
            },
            "type": "bar"
           }
          ],
          "scattergeo": [
           {
            "type": "scattergeo",
            "marker": {
             "colorbar": {
              "outlinewidth": 0,
              "ticks": ""
             }
            }
           }
          ],
          "scatterpolar": [
           {
            "type": "scatterpolar",
            "marker": {
             "colorbar": {
              "outlinewidth": 0,
              "ticks": ""
             }
            }
           }
          ],
          "histogram": [
           {
            "marker": {
             "pattern": {
              "fillmode": "overlay",
              "size": 10,
              "solidity": 0.2
             }
            },
            "type": "histogram"
           }
          ],
          "scattergl": [
           {
            "marker": {
             "line": {
              "color": "#283442"
             }
            },
            "type": "scattergl"
           }
          ],
          "scatter3d": [
           {
            "type": "scatter3d",
            "line": {
             "colorbar": {
              "outlinewidth": 0,
              "ticks": ""
             }
            },
            "marker": {
             "colorbar": {
              "outlinewidth": 0,
              "ticks": ""
             }
            }
           }
          ],
          "scattermap": [
           {
            "type": "scattermap",
            "marker": {
             "colorbar": {
              "outlinewidth": 0,
              "ticks": ""
             }
            }
           }
          ],
          "scattermapbox": [
           {
            "type": "scattermapbox",
            "marker": {
             "colorbar": {
              "outlinewidth": 0,
              "ticks": ""
             }
            }
           }
          ],
          "scatterternary": [
           {
            "type": "scatterternary",
            "marker": {
             "colorbar": {
              "outlinewidth": 0,
              "ticks": ""
             }
            }
           }
          ],
          "scattercarpet": [
           {
            "type": "scattercarpet",
            "marker": {
             "colorbar": {
              "outlinewidth": 0,
              "ticks": ""
             }
            }
           }
          ],
          "carpet": [
           {
            "aaxis": {
             "endlinecolor": "#A2B1C6",
             "gridcolor": "#506784",
             "linecolor": "#506784",
             "minorgridcolor": "#506784",
             "startlinecolor": "#A2B1C6"
            },
            "baxis": {
             "endlinecolor": "#A2B1C6",
             "gridcolor": "#506784",
             "linecolor": "#506784",
             "minorgridcolor": "#506784",
             "startlinecolor": "#A2B1C6"
            },
            "type": "carpet"
           }
          ],
          "table": [
           {
            "cells": {
             "fill": {
              "color": "#506784"
             },
             "line": {
              "color": "rgb(17,17,17)"
             }
            },
            "header": {
             "fill": {
              "color": "#2a3f5f"
             },
             "line": {
              "color": "rgb(17,17,17)"
             }
            },
            "type": "table"
           }
          ],
          "barpolar": [
           {
            "marker": {
             "line": {
              "color": "rgb(17,17,17)",
              "width": 0.5
             },
             "pattern": {
              "fillmode": "overlay",
              "size": 10,
              "solidity": 0.2
             }
            },
            "type": "barpolar"
           }
          ],
          "pie": [
           {
            "automargin": true,
            "type": "pie"
           }
          ]
         },
         "layout": {
          "autotypenumbers": "strict",
          "colorway": [
           "#636efa",
           "#EF553B",
           "#00cc96",
           "#ab63fa",
           "#FFA15A",
           "#19d3f3",
           "#FF6692",
           "#B6E880",
           "#FF97FF",
           "#FECB52"
          ],
          "font": {
           "color": "#f2f5fa"
          },
          "hovermode": "closest",
          "hoverlabel": {
           "align": "left"
          },
          "paper_bgcolor": "rgb(17,17,17)",
          "plot_bgcolor": "rgb(17,17,17)",
          "polar": {
           "bgcolor": "rgb(17,17,17)",
           "angularaxis": {
            "gridcolor": "#506784",
            "linecolor": "#506784",
            "ticks": ""
           },
           "radialaxis": {
            "gridcolor": "#506784",
            "linecolor": "#506784",
            "ticks": ""
           }
          },
          "ternary": {
           "bgcolor": "rgb(17,17,17)",
           "aaxis": {
            "gridcolor": "#506784",
            "linecolor": "#506784",
            "ticks": ""
           },
           "baxis": {
            "gridcolor": "#506784",
            "linecolor": "#506784",
            "ticks": ""
           },
           "caxis": {
            "gridcolor": "#506784",
            "linecolor": "#506784",
            "ticks": ""
           }
          },
          "coloraxis": {
           "colorbar": {
            "outlinewidth": 0,
            "ticks": ""
           }
          },
          "colorscale": {
           "sequential": [
            [
             0.0,
             "#0d0887"
            ],
            [
             0.1111111111111111,
             "#46039f"
            ],
            [
             0.2222222222222222,
             "#7201a8"
            ],
            [
             0.3333333333333333,
             "#9c179e"
            ],
            [
             0.4444444444444444,
             "#bd3786"
            ],
            [
             0.5555555555555556,
             "#d8576b"
            ],
            [
             0.6666666666666666,
             "#ed7953"
            ],
            [
             0.7777777777777778,
             "#fb9f3a"
            ],
            [
             0.8888888888888888,
             "#fdca26"
            ],
            [
             1.0,
             "#f0f921"
            ]
           ],
           "sequentialminus": [
            [
             0.0,
             "#0d0887"
            ],
            [
             0.1111111111111111,
             "#46039f"
            ],
            [
             0.2222222222222222,
             "#7201a8"
            ],
            [
             0.3333333333333333,
             "#9c179e"
            ],
            [
             0.4444444444444444,
             "#bd3786"
            ],
            [
             0.5555555555555556,
             "#d8576b"
            ],
            [
             0.6666666666666666,
             "#ed7953"
            ],
            [
             0.7777777777777778,
             "#fb9f3a"
            ],
            [
             0.8888888888888888,
             "#fdca26"
            ],
            [
             1.0,
             "#f0f921"
            ]
           ],
           "diverging": [
            [
             0,
             "#8e0152"
            ],
            [
             0.1,
             "#c51b7d"
            ],
            [
             0.2,
             "#de77ae"
            ],
            [
             0.3,
             "#f1b6da"
            ],
            [
             0.4,
             "#fde0ef"
            ],
            [
             0.5,
             "#f7f7f7"
            ],
            [
             0.6,
             "#e6f5d0"
            ],
            [
             0.7,
             "#b8e186"
            ],
            [
             0.8,
             "#7fbc41"
            ],
            [
             0.9,
             "#4d9221"
            ],
            [
             1,
             "#276419"
            ]
           ]
          },
          "xaxis": {
           "gridcolor": "#283442",
           "linecolor": "#506784",
           "ticks": "",
           "title": {
            "standoff": 15
           },
           "zerolinecolor": "#283442",
           "automargin": true,
           "zerolinewidth": 2
          },
          "yaxis": {
           "gridcolor": "#283442",
           "linecolor": "#506784",
           "ticks": "",
           "title": {
            "standoff": 15
           },
           "zerolinecolor": "#283442",
           "automargin": true,
           "zerolinewidth": 2
          },
          "scene": {
           "xaxis": {
            "backgroundcolor": "rgb(17,17,17)",
            "gridcolor": "#506784",
            "linecolor": "#506784",
            "showbackground": true,
            "ticks": "",
            "zerolinecolor": "#C8D4E3",
            "gridwidth": 2
           },
           "yaxis": {
            "backgroundcolor": "rgb(17,17,17)",
            "gridcolor": "#506784",
            "linecolor": "#506784",
            "showbackground": true,
            "ticks": "",
            "zerolinecolor": "#C8D4E3",
            "gridwidth": 2
           },
           "zaxis": {
            "backgroundcolor": "rgb(17,17,17)",
            "gridcolor": "#506784",
            "linecolor": "#506784",
            "showbackground": true,
            "ticks": "",
            "zerolinecolor": "#C8D4E3",
            "gridwidth": 2
           }
          },
          "shapedefaults": {
           "line": {
            "color": "#f2f5fa"
           }
          },
          "annotationdefaults": {
           "arrowcolor": "#f2f5fa",
           "arrowhead": 0,
           "arrowwidth": 1
          },
          "geo": {
           "bgcolor": "rgb(17,17,17)",
           "landcolor": "rgb(17,17,17)",
           "subunitcolor": "#506784",
           "showland": true,
           "showlakes": true,
           "lakecolor": "rgb(17,17,17)"
          },
          "title": {
           "x": 0.05
          },
          "updatemenudefaults": {
           "bgcolor": "#506784",
           "borderwidth": 0
          },
          "sliderdefaults": {
           "bgcolor": "#C8D4E3",
           "borderwidth": 1,
           "bordercolor": "rgb(17,17,17)",
           "tickwidth": 0
          },
          "mapbox": {
           "style": "dark"
          }
         }
        },
        "xaxis": {
         "anchor": "y",
         "domain": [
          0.0,
          1.0
         ],
         "title": {
          "text": "Date"
         }
        },
        "yaxis": {
         "anchor": "x",
         "domain": [
          0.0,
          1.0
         ],
         "title": {
          "text": "Rental Count"
         }
        },
        "coloraxis": {
         "colorbar": {
          "title": {
           "text": "Rental Count"
          }
         },
         "colorscale": [
          [
           0.0,
           "#0d0887"
          ],
          [
           0.1111111111111111,
           "#46039f"
          ],
          [
           0.2222222222222222,
           "#7201a8"
          ],
          [
           0.3333333333333333,
           "#9c179e"
          ],
          [
           0.4444444444444444,
           "#bd3786"
          ],
          [
           0.5555555555555556,
           "#d8576b"
          ],
          [
           0.6666666666666666,
           "#ed7953"
          ],
          [
           0.7777777777777778,
           "#fb9f3a"
          ],
          [
           0.8888888888888888,
           "#fdca26"
          ],
          [
           1.0,
           "#f0f921"
          ]
         ]
        },
        "legend": {
         "tracegroupgap": 0
        },
        "title": {
         "text": "Date vs Rental Count"
        },
        "barmode": "relative"
       },
       "config": {
        "plotlyServerURL": "https://plot.ly"
       }
      }
     },
     "metadata": {},
     "output_type": "display_data"
    }
   ],
   "execution_count": 211
  },
  {
   "metadata": {},
   "cell_type": "markdown",
   "source": "## Model Building",
   "id": "a88f4637b1a8c3df"
  },
  {
   "metadata": {
    "ExecuteTime": {
     "end_time": "2025-08-19T20:21:24.110183Z",
     "start_time": "2025-08-19T20:21:24.104107Z"
    }
   },
   "cell_type": "code",
   "source": "# dummy_df.info()",
   "id": "4ebe07bce603c9e",
   "outputs": [],
   "execution_count": 212
  },
  {
   "metadata": {
    "ExecuteTime": {
     "end_time": "2025-08-19T20:21:24.196068Z",
     "start_time": "2025-08-19T20:21:24.185Z"
    }
   },
   "cell_type": "code",
   "source": [
    "X = dummy_df.drop(['cnt','registered','casual','dteday','instant'], axis=1)\n",
    "Y = dummy_df['cnt']"
   ],
   "id": "77b7d6dd0bf8be12",
   "outputs": [],
   "execution_count": 213
  },
  {
   "metadata": {
    "ExecuteTime": {
     "end_time": "2025-08-19T20:21:24.273190Z",
     "start_time": "2025-08-19T20:21:24.262644Z"
    }
   },
   "cell_type": "code",
   "source": "X_train, X_test,Y_train,Y_test = train_test_split(X, Y, test_size=0.2, random_state=42)",
   "id": "4d80c085a7c4d783",
   "outputs": [],
   "execution_count": 214
  },
  {
   "metadata": {
    "ExecuteTime": {
     "end_time": "2025-08-19T20:21:24.397158Z",
     "start_time": "2025-08-19T20:21:24.321092Z"
    }
   },
   "cell_type": "code",
   "source": [
    "lr_model = LinearRegression()\n",
    "\n",
    "lr_model.fit(X_train, Y_train)"
   ],
   "id": "5d3b51800d553dec",
   "outputs": [
    {
     "data": {
      "text/plain": [
       "LinearRegression()"
      ],
      "text/html": [
       "<style>#sk-container-id-4 {\n",
       "  /* Definition of color scheme common for light and dark mode */\n",
       "  --sklearn-color-text: #000;\n",
       "  --sklearn-color-text-muted: #666;\n",
       "  --sklearn-color-line: gray;\n",
       "  /* Definition of color scheme for unfitted estimators */\n",
       "  --sklearn-color-unfitted-level-0: #fff5e6;\n",
       "  --sklearn-color-unfitted-level-1: #f6e4d2;\n",
       "  --sklearn-color-unfitted-level-2: #ffe0b3;\n",
       "  --sklearn-color-unfitted-level-3: chocolate;\n",
       "  /* Definition of color scheme for fitted estimators */\n",
       "  --sklearn-color-fitted-level-0: #f0f8ff;\n",
       "  --sklearn-color-fitted-level-1: #d4ebff;\n",
       "  --sklearn-color-fitted-level-2: #b3dbfd;\n",
       "  --sklearn-color-fitted-level-3: cornflowerblue;\n",
       "\n",
       "  /* Specific color for light theme */\n",
       "  --sklearn-color-text-on-default-background: var(--sg-text-color, var(--theme-code-foreground, var(--jp-content-font-color1, black)));\n",
       "  --sklearn-color-background: var(--sg-background-color, var(--theme-background, var(--jp-layout-color0, white)));\n",
       "  --sklearn-color-border-box: var(--sg-text-color, var(--theme-code-foreground, var(--jp-content-font-color1, black)));\n",
       "  --sklearn-color-icon: #696969;\n",
       "\n",
       "  @media (prefers-color-scheme: dark) {\n",
       "    /* Redefinition of color scheme for dark theme */\n",
       "    --sklearn-color-text-on-default-background: var(--sg-text-color, var(--theme-code-foreground, var(--jp-content-font-color1, white)));\n",
       "    --sklearn-color-background: var(--sg-background-color, var(--theme-background, var(--jp-layout-color0, #111)));\n",
       "    --sklearn-color-border-box: var(--sg-text-color, var(--theme-code-foreground, var(--jp-content-font-color1, white)));\n",
       "    --sklearn-color-icon: #878787;\n",
       "  }\n",
       "}\n",
       "\n",
       "#sk-container-id-4 {\n",
       "  color: var(--sklearn-color-text);\n",
       "}\n",
       "\n",
       "#sk-container-id-4 pre {\n",
       "  padding: 0;\n",
       "}\n",
       "\n",
       "#sk-container-id-4 input.sk-hidden--visually {\n",
       "  border: 0;\n",
       "  clip: rect(1px 1px 1px 1px);\n",
       "  clip: rect(1px, 1px, 1px, 1px);\n",
       "  height: 1px;\n",
       "  margin: -1px;\n",
       "  overflow: hidden;\n",
       "  padding: 0;\n",
       "  position: absolute;\n",
       "  width: 1px;\n",
       "}\n",
       "\n",
       "#sk-container-id-4 div.sk-dashed-wrapped {\n",
       "  border: 1px dashed var(--sklearn-color-line);\n",
       "  margin: 0 0.4em 0.5em 0.4em;\n",
       "  box-sizing: border-box;\n",
       "  padding-bottom: 0.4em;\n",
       "  background-color: var(--sklearn-color-background);\n",
       "}\n",
       "\n",
       "#sk-container-id-4 div.sk-container {\n",
       "  /* jupyter's `normalize.less` sets `[hidden] { display: none; }`\n",
       "     but bootstrap.min.css set `[hidden] { display: none !important; }`\n",
       "     so we also need the `!important` here to be able to override the\n",
       "     default hidden behavior on the sphinx rendered scikit-learn.org.\n",
       "     See: https://github.com/scikit-learn/scikit-learn/issues/21755 */\n",
       "  display: inline-block !important;\n",
       "  position: relative;\n",
       "}\n",
       "\n",
       "#sk-container-id-4 div.sk-text-repr-fallback {\n",
       "  display: none;\n",
       "}\n",
       "\n",
       "div.sk-parallel-item,\n",
       "div.sk-serial,\n",
       "div.sk-item {\n",
       "  /* draw centered vertical line to link estimators */\n",
       "  background-image: linear-gradient(var(--sklearn-color-text-on-default-background), var(--sklearn-color-text-on-default-background));\n",
       "  background-size: 2px 100%;\n",
       "  background-repeat: no-repeat;\n",
       "  background-position: center center;\n",
       "}\n",
       "\n",
       "/* Parallel-specific style estimator block */\n",
       "\n",
       "#sk-container-id-4 div.sk-parallel-item::after {\n",
       "  content: \"\";\n",
       "  width: 100%;\n",
       "  border-bottom: 2px solid var(--sklearn-color-text-on-default-background);\n",
       "  flex-grow: 1;\n",
       "}\n",
       "\n",
       "#sk-container-id-4 div.sk-parallel {\n",
       "  display: flex;\n",
       "  align-items: stretch;\n",
       "  justify-content: center;\n",
       "  background-color: var(--sklearn-color-background);\n",
       "  position: relative;\n",
       "}\n",
       "\n",
       "#sk-container-id-4 div.sk-parallel-item {\n",
       "  display: flex;\n",
       "  flex-direction: column;\n",
       "}\n",
       "\n",
       "#sk-container-id-4 div.sk-parallel-item:first-child::after {\n",
       "  align-self: flex-end;\n",
       "  width: 50%;\n",
       "}\n",
       "\n",
       "#sk-container-id-4 div.sk-parallel-item:last-child::after {\n",
       "  align-self: flex-start;\n",
       "  width: 50%;\n",
       "}\n",
       "\n",
       "#sk-container-id-4 div.sk-parallel-item:only-child::after {\n",
       "  width: 0;\n",
       "}\n",
       "\n",
       "/* Serial-specific style estimator block */\n",
       "\n",
       "#sk-container-id-4 div.sk-serial {\n",
       "  display: flex;\n",
       "  flex-direction: column;\n",
       "  align-items: center;\n",
       "  background-color: var(--sklearn-color-background);\n",
       "  padding-right: 1em;\n",
       "  padding-left: 1em;\n",
       "}\n",
       "\n",
       "\n",
       "/* Toggleable style: style used for estimator/Pipeline/ColumnTransformer box that is\n",
       "clickable and can be expanded/collapsed.\n",
       "- Pipeline and ColumnTransformer use this feature and define the default style\n",
       "- Estimators will overwrite some part of the style using the `sk-estimator` class\n",
       "*/\n",
       "\n",
       "/* Pipeline and ColumnTransformer style (default) */\n",
       "\n",
       "#sk-container-id-4 div.sk-toggleable {\n",
       "  /* Default theme specific background. It is overwritten whether we have a\n",
       "  specific estimator or a Pipeline/ColumnTransformer */\n",
       "  background-color: var(--sklearn-color-background);\n",
       "}\n",
       "\n",
       "/* Toggleable label */\n",
       "#sk-container-id-4 label.sk-toggleable__label {\n",
       "  cursor: pointer;\n",
       "  display: flex;\n",
       "  width: 100%;\n",
       "  margin-bottom: 0;\n",
       "  padding: 0.5em;\n",
       "  box-sizing: border-box;\n",
       "  text-align: center;\n",
       "  align-items: start;\n",
       "  justify-content: space-between;\n",
       "  gap: 0.5em;\n",
       "}\n",
       "\n",
       "#sk-container-id-4 label.sk-toggleable__label .caption {\n",
       "  font-size: 0.6rem;\n",
       "  font-weight: lighter;\n",
       "  color: var(--sklearn-color-text-muted);\n",
       "}\n",
       "\n",
       "#sk-container-id-4 label.sk-toggleable__label-arrow:before {\n",
       "  /* Arrow on the left of the label */\n",
       "  content: \"▸\";\n",
       "  float: left;\n",
       "  margin-right: 0.25em;\n",
       "  color: var(--sklearn-color-icon);\n",
       "}\n",
       "\n",
       "#sk-container-id-4 label.sk-toggleable__label-arrow:hover:before {\n",
       "  color: var(--sklearn-color-text);\n",
       "}\n",
       "\n",
       "/* Toggleable content - dropdown */\n",
       "\n",
       "#sk-container-id-4 div.sk-toggleable__content {\n",
       "  display: none;\n",
       "  text-align: left;\n",
       "  /* unfitted */\n",
       "  background-color: var(--sklearn-color-unfitted-level-0);\n",
       "}\n",
       "\n",
       "#sk-container-id-4 div.sk-toggleable__content.fitted {\n",
       "  /* fitted */\n",
       "  background-color: var(--sklearn-color-fitted-level-0);\n",
       "}\n",
       "\n",
       "#sk-container-id-4 div.sk-toggleable__content pre {\n",
       "  margin: 0.2em;\n",
       "  border-radius: 0.25em;\n",
       "  color: var(--sklearn-color-text);\n",
       "  /* unfitted */\n",
       "  background-color: var(--sklearn-color-unfitted-level-0);\n",
       "}\n",
       "\n",
       "#sk-container-id-4 div.sk-toggleable__content.fitted pre {\n",
       "  /* unfitted */\n",
       "  background-color: var(--sklearn-color-fitted-level-0);\n",
       "}\n",
       "\n",
       "#sk-container-id-4 input.sk-toggleable__control:checked~div.sk-toggleable__content {\n",
       "  /* Expand drop-down */\n",
       "  display: block;\n",
       "  width: 100%;\n",
       "  overflow: visible;\n",
       "}\n",
       "\n",
       "#sk-container-id-4 input.sk-toggleable__control:checked~label.sk-toggleable__label-arrow:before {\n",
       "  content: \"▾\";\n",
       "}\n",
       "\n",
       "/* Pipeline/ColumnTransformer-specific style */\n",
       "\n",
       "#sk-container-id-4 div.sk-label input.sk-toggleable__control:checked~label.sk-toggleable__label {\n",
       "  color: var(--sklearn-color-text);\n",
       "  background-color: var(--sklearn-color-unfitted-level-2);\n",
       "}\n",
       "\n",
       "#sk-container-id-4 div.sk-label.fitted input.sk-toggleable__control:checked~label.sk-toggleable__label {\n",
       "  background-color: var(--sklearn-color-fitted-level-2);\n",
       "}\n",
       "\n",
       "/* Estimator-specific style */\n",
       "\n",
       "/* Colorize estimator box */\n",
       "#sk-container-id-4 div.sk-estimator input.sk-toggleable__control:checked~label.sk-toggleable__label {\n",
       "  /* unfitted */\n",
       "  background-color: var(--sklearn-color-unfitted-level-2);\n",
       "}\n",
       "\n",
       "#sk-container-id-4 div.sk-estimator.fitted input.sk-toggleable__control:checked~label.sk-toggleable__label {\n",
       "  /* fitted */\n",
       "  background-color: var(--sklearn-color-fitted-level-2);\n",
       "}\n",
       "\n",
       "#sk-container-id-4 div.sk-label label.sk-toggleable__label,\n",
       "#sk-container-id-4 div.sk-label label {\n",
       "  /* The background is the default theme color */\n",
       "  color: var(--sklearn-color-text-on-default-background);\n",
       "}\n",
       "\n",
       "/* On hover, darken the color of the background */\n",
       "#sk-container-id-4 div.sk-label:hover label.sk-toggleable__label {\n",
       "  color: var(--sklearn-color-text);\n",
       "  background-color: var(--sklearn-color-unfitted-level-2);\n",
       "}\n",
       "\n",
       "/* Label box, darken color on hover, fitted */\n",
       "#sk-container-id-4 div.sk-label.fitted:hover label.sk-toggleable__label.fitted {\n",
       "  color: var(--sklearn-color-text);\n",
       "  background-color: var(--sklearn-color-fitted-level-2);\n",
       "}\n",
       "\n",
       "/* Estimator label */\n",
       "\n",
       "#sk-container-id-4 div.sk-label label {\n",
       "  font-family: monospace;\n",
       "  font-weight: bold;\n",
       "  display: inline-block;\n",
       "  line-height: 1.2em;\n",
       "}\n",
       "\n",
       "#sk-container-id-4 div.sk-label-container {\n",
       "  text-align: center;\n",
       "}\n",
       "\n",
       "/* Estimator-specific */\n",
       "#sk-container-id-4 div.sk-estimator {\n",
       "  font-family: monospace;\n",
       "  border: 1px dotted var(--sklearn-color-border-box);\n",
       "  border-radius: 0.25em;\n",
       "  box-sizing: border-box;\n",
       "  margin-bottom: 0.5em;\n",
       "  /* unfitted */\n",
       "  background-color: var(--sklearn-color-unfitted-level-0);\n",
       "}\n",
       "\n",
       "#sk-container-id-4 div.sk-estimator.fitted {\n",
       "  /* fitted */\n",
       "  background-color: var(--sklearn-color-fitted-level-0);\n",
       "}\n",
       "\n",
       "/* on hover */\n",
       "#sk-container-id-4 div.sk-estimator:hover {\n",
       "  /* unfitted */\n",
       "  background-color: var(--sklearn-color-unfitted-level-2);\n",
       "}\n",
       "\n",
       "#sk-container-id-4 div.sk-estimator.fitted:hover {\n",
       "  /* fitted */\n",
       "  background-color: var(--sklearn-color-fitted-level-2);\n",
       "}\n",
       "\n",
       "/* Specification for estimator info (e.g. \"i\" and \"?\") */\n",
       "\n",
       "/* Common style for \"i\" and \"?\" */\n",
       "\n",
       ".sk-estimator-doc-link,\n",
       "a:link.sk-estimator-doc-link,\n",
       "a:visited.sk-estimator-doc-link {\n",
       "  float: right;\n",
       "  font-size: smaller;\n",
       "  line-height: 1em;\n",
       "  font-family: monospace;\n",
       "  background-color: var(--sklearn-color-background);\n",
       "  border-radius: 1em;\n",
       "  height: 1em;\n",
       "  width: 1em;\n",
       "  text-decoration: none !important;\n",
       "  margin-left: 0.5em;\n",
       "  text-align: center;\n",
       "  /* unfitted */\n",
       "  border: var(--sklearn-color-unfitted-level-1) 1pt solid;\n",
       "  color: var(--sklearn-color-unfitted-level-1);\n",
       "}\n",
       "\n",
       ".sk-estimator-doc-link.fitted,\n",
       "a:link.sk-estimator-doc-link.fitted,\n",
       "a:visited.sk-estimator-doc-link.fitted {\n",
       "  /* fitted */\n",
       "  border: var(--sklearn-color-fitted-level-1) 1pt solid;\n",
       "  color: var(--sklearn-color-fitted-level-1);\n",
       "}\n",
       "\n",
       "/* On hover */\n",
       "div.sk-estimator:hover .sk-estimator-doc-link:hover,\n",
       ".sk-estimator-doc-link:hover,\n",
       "div.sk-label-container:hover .sk-estimator-doc-link:hover,\n",
       ".sk-estimator-doc-link:hover {\n",
       "  /* unfitted */\n",
       "  background-color: var(--sklearn-color-unfitted-level-3);\n",
       "  color: var(--sklearn-color-background);\n",
       "  text-decoration: none;\n",
       "}\n",
       "\n",
       "div.sk-estimator.fitted:hover .sk-estimator-doc-link.fitted:hover,\n",
       ".sk-estimator-doc-link.fitted:hover,\n",
       "div.sk-label-container:hover .sk-estimator-doc-link.fitted:hover,\n",
       ".sk-estimator-doc-link.fitted:hover {\n",
       "  /* fitted */\n",
       "  background-color: var(--sklearn-color-fitted-level-3);\n",
       "  color: var(--sklearn-color-background);\n",
       "  text-decoration: none;\n",
       "}\n",
       "\n",
       "/* Span, style for the box shown on hovering the info icon */\n",
       ".sk-estimator-doc-link span {\n",
       "  display: none;\n",
       "  z-index: 9999;\n",
       "  position: relative;\n",
       "  font-weight: normal;\n",
       "  right: .2ex;\n",
       "  padding: .5ex;\n",
       "  margin: .5ex;\n",
       "  width: min-content;\n",
       "  min-width: 20ex;\n",
       "  max-width: 50ex;\n",
       "  color: var(--sklearn-color-text);\n",
       "  box-shadow: 2pt 2pt 4pt #999;\n",
       "  /* unfitted */\n",
       "  background: var(--sklearn-color-unfitted-level-0);\n",
       "  border: .5pt solid var(--sklearn-color-unfitted-level-3);\n",
       "}\n",
       "\n",
       ".sk-estimator-doc-link.fitted span {\n",
       "  /* fitted */\n",
       "  background: var(--sklearn-color-fitted-level-0);\n",
       "  border: var(--sklearn-color-fitted-level-3);\n",
       "}\n",
       "\n",
       ".sk-estimator-doc-link:hover span {\n",
       "  display: block;\n",
       "}\n",
       "\n",
       "/* \"?\"-specific style due to the `<a>` HTML tag */\n",
       "\n",
       "#sk-container-id-4 a.estimator_doc_link {\n",
       "  float: right;\n",
       "  font-size: 1rem;\n",
       "  line-height: 1em;\n",
       "  font-family: monospace;\n",
       "  background-color: var(--sklearn-color-background);\n",
       "  border-radius: 1rem;\n",
       "  height: 1rem;\n",
       "  width: 1rem;\n",
       "  text-decoration: none;\n",
       "  /* unfitted */\n",
       "  color: var(--sklearn-color-unfitted-level-1);\n",
       "  border: var(--sklearn-color-unfitted-level-1) 1pt solid;\n",
       "}\n",
       "\n",
       "#sk-container-id-4 a.estimator_doc_link.fitted {\n",
       "  /* fitted */\n",
       "  border: var(--sklearn-color-fitted-level-1) 1pt solid;\n",
       "  color: var(--sklearn-color-fitted-level-1);\n",
       "}\n",
       "\n",
       "/* On hover */\n",
       "#sk-container-id-4 a.estimator_doc_link:hover {\n",
       "  /* unfitted */\n",
       "  background-color: var(--sklearn-color-unfitted-level-3);\n",
       "  color: var(--sklearn-color-background);\n",
       "  text-decoration: none;\n",
       "}\n",
       "\n",
       "#sk-container-id-4 a.estimator_doc_link.fitted:hover {\n",
       "  /* fitted */\n",
       "  background-color: var(--sklearn-color-fitted-level-3);\n",
       "}\n",
       "\n",
       ".estimator-table summary {\n",
       "    padding: .5rem;\n",
       "    font-family: monospace;\n",
       "    cursor: pointer;\n",
       "}\n",
       "\n",
       ".estimator-table details[open] {\n",
       "    padding-left: 0.1rem;\n",
       "    padding-right: 0.1rem;\n",
       "    padding-bottom: 0.3rem;\n",
       "}\n",
       "\n",
       ".estimator-table .parameters-table {\n",
       "    margin-left: auto !important;\n",
       "    margin-right: auto !important;\n",
       "}\n",
       "\n",
       ".estimator-table .parameters-table tr:nth-child(odd) {\n",
       "    background-color: #fff;\n",
       "}\n",
       "\n",
       ".estimator-table .parameters-table tr:nth-child(even) {\n",
       "    background-color: #f6f6f6;\n",
       "}\n",
       "\n",
       ".estimator-table .parameters-table tr:hover {\n",
       "    background-color: #e0e0e0;\n",
       "}\n",
       "\n",
       ".estimator-table table td {\n",
       "    border: 1px solid rgba(106, 105, 104, 0.232);\n",
       "}\n",
       "\n",
       ".user-set td {\n",
       "    color:rgb(255, 94, 0);\n",
       "    text-align: left;\n",
       "}\n",
       "\n",
       ".user-set td.value pre {\n",
       "    color:rgb(255, 94, 0) !important;\n",
       "    background-color: transparent !important;\n",
       "}\n",
       "\n",
       ".default td {\n",
       "    color: black;\n",
       "    text-align: left;\n",
       "}\n",
       "\n",
       ".user-set td i,\n",
       ".default td i {\n",
       "    color: black;\n",
       "}\n",
       "\n",
       ".copy-paste-icon {\n",
       "    background-image: url(data:image/svg+xml;base64,PHN2ZyB4bWxucz0iaHR0cDovL3d3dy53My5vcmcvMjAwMC9zdmciIHZpZXdCb3g9IjAgMCA0NDggNTEyIj48IS0tIUZvbnQgQXdlc29tZSBGcmVlIDYuNy4yIGJ5IEBmb250YXdlc29tZSAtIGh0dHBzOi8vZm9udGF3ZXNvbWUuY29tIExpY2Vuc2UgLSBodHRwczovL2ZvbnRhd2Vzb21lLmNvbS9saWNlbnNlL2ZyZWUgQ29weXJpZ2h0IDIwMjUgRm9udGljb25zLCBJbmMuLS0+PHBhdGggZD0iTTIwOCAwTDMzMi4xIDBjMTIuNyAwIDI0LjkgNS4xIDMzLjkgMTQuMWw2Ny45IDY3LjljOSA5IDE0LjEgMjEuMiAxNC4xIDMzLjlMNDQ4IDMzNmMwIDI2LjUtMjEuNSA0OC00OCA0OGwtMTkyIDBjLTI2LjUgMC00OC0yMS41LTQ4LTQ4bDAtMjg4YzAtMjYuNSAyMS41LTQ4IDQ4LTQ4ek00OCAxMjhsODAgMCAwIDY0LTY0IDAgMCAyNTYgMTkyIDAgMC0zMiA2NCAwIDAgNDhjMCAyNi41LTIxLjUgNDgtNDggNDhMNDggNTEyYy0yNi41IDAtNDgtMjEuNS00OC00OEwwIDE3NmMwLTI2LjUgMjEuNS00OCA0OC00OHoiLz48L3N2Zz4=);\n",
       "    background-repeat: no-repeat;\n",
       "    background-size: 14px 14px;\n",
       "    background-position: 0;\n",
       "    display: inline-block;\n",
       "    width: 14px;\n",
       "    height: 14px;\n",
       "    cursor: pointer;\n",
       "}\n",
       "</style><body><div id=\"sk-container-id-4\" class=\"sk-top-container\"><div class=\"sk-text-repr-fallback\"><pre>LinearRegression()</pre><b>In a Jupyter environment, please rerun this cell to show the HTML representation or trust the notebook. <br />On GitHub, the HTML representation is unable to render, please try loading this page with nbviewer.org.</b></div><div class=\"sk-container\" hidden><div class=\"sk-item\"><div class=\"sk-estimator fitted sk-toggleable\"><input class=\"sk-toggleable__control sk-hidden--visually\" id=\"sk-estimator-id-4\" type=\"checkbox\" checked><label for=\"sk-estimator-id-4\" class=\"sk-toggleable__label fitted sk-toggleable__label-arrow\"><div><div>LinearRegression</div></div><div><a class=\"sk-estimator-doc-link fitted\" rel=\"noreferrer\" target=\"_blank\" href=\"https://scikit-learn.org/1.7/modules/generated/sklearn.linear_model.LinearRegression.html\">?<span>Documentation for LinearRegression</span></a><span class=\"sk-estimator-doc-link fitted\">i<span>Fitted</span></span></div></label><div class=\"sk-toggleable__content fitted\" data-param-prefix=\"\">\n",
       "        <div class=\"estimator-table\">\n",
       "            <details>\n",
       "                <summary>Parameters</summary>\n",
       "                <table class=\"parameters-table\">\n",
       "                  <tbody>\n",
       "                    \n",
       "        <tr class=\"default\">\n",
       "            <td><i class=\"copy-paste-icon\"\n",
       "                 onclick=\"copyToClipboard('fit_intercept',\n",
       "                          this.parentElement.nextElementSibling)\"\n",
       "            ></i></td>\n",
       "            <td class=\"param\">fit_intercept&nbsp;</td>\n",
       "            <td class=\"value\">True</td>\n",
       "        </tr>\n",
       "    \n",
       "\n",
       "        <tr class=\"default\">\n",
       "            <td><i class=\"copy-paste-icon\"\n",
       "                 onclick=\"copyToClipboard('copy_X',\n",
       "                          this.parentElement.nextElementSibling)\"\n",
       "            ></i></td>\n",
       "            <td class=\"param\">copy_X&nbsp;</td>\n",
       "            <td class=\"value\">True</td>\n",
       "        </tr>\n",
       "    \n",
       "\n",
       "        <tr class=\"default\">\n",
       "            <td><i class=\"copy-paste-icon\"\n",
       "                 onclick=\"copyToClipboard('tol',\n",
       "                          this.parentElement.nextElementSibling)\"\n",
       "            ></i></td>\n",
       "            <td class=\"param\">tol&nbsp;</td>\n",
       "            <td class=\"value\">1e-06</td>\n",
       "        </tr>\n",
       "    \n",
       "\n",
       "        <tr class=\"default\">\n",
       "            <td><i class=\"copy-paste-icon\"\n",
       "                 onclick=\"copyToClipboard('n_jobs',\n",
       "                          this.parentElement.nextElementSibling)\"\n",
       "            ></i></td>\n",
       "            <td class=\"param\">n_jobs&nbsp;</td>\n",
       "            <td class=\"value\">None</td>\n",
       "        </tr>\n",
       "    \n",
       "\n",
       "        <tr class=\"default\">\n",
       "            <td><i class=\"copy-paste-icon\"\n",
       "                 onclick=\"copyToClipboard('positive',\n",
       "                          this.parentElement.nextElementSibling)\"\n",
       "            ></i></td>\n",
       "            <td class=\"param\">positive&nbsp;</td>\n",
       "            <td class=\"value\">False</td>\n",
       "        </tr>\n",
       "    \n",
       "                  </tbody>\n",
       "                </table>\n",
       "            </details>\n",
       "        </div>\n",
       "    </div></div></div></div></div><script>function copyToClipboard(text, element) {\n",
       "    // Get the parameter prefix from the closest toggleable content\n",
       "    const toggleableContent = element.closest('.sk-toggleable__content');\n",
       "    const paramPrefix = toggleableContent ? toggleableContent.dataset.paramPrefix : '';\n",
       "    const fullParamName = paramPrefix ? `${paramPrefix}${text}` : text;\n",
       "\n",
       "    const originalStyle = element.style;\n",
       "    const computedStyle = window.getComputedStyle(element);\n",
       "    const originalWidth = computedStyle.width;\n",
       "    const originalHTML = element.innerHTML.replace('Copied!', '');\n",
       "\n",
       "    navigator.clipboard.writeText(fullParamName)\n",
       "        .then(() => {\n",
       "            element.style.width = originalWidth;\n",
       "            element.style.color = 'green';\n",
       "            element.innerHTML = \"Copied!\";\n",
       "\n",
       "            setTimeout(() => {\n",
       "                element.innerHTML = originalHTML;\n",
       "                element.style = originalStyle;\n",
       "            }, 2000);\n",
       "        })\n",
       "        .catch(err => {\n",
       "            console.error('Failed to copy:', err);\n",
       "            element.style.color = 'red';\n",
       "            element.innerHTML = \"Failed!\";\n",
       "            setTimeout(() => {\n",
       "                element.innerHTML = originalHTML;\n",
       "                element.style = originalStyle;\n",
       "            }, 2000);\n",
       "        });\n",
       "    return false;\n",
       "}\n",
       "\n",
       "document.querySelectorAll('.fa-regular.fa-copy').forEach(function(element) {\n",
       "    const toggleableContent = element.closest('.sk-toggleable__content');\n",
       "    const paramPrefix = toggleableContent ? toggleableContent.dataset.paramPrefix : '';\n",
       "    const paramName = element.parentElement.nextElementSibling.textContent.trim();\n",
       "    const fullParamName = paramPrefix ? `${paramPrefix}${paramName}` : paramName;\n",
       "\n",
       "    element.setAttribute('title', fullParamName);\n",
       "});\n",
       "</script></body>"
      ]
     },
     "execution_count": 215,
     "metadata": {},
     "output_type": "execute_result"
    }
   ],
   "execution_count": 215
  },
  {
   "metadata": {},
   "cell_type": "markdown",
   "source": "## Model Evaluation",
   "id": "a334dfe2b6dfe675"
  },
  {
   "metadata": {
    "ExecuteTime": {
     "end_time": "2025-08-19T20:21:24.521319Z",
     "start_time": "2025-08-19T20:21:24.511245Z"
    }
   },
   "cell_type": "code",
   "source": "Y_pred = lr_model.predict(X_test)",
   "id": "eb761fd3aebad3cb",
   "outputs": [],
   "execution_count": 216
  },
  {
   "metadata": {
    "ExecuteTime": {
     "end_time": "2025-08-19T20:21:24.572905Z",
     "start_time": "2025-08-19T20:21:24.562995Z"
    }
   },
   "cell_type": "code",
   "source": [
    "mae = mean_absolute_error(Y_test, Y_pred)\n",
    "mse = mean_squared_error(Y_test, Y_pred)\n",
    "rmse = np.sqrt(mse)\n",
    "r2 = r2_score(Y_test, Y_pred)\n",
    "\n",
    "print(f\"Linear Regression (R²): {r2:.2f}\")\n",
    "print(f\"Mean Absolute Error (MAE): {mae:.2f} bikes\")\n",
    "print(f\"Root Mean Squared Error (RMSE): {rmse:.2f} bikes\")"
   ],
   "id": "5a729cb9d2ae7b38",
   "outputs": [
    {
     "name": "stdout",
     "output_type": "stream",
     "text": [
      "Linear Regression (R²): 0.84\n",
      "Mean Absolute Error (MAE): 583.02 bikes\n",
      "Root Mean Squared Error (RMSE): 796.46 bikes\n"
     ]
    }
   ],
   "execution_count": 217
  },
  {
   "metadata": {
    "ExecuteTime": {
     "end_time": "2025-08-19T20:21:25.304409Z",
     "start_time": "2025-08-19T20:21:24.625527Z"
    }
   },
   "cell_type": "code",
   "source": [
    "from sklearn.ensemble import RandomForestRegressor\n",
    "\n",
    "features = ['season', 'yr', 'mnth', 'holiday', 'weekday', 'workingday',\n",
    "            'weathersit', 'temp', 'hum', 'windspeed']\n",
    "X = df[features]\n",
    "y = df['cnt']\n",
    "\n",
    "X_train, X_test, y_train, y_test = train_test_split(X, y, test_size=0.2, random_state=42)\n",
    "\n",
    "rf_model = RandomForestRegressor(n_estimators=100, random_state=42)\n",
    "rf_model.fit(X_train, y_train)\n",
    "\n",
    "y_pred_rf = rf_model.predict(X_test)\n",
    "r2_rf = r2_score(y_test, y_pred_rf)\n",
    "rf_mae = mean_absolute_error(y_test, y_pred_rf)\n",
    "rf_mse = mean_squared_error(y_test, y_pred_rf)\n",
    "rf_rmse = np.sqrt(mse)\n",
    "print(f\"Random Forest R²: {r2_rf:.2f}\")\n",
    "print(f\"Mean Absolute Error (MAE): {rf_mae:.2f} bikes\")\n",
    "print(f\"Root Mean Squared Error (RMSE): {rf_rmse:.2f} bikes\")"
   ],
   "id": "70db7028ee5bde47",
   "outputs": [
    {
     "name": "stdout",
     "output_type": "stream",
     "text": [
      "Random Forest R²: 0.88\n",
      "Mean Absolute Error (MAE): 431.96 bikes\n",
      "Root Mean Squared Error (RMSE): 796.46 bikes\n"
     ]
    }
   ],
   "execution_count": 218
  },
  {
   "metadata": {
    "ExecuteTime": {
     "end_time": "2025-08-19T20:21:25.394056Z",
     "start_time": "2025-08-19T20:21:25.314971Z"
    }
   },
   "cell_type": "code",
   "source": [
    "importances = rf_model.feature_importances_\n",
    "\n",
    "feature_importance_df = pd.DataFrame({'feature': features, 'importance': importances})\n",
    "\n",
    "feature_importance_df = feature_importance_df.sort_values(by='importance', ascending=False)\n",
    "\n",
    "# plt.figure(figsize=(10, 6))\n",
    "# sns.barplot(x='importance', y='feature', data=feature_importance_df)\n",
    "# plt.title('Most Important Features for Predicting Bike Rentals')\n",
    "# plt.xlabel('Importance Score')\n",
    "# plt.ylabel('Feature')\n",
    "# plt.show()\n",
    "\n",
    "fig_imp = px.bar(\n",
    "    feature_importance_df,\n",
    "    x = 'importance',\n",
    "    y = 'feature',\n",
    "    title='Most Important Feature for Predicting Bike Rental',\n",
    "    labels={'importance': 'Importance Score', 'feature': 'Features'},\n",
    "    template='plotly_dark'\n",
    ")\n",
    "fig_imp.show()"
   ],
   "id": "74905aad15f6bce3",
   "outputs": [
    {
     "data": {
      "application/vnd.plotly.v1+json": {
       "data": [
        {
         "hovertemplate": "Importance Score=%{x}<br>Features=%{y}<extra></extra>",
         "legendgroup": "",
         "marker": {
          "color": "#636efa",
          "pattern": {
           "shape": ""
          }
         },
         "name": "",
         "orientation": "h",
         "showlegend": false,
         "textposition": "auto",
         "x": {
          "dtype": "f8",
          "bdata": "BV7QrVY13z89VPMIARDSPy4LI5OqTq8/EWnaKDUrrj/qXWtdwJGiP2R7YVNbgZ0/uC/tNQknlD/mO1gk/r2RP+zUNIM85HM/qtr4k5SeaT8="
         },
         "xaxis": "x",
         "y": [
          "temp",
          "yr",
          "hum",
          "season",
          "windspeed",
          "mnth",
          "weathersit",
          "weekday",
          "workingday",
          "holiday"
         ],
         "yaxis": "y",
         "type": "bar"
        }
       ],
       "layout": {
        "template": {
         "data": {
          "histogram2dcontour": [
           {
            "type": "histogram2dcontour",
            "colorbar": {
             "outlinewidth": 0,
             "ticks": ""
            },
            "colorscale": [
             [
              0.0,
              "#0d0887"
             ],
             [
              0.1111111111111111,
              "#46039f"
             ],
             [
              0.2222222222222222,
              "#7201a8"
             ],
             [
              0.3333333333333333,
              "#9c179e"
             ],
             [
              0.4444444444444444,
              "#bd3786"
             ],
             [
              0.5555555555555556,
              "#d8576b"
             ],
             [
              0.6666666666666666,
              "#ed7953"
             ],
             [
              0.7777777777777778,
              "#fb9f3a"
             ],
             [
              0.8888888888888888,
              "#fdca26"
             ],
             [
              1.0,
              "#f0f921"
             ]
            ]
           }
          ],
          "choropleth": [
           {
            "type": "choropleth",
            "colorbar": {
             "outlinewidth": 0,
             "ticks": ""
            }
           }
          ],
          "histogram2d": [
           {
            "type": "histogram2d",
            "colorbar": {
             "outlinewidth": 0,
             "ticks": ""
            },
            "colorscale": [
             [
              0.0,
              "#0d0887"
             ],
             [
              0.1111111111111111,
              "#46039f"
             ],
             [
              0.2222222222222222,
              "#7201a8"
             ],
             [
              0.3333333333333333,
              "#9c179e"
             ],
             [
              0.4444444444444444,
              "#bd3786"
             ],
             [
              0.5555555555555556,
              "#d8576b"
             ],
             [
              0.6666666666666666,
              "#ed7953"
             ],
             [
              0.7777777777777778,
              "#fb9f3a"
             ],
             [
              0.8888888888888888,
              "#fdca26"
             ],
             [
              1.0,
              "#f0f921"
             ]
            ]
           }
          ],
          "heatmap": [
           {
            "type": "heatmap",
            "colorbar": {
             "outlinewidth": 0,
             "ticks": ""
            },
            "colorscale": [
             [
              0.0,
              "#0d0887"
             ],
             [
              0.1111111111111111,
              "#46039f"
             ],
             [
              0.2222222222222222,
              "#7201a8"
             ],
             [
              0.3333333333333333,
              "#9c179e"
             ],
             [
              0.4444444444444444,
              "#bd3786"
             ],
             [
              0.5555555555555556,
              "#d8576b"
             ],
             [
              0.6666666666666666,
              "#ed7953"
             ],
             [
              0.7777777777777778,
              "#fb9f3a"
             ],
             [
              0.8888888888888888,
              "#fdca26"
             ],
             [
              1.0,
              "#f0f921"
             ]
            ]
           }
          ],
          "contourcarpet": [
           {
            "type": "contourcarpet",
            "colorbar": {
             "outlinewidth": 0,
             "ticks": ""
            }
           }
          ],
          "contour": [
           {
            "type": "contour",
            "colorbar": {
             "outlinewidth": 0,
             "ticks": ""
            },
            "colorscale": [
             [
              0.0,
              "#0d0887"
             ],
             [
              0.1111111111111111,
              "#46039f"
             ],
             [
              0.2222222222222222,
              "#7201a8"
             ],
             [
              0.3333333333333333,
              "#9c179e"
             ],
             [
              0.4444444444444444,
              "#bd3786"
             ],
             [
              0.5555555555555556,
              "#d8576b"
             ],
             [
              0.6666666666666666,
              "#ed7953"
             ],
             [
              0.7777777777777778,
              "#fb9f3a"
             ],
             [
              0.8888888888888888,
              "#fdca26"
             ],
             [
              1.0,
              "#f0f921"
             ]
            ]
           }
          ],
          "surface": [
           {
            "type": "surface",
            "colorbar": {
             "outlinewidth": 0,
             "ticks": ""
            },
            "colorscale": [
             [
              0.0,
              "#0d0887"
             ],
             [
              0.1111111111111111,
              "#46039f"
             ],
             [
              0.2222222222222222,
              "#7201a8"
             ],
             [
              0.3333333333333333,
              "#9c179e"
             ],
             [
              0.4444444444444444,
              "#bd3786"
             ],
             [
              0.5555555555555556,
              "#d8576b"
             ],
             [
              0.6666666666666666,
              "#ed7953"
             ],
             [
              0.7777777777777778,
              "#fb9f3a"
             ],
             [
              0.8888888888888888,
              "#fdca26"
             ],
             [
              1.0,
              "#f0f921"
             ]
            ]
           }
          ],
          "mesh3d": [
           {
            "type": "mesh3d",
            "colorbar": {
             "outlinewidth": 0,
             "ticks": ""
            }
           }
          ],
          "scatter": [
           {
            "marker": {
             "line": {
              "color": "#283442"
             }
            },
            "type": "scatter"
           }
          ],
          "parcoords": [
           {
            "type": "parcoords",
            "line": {
             "colorbar": {
              "outlinewidth": 0,
              "ticks": ""
             }
            }
           }
          ],
          "scatterpolargl": [
           {
            "type": "scatterpolargl",
            "marker": {
             "colorbar": {
              "outlinewidth": 0,
              "ticks": ""
             }
            }
           }
          ],
          "bar": [
           {
            "error_x": {
             "color": "#f2f5fa"
            },
            "error_y": {
             "color": "#f2f5fa"
            },
            "marker": {
             "line": {
              "color": "rgb(17,17,17)",
              "width": 0.5
             },
             "pattern": {
              "fillmode": "overlay",
              "size": 10,
              "solidity": 0.2
             }
            },
            "type": "bar"
           }
          ],
          "scattergeo": [
           {
            "type": "scattergeo",
            "marker": {
             "colorbar": {
              "outlinewidth": 0,
              "ticks": ""
             }
            }
           }
          ],
          "scatterpolar": [
           {
            "type": "scatterpolar",
            "marker": {
             "colorbar": {
              "outlinewidth": 0,
              "ticks": ""
             }
            }
           }
          ],
          "histogram": [
           {
            "marker": {
             "pattern": {
              "fillmode": "overlay",
              "size": 10,
              "solidity": 0.2
             }
            },
            "type": "histogram"
           }
          ],
          "scattergl": [
           {
            "marker": {
             "line": {
              "color": "#283442"
             }
            },
            "type": "scattergl"
           }
          ],
          "scatter3d": [
           {
            "type": "scatter3d",
            "line": {
             "colorbar": {
              "outlinewidth": 0,
              "ticks": ""
             }
            },
            "marker": {
             "colorbar": {
              "outlinewidth": 0,
              "ticks": ""
             }
            }
           }
          ],
          "scattermap": [
           {
            "type": "scattermap",
            "marker": {
             "colorbar": {
              "outlinewidth": 0,
              "ticks": ""
             }
            }
           }
          ],
          "scattermapbox": [
           {
            "type": "scattermapbox",
            "marker": {
             "colorbar": {
              "outlinewidth": 0,
              "ticks": ""
             }
            }
           }
          ],
          "scatterternary": [
           {
            "type": "scatterternary",
            "marker": {
             "colorbar": {
              "outlinewidth": 0,
              "ticks": ""
             }
            }
           }
          ],
          "scattercarpet": [
           {
            "type": "scattercarpet",
            "marker": {
             "colorbar": {
              "outlinewidth": 0,
              "ticks": ""
             }
            }
           }
          ],
          "carpet": [
           {
            "aaxis": {
             "endlinecolor": "#A2B1C6",
             "gridcolor": "#506784",
             "linecolor": "#506784",
             "minorgridcolor": "#506784",
             "startlinecolor": "#A2B1C6"
            },
            "baxis": {
             "endlinecolor": "#A2B1C6",
             "gridcolor": "#506784",
             "linecolor": "#506784",
             "minorgridcolor": "#506784",
             "startlinecolor": "#A2B1C6"
            },
            "type": "carpet"
           }
          ],
          "table": [
           {
            "cells": {
             "fill": {
              "color": "#506784"
             },
             "line": {
              "color": "rgb(17,17,17)"
             }
            },
            "header": {
             "fill": {
              "color": "#2a3f5f"
             },
             "line": {
              "color": "rgb(17,17,17)"
             }
            },
            "type": "table"
           }
          ],
          "barpolar": [
           {
            "marker": {
             "line": {
              "color": "rgb(17,17,17)",
              "width": 0.5
             },
             "pattern": {
              "fillmode": "overlay",
              "size": 10,
              "solidity": 0.2
             }
            },
            "type": "barpolar"
           }
          ],
          "pie": [
           {
            "automargin": true,
            "type": "pie"
           }
          ]
         },
         "layout": {
          "autotypenumbers": "strict",
          "colorway": [
           "#636efa",
           "#EF553B",
           "#00cc96",
           "#ab63fa",
           "#FFA15A",
           "#19d3f3",
           "#FF6692",
           "#B6E880",
           "#FF97FF",
           "#FECB52"
          ],
          "font": {
           "color": "#f2f5fa"
          },
          "hovermode": "closest",
          "hoverlabel": {
           "align": "left"
          },
          "paper_bgcolor": "rgb(17,17,17)",
          "plot_bgcolor": "rgb(17,17,17)",
          "polar": {
           "bgcolor": "rgb(17,17,17)",
           "angularaxis": {
            "gridcolor": "#506784",
            "linecolor": "#506784",
            "ticks": ""
           },
           "radialaxis": {
            "gridcolor": "#506784",
            "linecolor": "#506784",
            "ticks": ""
           }
          },
          "ternary": {
           "bgcolor": "rgb(17,17,17)",
           "aaxis": {
            "gridcolor": "#506784",
            "linecolor": "#506784",
            "ticks": ""
           },
           "baxis": {
            "gridcolor": "#506784",
            "linecolor": "#506784",
            "ticks": ""
           },
           "caxis": {
            "gridcolor": "#506784",
            "linecolor": "#506784",
            "ticks": ""
           }
          },
          "coloraxis": {
           "colorbar": {
            "outlinewidth": 0,
            "ticks": ""
           }
          },
          "colorscale": {
           "sequential": [
            [
             0.0,
             "#0d0887"
            ],
            [
             0.1111111111111111,
             "#46039f"
            ],
            [
             0.2222222222222222,
             "#7201a8"
            ],
            [
             0.3333333333333333,
             "#9c179e"
            ],
            [
             0.4444444444444444,
             "#bd3786"
            ],
            [
             0.5555555555555556,
             "#d8576b"
            ],
            [
             0.6666666666666666,
             "#ed7953"
            ],
            [
             0.7777777777777778,
             "#fb9f3a"
            ],
            [
             0.8888888888888888,
             "#fdca26"
            ],
            [
             1.0,
             "#f0f921"
            ]
           ],
           "sequentialminus": [
            [
             0.0,
             "#0d0887"
            ],
            [
             0.1111111111111111,
             "#46039f"
            ],
            [
             0.2222222222222222,
             "#7201a8"
            ],
            [
             0.3333333333333333,
             "#9c179e"
            ],
            [
             0.4444444444444444,
             "#bd3786"
            ],
            [
             0.5555555555555556,
             "#d8576b"
            ],
            [
             0.6666666666666666,
             "#ed7953"
            ],
            [
             0.7777777777777778,
             "#fb9f3a"
            ],
            [
             0.8888888888888888,
             "#fdca26"
            ],
            [
             1.0,
             "#f0f921"
            ]
           ],
           "diverging": [
            [
             0,
             "#8e0152"
            ],
            [
             0.1,
             "#c51b7d"
            ],
            [
             0.2,
             "#de77ae"
            ],
            [
             0.3,
             "#f1b6da"
            ],
            [
             0.4,
             "#fde0ef"
            ],
            [
             0.5,
             "#f7f7f7"
            ],
            [
             0.6,
             "#e6f5d0"
            ],
            [
             0.7,
             "#b8e186"
            ],
            [
             0.8,
             "#7fbc41"
            ],
            [
             0.9,
             "#4d9221"
            ],
            [
             1,
             "#276419"
            ]
           ]
          },
          "xaxis": {
           "gridcolor": "#283442",
           "linecolor": "#506784",
           "ticks": "",
           "title": {
            "standoff": 15
           },
           "zerolinecolor": "#283442",
           "automargin": true,
           "zerolinewidth": 2
          },
          "yaxis": {
           "gridcolor": "#283442",
           "linecolor": "#506784",
           "ticks": "",
           "title": {
            "standoff": 15
           },
           "zerolinecolor": "#283442",
           "automargin": true,
           "zerolinewidth": 2
          },
          "scene": {
           "xaxis": {
            "backgroundcolor": "rgb(17,17,17)",
            "gridcolor": "#506784",
            "linecolor": "#506784",
            "showbackground": true,
            "ticks": "",
            "zerolinecolor": "#C8D4E3",
            "gridwidth": 2
           },
           "yaxis": {
            "backgroundcolor": "rgb(17,17,17)",
            "gridcolor": "#506784",
            "linecolor": "#506784",
            "showbackground": true,
            "ticks": "",
            "zerolinecolor": "#C8D4E3",
            "gridwidth": 2
           },
           "zaxis": {
            "backgroundcolor": "rgb(17,17,17)",
            "gridcolor": "#506784",
            "linecolor": "#506784",
            "showbackground": true,
            "ticks": "",
            "zerolinecolor": "#C8D4E3",
            "gridwidth": 2
           }
          },
          "shapedefaults": {
           "line": {
            "color": "#f2f5fa"
           }
          },
          "annotationdefaults": {
           "arrowcolor": "#f2f5fa",
           "arrowhead": 0,
           "arrowwidth": 1
          },
          "geo": {
           "bgcolor": "rgb(17,17,17)",
           "landcolor": "rgb(17,17,17)",
           "subunitcolor": "#506784",
           "showland": true,
           "showlakes": true,
           "lakecolor": "rgb(17,17,17)"
          },
          "title": {
           "x": 0.05
          },
          "updatemenudefaults": {
           "bgcolor": "#506784",
           "borderwidth": 0
          },
          "sliderdefaults": {
           "bgcolor": "#C8D4E3",
           "borderwidth": 1,
           "bordercolor": "rgb(17,17,17)",
           "tickwidth": 0
          },
          "mapbox": {
           "style": "dark"
          }
         }
        },
        "xaxis": {
         "anchor": "y",
         "domain": [
          0.0,
          1.0
         ],
         "title": {
          "text": "Importance Score"
         }
        },
        "yaxis": {
         "anchor": "x",
         "domain": [
          0.0,
          1.0
         ],
         "title": {
          "text": "Features"
         }
        },
        "legend": {
         "tracegroupgap": 0
        },
        "title": {
         "text": "Most Important Feature for Predicting Bike Rental"
        },
        "barmode": "relative"
       },
       "config": {
        "plotlyServerURL": "https://plot.ly"
       }
      }
     },
     "metadata": {},
     "output_type": "display_data"
    }
   ],
   "execution_count": 219
  },
  {
   "metadata": {},
   "cell_type": "markdown",
   "source": "## Conclusion",
   "id": "5f3a08e38e31781b"
  },
  {
   "metadata": {},
   "cell_type": "markdown",
   "source": [
    "Based on the performance metrics, the recommendation is straightforward.\n",
    "\n",
    "The Random Forest model is recommended. It provided a more accurate prediction of daily bike rentals, as evidenced by its higher R2 score (explaining more of the variance in the data) and lower average error (MAE/RMSE). Its ability to capture complex, non-linear relationships makes it better suited for this problem than a simple linear model."
   ],
   "id": "d4fd19b28a32ba71"
  },
  {
   "metadata": {},
   "cell_type": "markdown",
   "source": [
    "### Linear Regression\n",
    "______\n",
    "R-squared (R²): 0.84\n",
    "\n",
    "Mean Absolute Error (MAE): 583.02 bikes\n",
    "\n",
    "Root Mean Squared Error (RMSE): 796.46 bikes"
   ],
   "id": "ea9912f6f41f5f1a"
  },
  {
   "metadata": {},
   "cell_type": "markdown",
   "source": [
    "### Random Forest\n",
    "_____\n",
    "R-squared (R²): 0.88\n",
    "\n",
    "Mean Absolute Error (MAE): 431.96 bikes\n",
    "\n",
    "Root Mean Squared Error (RMSE): 796.46 bikesm"
   ],
   "id": "601792dd7da88abf"
  },
  {
   "metadata": {},
   "cell_type": "markdown",
   "source": "### Most Important Feature",
   "id": "9804ba45a4fe9c97"
  },
  {
   "metadata": {},
   "cell_type": "markdown",
   "source": "![image.png](attachment:8e9231fc-fff9-40a8-9f0d-6163c3e46c31.png)",
   "id": "cfe3e78d37d16531",
   "attachments": {
    "8e9231fc-fff9-40a8-9f0d-6163c3e46c31.png": {
     "image/png": "[encoded data removed]"
    }
   }
  },
  {
   "metadata": {},
   "cell_type": "markdown",
   "source": "![image.png](attachment:ef67592b-1f6c-4c3f-afca-33092a7675c1.png)",
   "id": "b56701d3f2dde364",
   "attachments": {
    "3d52d195-9262-4bfa-b6d6-07d872686314.png": {
     "image/png": "[encoded data removed]"
    },
    "13823017-1be9-41a0-acae-1c21eb4145f7.png": {
     "image/png": "[encoded data removed]"
    },
    "3c39c175-5922-4352-9e6b-56acc1a7f64c.png": {
     "image/png": "[encoded data removed]"
    },
    "ef67592b-1f6c-4c3f-afca-33092a7675c1.png": {
     "image/png": "[encoded data removed]"
    }
   }
  },
  {
   "metadata": {},
   "cell_type": "markdown",
   "source": "![image.png](attachment:09c244de-0044-45c7-904c-abd60057ad98.png)",
   "id": "82b5cb7402822e50",
   "attachments": {
    "09c244de-0044-45c7-904c-abd60057ad98.png": {
     "image/png": "[encoded data removed]"
    }
   }
  },
  {
   "metadata": {},
   "cell_type": "markdown",
   "source": "As we can see in the above images the temp (temperature) and yr (year) are the two most important predictors. This makes perfect sense: people are highly influenced by the weather, and the bike-sharing service grew in popularity from 2011 to 2012.",
   "id": "bc257fc9594a31e5"
  }
 ],
 "metadata": {
  "kernelspec": {
   "display_name": "Python 3 (ipykernel)",
   "language": "python",
   "name": "python3"
  },
  "language_info": {
   "codemirror_mode": {
    "name": "ipython",
    "version": 3
   },
   "file_extension": ".py",
   "mimetype": "text/x-python",
   "name": "python",
   "nbconvert_exporter": "python",
   "pygments_lexer": "ipython3",
   "version": "3.13.7"
  }
 },
 "nbformat": 4,
 "nbformat_minor": 5
}
